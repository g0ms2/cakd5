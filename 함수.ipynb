{
 "cells": [
  {
   "cell_type": "code",
   "execution_count": 2,
   "id": "c52dd831",
   "metadata": {},
   "outputs": [
    {
     "name": "stdout",
     "output_type": "stream",
     "text": [
      "HI\n"
     ]
    }
   ],
   "source": [
    "# 입력값이 없고 결과값만 있는 함수\n",
    "def say():\n",
    "    return 'HI'\n",
    "\n",
    "a = say()\n",
    "print(a)"
   ]
  },
  {
   "cell_type": "code",
   "execution_count": 3,
   "id": "7fa3991a",
   "metadata": {},
   "outputs": [
    {
     "name": "stdout",
     "output_type": "stream",
     "text": [
      "3, 4의 합은 7입니다.\n"
     ]
    }
   ],
   "source": [
    "#입력값은 있고 결과값이 없는 함수\n",
    "#  결과값은 오직 return 명력어로만 돌려 받을 수 있음.\n",
    "def add(a,b):\n",
    "    print('%d, %d의 합은 %d입니다.' % (a,b,a + b))\n",
    "add(3,4)"
   ]
  },
  {
   "cell_type": "code",
   "execution_count": 5,
   "id": "64d55579",
   "metadata": {},
   "outputs": [
    {
     "name": "stdout",
     "output_type": "stream",
     "text": [
      "HI\n"
     ]
    }
   ],
   "source": [
    "# 입력값도 결과값도 없는 함수\n",
    "\n",
    "def say():\n",
    "    print('HI')\n",
    "    \n",
    "say()"
   ]
  },
  {
   "cell_type": "code",
   "execution_count": 8,
   "id": "195e8253",
   "metadata": {},
   "outputs": [
    {
     "name": "stdout",
     "output_type": "stream",
     "text": [
      "7\n"
     ]
    }
   ],
   "source": [
    "# 입력값, 결과값이 모두 있는 함수\n",
    "def add(a,b):\n",
    "    result = a + b\n",
    "    return result\n",
    "a= add(3,4)\n",
    "print(a)"
   ]
  },
  {
   "cell_type": "code",
   "execution_count": 9,
   "id": "59c62412",
   "metadata": {},
   "outputs": [
    {
     "name": "stdout",
     "output_type": "stream",
     "text": [
      "숫자1 : 1\n",
      "숫자2 : 2\n",
      "기호 : /\n",
      "0.5\n"
     ]
    }
   ],
   "source": [
    "def math(x, y, z):\n",
    "    if z == '*':\n",
    "        return x*y\n",
    "    elif z== '/':\n",
    "        return x/y\n",
    "    elif z== '+':\n",
    "        return x+y\n",
    "    elif z== '%':\n",
    "        return x%y\n",
    "    elif z== '^':\n",
    "        return x**y\n",
    "    elif z== '-':\n",
    "        return x-y\n",
    "    elif z== '//':\n",
    "        return x//y\n",
    "    else:\n",
    "        return\n",
    "\n",
    "print(math(int(input(\"숫자1 : \")), int(input(\"숫자2 : \")), input(\"기호 : \")))\n"
   ]
  },
  {
   "cell_type": "code",
   "execution_count": 12,
   "id": "d40a98e9",
   "metadata": {},
   "outputs": [
    {
     "data": {
      "text/plain": [
       "15"
      ]
     },
     "execution_count": 12,
     "metadata": {},
     "output_type": "execute_result"
    }
   ],
   "source": [
    "# 여러개의 입력값을 받는 함수 만들기\n",
    "# *args 처럼 입력 변수명 앞에 *를 붙이면 입력값들을 전부 모아서 튜플로 만들어 줌.\n",
    "\n",
    "def add_many(*args):\n",
    "    add = 0\n",
    "    for i in args:\n",
    "        add += i\n",
    "    return add\n",
    "\n",
    "add_many(1,2,3,4,5)"
   ]
  },
  {
   "cell_type": "code",
   "execution_count": 13,
   "id": "d6303ade",
   "metadata": {},
   "outputs": [
    {
     "name": "stdout",
     "output_type": "stream",
     "text": [
      "(7, 12)\n"
     ]
    }
   ],
   "source": [
    "# 함수의 반환 값은 언제나 하나임 - 결과 값으로 튜플 값 하나를 갖게 됨\n",
    "def add_and_mul(a,b):\n",
    "    return a+b, a*b\n",
    "\n",
    "result = add_and_mul(3,4)\n",
    "print(result)"
   ]
  },
  {
   "cell_type": "code",
   "execution_count": 1,
   "id": "60934378",
   "metadata": {},
   "outputs": [
    {
     "data": {
      "text/plain": [
       "120"
      ]
     },
     "execution_count": 1,
     "metadata": {},
     "output_type": "execute_result"
    }
   ],
   "source": [
    "def add_mul(choice, *args):\n",
    "        sum = 0\n",
    "        if choice==\"+\":\n",
    "            for i in args:\n",
    "                    sum+=i\n",
    "            return sum\n",
    "        \n",
    "        elif choice==\"-\":\n",
    "            for i in args:\n",
    "                    sum-=i\n",
    "            return sum\n",
    "        \n",
    "        elif choice==\"*\":\n",
    "            sum=1\n",
    "            for i in args:             \n",
    "                sum*=i\n",
    "            return sum\n",
    "        \n",
    "        else:\n",
    "            return print(\"입력이 잘못되었습니다.\")\n",
    "\n",
    "add_mul(\"*\",1,2,3,4,5)\n"
   ]
  },
  {
   "cell_type": "code",
   "execution_count": 14,
   "id": "45a1efa9",
   "metadata": {},
   "outputs": [],
   "source": [
    "# add_mul() 함수를 정의하여 1,2,3,4,5를 입력 값으로 적용하여 덧셈,곱셈, 연산을 수행하세요.\n",
    "def add_mul(choice, *args):\n",
    "    add = 0\n",
    "    for i in args:\n",
    "        add += i"
   ]
  },
  {
   "cell_type": "code",
   "execution_count": 1,
   "id": "4f37e2f2",
   "metadata": {},
   "outputs": [
    {
     "name": "stdout",
     "output_type": "stream",
     "text": [
      "-28\n",
      "0.0010416666666666667\n"
     ]
    }
   ],
   "source": [
    "# 과제 빼기, 나누기 멀티 계산 함수를 작성\n",
    "# ('sub', 2,4,6,8,10)\n",
    "# ('div', 2,4,6,8,10)\n",
    "\n",
    "def sub_div (choice, *args) :\n",
    "    if choice == \"sub\":\n",
    "        result = args[0]\n",
    "        for i in args : \n",
    "            result -= i\n",
    "        return result\n",
    "    elif choice == 'div':\n",
    "        result = args[0]*args[0]\n",
    "        for i in args :\n",
    "            if i == 0:\n",
    "                return print(\"오류\")\n",
    "            result /= i\n",
    "        return result \n",
    "\n",
    "print(sub_div('sub', 2,4,6,8,10))\n",
    "print(sub_div('div', 2,4,6,8,10))\n"
   ]
  },
  {
   "cell_type": "code",
   "execution_count": 2,
   "id": "74b13c29",
   "metadata": {},
   "outputs": [
    {
     "name": "stdout",
     "output_type": "stream",
     "text": [
      "-26\n",
      "0.0020833333333333333\n"
     ]
    }
   ],
   "source": [
    "def sub_div (choice, *args) :\n",
    "    if choice == \"sub\":\n",
    "        result = args[0]\n",
    "        for i in args[1:] : \n",
    "            result -= i\n",
    "        return result\n",
    "    elif choice == 'div':\n",
    "        result = args[0]*args[0]\n",
    "        for i in args[1:] :\n",
    "            if i == 0:\n",
    "                return print(\"오류\")\n",
    "            result /= i\n",
    "        return result \n",
    "\n",
    "print(sub_div('sub', 2,4,6,8,10))\n",
    "print(sub_div('div', 2,4,6,8,10))\n"
   ]
  },
  {
   "cell_type": "code",
   "execution_count": 4,
   "id": "d45e223a",
   "metadata": {},
   "outputs": [
    {
     "name": "stdout",
     "output_type": "stream",
     "text": [
      "-26\n",
      "0.0010416666666666667\n"
     ]
    }
   ],
   "source": [
    "def sub_div(math, *args):\n",
    "    re_sub=args[0]\n",
    "    re_div=args[0]\n",
    "    if math=='sub':\n",
    "        for i in range(len(args)-1):\n",
    "            re_sub-=args[i+1]\n",
    "        return re_sub\n",
    "    elif math=='div':\n",
    "        for i in range(len(args)-1):\n",
    "            re_div/=args[i+1]\n",
    "        return re_div\n",
    "    else:\n",
    "        return f'not defined expression'\n",
    "print(sub_div('sub',2,4,6,8,10))\n",
    "print(sub_div('div',2,4,6,8,10))\n"
   ]
  },
  {
   "cell_type": "code",
   "execution_count": 7,
   "id": "501c69f7",
   "metadata": {},
   "outputs": [
    {
     "name": "stdout",
     "output_type": "stream",
     "text": [
      "None\n",
      "1\n"
     ]
    }
   ],
   "source": [
    "# 함수 안에서 선언된 변수의 효력 범위\n",
    "a = 1\n",
    "def vartest(a):\n",
    "    a = a + 1\n",
    "    \n",
    "print(vartest(a))\n",
    "print(a)"
   ]
  },
  {
   "cell_type": "code",
   "execution_count": 10,
   "id": "5a99b16e",
   "metadata": {},
   "outputs": [
    {
     "name": "stdout",
     "output_type": "stream",
     "text": [
      "2\n"
     ]
    }
   ],
   "source": [
    "# 함수 안에서 함수 밖의 변수를 변경하는 방법 - return 이용\n",
    "\n",
    "a = 1\n",
    "def vartest(a):\n",
    "    a = a + 1\n",
    "    return a\n",
    "a = vartest(a)\n",
    "print(a)"
   ]
  },
  {
   "cell_type": "code",
   "execution_count": 12,
   "id": "e0de40af",
   "metadata": {},
   "outputs": [
    {
     "name": "stdout",
     "output_type": "stream",
     "text": [
      "2\n"
     ]
    }
   ],
   "source": [
    "# global 명령을 이용하는 방법\n",
    "a = 1\n",
    "def vartest():\n",
    "    global a\n",
    "    a = a + 1\n",
    "    \n",
    "vartest()\n",
    "print(a)"
   ]
  },
  {
   "cell_type": "code",
   "execution_count": 13,
   "id": "34521176",
   "metadata": {},
   "outputs": [
    {
     "data": {
      "text/plain": [
       "'C:\\\\cakd05\\\\workspace\\\\m1_programing'"
      ]
     },
     "execution_count": 13,
     "metadata": {},
     "output_type": "execute_result"
    }
   ],
   "source": [
    "%pwd"
   ]
  },
  {
   "cell_type": "code",
   "execution_count": 16,
   "id": "325984dc",
   "metadata": {},
   "outputs": [],
   "source": [
    "# 파일 읽고 쓰기\n",
    "f = open('test1.txt','w')\n",
    "f.close()"
   ]
  },
  {
   "cell_type": "code",
   "execution_count": 22,
   "id": "a277c3f5",
   "metadata": {},
   "outputs": [],
   "source": [
    "f = open('test1.txt','w')\n",
    "for i in range(1,11):\n",
    "    data = '%d번째 줄입니다.\\n' %i\n",
    "    f.write(data)\n",
    "f.close()"
   ]
  },
  {
   "cell_type": "code",
   "execution_count": 23,
   "id": "931a1200",
   "metadata": {},
   "outputs": [
    {
     "name": "stdout",
     "output_type": "stream",
     "text": [
      "1번째 줄입니다.\n",
      "\n"
     ]
    }
   ],
   "source": [
    "f = open('test1.txt','r')\n",
    "line = f.readline()\n",
    "print(line)\n",
    "f.close()"
   ]
  },
  {
   "cell_type": "code",
   "execution_count": 5,
   "id": "5b2d2ea1",
   "metadata": {},
   "outputs": [
    {
     "name": "stdout",
     "output_type": "stream",
     "text": [
      "1번째 줄입니다.\n",
      "\n",
      "2번째 줄입니다.\n",
      "\n",
      "3번째 줄입니다.\n",
      "\n",
      "4번째 줄입니다.\n",
      "\n",
      "5번째 줄입니다.\n",
      "\n",
      "6번째 줄입니다.\n",
      "\n",
      "7번째 줄입니다.\n",
      "\n",
      "8번째 줄입니다.\n",
      "\n",
      "9번째 줄입니다.\n",
      "\n",
      "10번째 줄입니다.\n",
      "\n"
     ]
    }
   ],
   "source": [
    "f = open('test1.txt','r')\n",
    "while True:\n",
    "    line = f.readline()\n",
    "    if not line: break\n",
    "    print(line)\n",
    "f.close()"
   ]
  },
  {
   "cell_type": "code",
   "execution_count": 7,
   "id": "78a8d875",
   "metadata": {},
   "outputs": [
    {
     "name": "stdout",
     "output_type": "stream",
     "text": [
      "1번째 줄입니다.\n",
      "2번째 줄입니다.\n",
      "3번째 줄입니다.\n",
      "4번째 줄입니다.\n",
      "5번째 줄입니다.\n",
      "6번째 줄입니다.\n",
      "7번째 줄입니다.\n",
      "8번째 줄입니다.\n",
      "9번째 줄입니다.\n",
      "10번째 줄입니다.\n",
      "\n"
     ]
    }
   ],
   "source": [
    "# f.read()는 파일 내용 전체를 문자열로 반환\n",
    "f = open('test1.txt','r')\n",
    "data = f.read()\n",
    "print(data)\n",
    "f.close()"
   ]
  },
  {
   "cell_type": "code",
   "execution_count": 9,
   "id": "4ef0489e",
   "metadata": {},
   "outputs": [],
   "source": [
    "f = open('test1.txt','a')\n",
    "for i in range(11,16):\n",
    "    data = '%d번째 줄입니다.\\n' %i\n",
    "    f.write(data)\n",
    "f.close()"
   ]
  },
  {
   "cell_type": "code",
   "execution_count": 10,
   "id": "d5794061",
   "metadata": {},
   "outputs": [
    {
     "name": "stdout",
     "output_type": "stream",
     "text": [
      "1번째 줄입니다.\n",
      "2번째 줄입니다.\n",
      "3번째 줄입니다.\n",
      "4번째 줄입니다.\n",
      "5번째 줄입니다.\n",
      "6번째 줄입니다.\n",
      "7번째 줄입니다.\n",
      "8번째 줄입니다.\n",
      "9번째 줄입니다.\n",
      "10번째 줄입니다.\n",
      "11번째 줄입니다.\n",
      "12번째 줄입니다.\n",
      "13번째 줄입니다.\n",
      "14번째 줄입니다.\n",
      "15번째 줄입니다.\n",
      "11번째 줄입니다.\n",
      "12번째 줄입니다.\n",
      "13번째 줄입니다.\n",
      "14번째 줄입니다.\n",
      "15번째 줄입니다.\n",
      "\n"
     ]
    }
   ],
   "source": [
    "f = open('test1.txt','r')\n",
    "data = f.read()\n",
    "print(data)\n",
    "f.close()"
   ]
  },
  {
   "cell_type": "code",
   "execution_count": 11,
   "id": "7a9c4f5c",
   "metadata": {},
   "outputs": [],
   "source": [
    "# with문과 같이 사용\n",
    "with open('foo.txt','w') as f:\n",
    "    f.write('파이썬을 배웁시다.')"
   ]
  },
  {
   "cell_type": "code",
   "execution_count": 12,
   "id": "a34fd308",
   "metadata": {},
   "outputs": [
    {
     "name": "stdout",
     "output_type": "stream",
     "text": [
      "파이썬을 배웁시다.\n"
     ]
    }
   ],
   "source": [
    "with open('foo.txt','r') as f:\n",
    "    data = f.read()\n",
    "    print(data)"
   ]
  },
  {
   "cell_type": "code",
   "execution_count": 39,
   "id": "71939c3d",
   "metadata": {},
   "outputs": [],
   "source": [
    "with open('test1.txt','w') as f:\n",
    "    for i in range(1,11):\n",
    "        data = f'{i}번째 줄입니다.\\n'\n",
    "        f.write(data)"
   ]
  },
  {
   "cell_type": "code",
   "execution_count": 40,
   "id": "9163ee49",
   "metadata": {},
   "outputs": [
    {
     "name": "stdout",
     "output_type": "stream",
     "text": [
      "1번째 줄입니다.\n",
      "2번째 줄입니다.\n",
      "3번째 줄입니다.\n",
      "4번째 줄입니다.\n",
      "5번째 줄입니다.\n",
      "6번째 줄입니다.\n",
      "7번째 줄입니다.\n",
      "8번째 줄입니다.\n",
      "9번째 줄입니다.\n",
      "10번째 줄입니다.\n",
      "\n"
     ]
    }
   ],
   "source": [
    "with open('test1.txt','r') as f:\n",
    "    data = f.read()\n",
    "    print(data)"
   ]
  },
  {
   "cell_type": "code",
   "execution_count": 27,
   "id": "7e67fba4",
   "metadata": {},
   "outputs": [
    {
     "name": "stdout",
     "output_type": "stream",
     "text": [
      "3\n",
      "False\n",
      "True\n",
      "a\n"
     ]
    }
   ],
   "source": [
    "# 내장함수\n",
    "print(abs(-3))\n",
    "print(all([1,2,3,0])) # x가 모두 참이면 True, 거짓이 하나라도 있으면 False\n",
    "print(any([1,2,3,0])) # x가 하나라도 참이면 True, 모두 거짓이면 False\n",
    "print(chr(97))"
   ]
  },
  {
   "cell_type": "code",
   "execution_count": 29,
   "id": "d467feac",
   "metadata": {},
   "outputs": [
    {
     "data": {
      "text/plain": [
       "7"
      ]
     },
     "execution_count": 29,
     "metadata": {},
     "output_type": "execute_result"
    }
   ],
   "source": [
    "sum = lambda a,b: a+b\n",
    "sum(3,4)"
   ]
  },
  {
   "cell_type": "code",
   "execution_count": 31,
   "id": "feab1d6c",
   "metadata": {},
   "outputs": [
    {
     "name": "stdout",
     "output_type": "stream",
     "text": [
      "7\n",
      "12\n"
     ]
    }
   ],
   "source": [
    "myList = [lambda a,b:a+b, lambda a,b:a*b]\n",
    "print(myList[0](3,4))\n",
    "print(myList[1](3,4))"
   ]
  },
  {
   "cell_type": "code",
   "execution_count": 33,
   "id": "e231ef14",
   "metadata": {},
   "outputs": [
    {
     "name": "stdout",
     "output_type": "stream",
     "text": [
      "6\n",
      "3\n",
      "3\n"
     ]
    }
   ],
   "source": [
    "print(len('python'))\n",
    "print(len([1,2,3]))\n",
    "print(len([1,2,'a']))"
   ]
  },
  {
   "cell_type": "code",
   "execution_count": 38,
   "id": "a74c7714",
   "metadata": {},
   "outputs": [
    {
     "data": {
      "text/plain": [
       "[0, -1, -2, -3, -4, -5, -6, -7, -8, -9]"
      ]
     },
     "execution_count": 38,
     "metadata": {},
     "output_type": "execute_result"
    }
   ],
   "source": [
    "list(range(5))\n",
    "list(range(1,6))\n",
    "list(range(1,10, 2))\n",
    "list(range(0, -10, -1))"
   ]
  },
  {
   "cell_type": "code",
   "execution_count": 41,
   "id": "0312c4b0",
   "metadata": {},
   "outputs": [
    {
     "name": "stdout",
     "output_type": "stream",
     "text": [
      "(2, 1)\n"
     ]
    }
   ],
   "source": [
    "print(divmod(7,3))"
   ]
  },
  {
   "cell_type": "code",
   "execution_count": 43,
   "id": "6c95ec80",
   "metadata": {},
   "outputs": [
    {
     "name": "stdout",
     "output_type": "stream",
     "text": [
      "0 james\n",
      "1 tom\n",
      "2 susan\n"
     ]
    }
   ],
   "source": [
    "# 순서가 있는 자료형을 입력으로 받아 인덱스 값을 포함한 enumerate 객체를 리턴\n",
    "for i, name in enumerate(['james','tom','susan']):\n",
    "    print(i,name)"
   ]
  },
  {
   "cell_type": "code",
   "execution_count": 44,
   "id": "9be7da32",
   "metadata": {},
   "outputs": [
    {
     "name": "stdout",
     "output_type": "stream",
     "text": [
      "3\n"
     ]
    }
   ],
   "source": [
    "# 실행 가능한 문자열 입력으로 받아 문자열을 실핸한 결과값을 리턴\n",
    "print(eval('1+2'))"
   ]
  },
  {
   "cell_type": "code",
   "execution_count": 45,
   "id": "7937ba90",
   "metadata": {},
   "outputs": [
    {
     "data": {
      "text/plain": [
       "[5, 4, 3, 2, 1, 0]"
      ]
     },
     "execution_count": 45,
     "metadata": {},
     "output_type": "execute_result"
    }
   ],
   "source": [
    "li = [0,1,2,3,5,4]\n",
    "li.sort(reverse=True)\n",
    "li"
   ]
  },
  {
   "cell_type": "code",
   "execution_count": 47,
   "id": "df4735b3",
   "metadata": {},
   "outputs": [
    {
     "name": "stdout",
     "output_type": "stream",
     "text": [
      "[0, 1, 2, 4, 5]\n"
     ]
    },
    {
     "data": {
      "text/plain": [
       "[0, 2, 1, 5, 4]"
      ]
     },
     "execution_count": 47,
     "metadata": {},
     "output_type": "execute_result"
    }
   ],
   "source": [
    "# 정렬된 결과를 반환하는 함수는 본체는 변형되지 않는다.\n",
    "li = [0,2,1,5,4]\n",
    "s = sorted(li)\n",
    "print(s)\n",
    "li"
   ]
  },
  {
   "cell_type": "code",
   "execution_count": 2,
   "id": "8f5fea8e",
   "metadata": {},
   "outputs": [],
   "source": [
    "# 외장함수 : 전 세계 파이썬 사용자들이 만든 유용한 프로그램을 모아 놓은 파이썬 라이브러리. 파이썬을 설치할 때 자동으로 설치가 됨.\n",
    "# pickle은 객체의 형태를 유지하면서 파일에 저장하고 불러올 수 있게 하는 모듈\n",
    "\n",
    "import pickle\n",
    "f = open('13.txt', 'wb')\n",
    "data = {1:'python', 2:'you need'}\n",
    "pickle.dump(data,f)\n",
    "f.close()"
   ]
  },
  {
   "cell_type": "code",
   "execution_count": 3,
   "id": "fb1c9e5a",
   "metadata": {},
   "outputs": [
    {
     "name": "stdout",
     "output_type": "stream",
     "text": [
      "{1: 'python', 2: 'you need'}\n"
     ]
    }
   ],
   "source": [
    "import pickle\n",
    "f = open('13.txt','rb')\n",
    "data = pickle.load(f)\n",
    "print(data)\n",
    "f.close()"
   ]
  },
  {
   "cell_type": "code",
   "execution_count": 50,
   "id": "efeb5b80",
   "metadata": {},
   "outputs": [
    {
     "data": {
      "text/plain": [
       "'C:\\\\Users\\\\admin\\\\Anaconda3\\\\envs\\\\cakd5;C:\\\\Users\\\\admin\\\\Anaconda3\\\\envs\\\\cakd5\\\\Library\\\\mingw-w64\\\\bin;C:\\\\Users\\\\admin\\\\Anaconda3\\\\envs\\\\cakd5\\\\Library\\\\usr\\\\bin;C:\\\\Users\\\\admin\\\\Anaconda3\\\\envs\\\\cakd5\\\\Library\\\\bin;C:\\\\Users\\\\admin\\\\Anaconda3\\\\envs\\\\cakd5\\\\Scripts;C:\\\\WINDOWS\\\\system32;C:\\\\WINDOWS;C:\\\\WINDOWS\\\\System32\\\\Wbem;C:\\\\WINDOWS\\\\System32\\\\WindowsPowerShell\\\\v1.0\\\\;C:\\\\WINDOWS\\\\System32\\\\OpenSSH\\\\;C:\\\\Users\\\\admin\\\\Anaconda3;C:\\\\Users\\\\admin\\\\Anaconda3\\\\Scripts;C:\\\\Users\\\\admin\\\\Anaconda3\\\\Library\\\\bin;C:\\\\Users\\\\admin\\\\Anaconda3\\\\Library\\\\mingw-w64\\\\bin;C:\\\\Users\\\\admin\\\\AppData\\\\Local\\\\Microsoft\\\\WindowsApps;'"
      ]
     },
     "execution_count": 50,
     "metadata": {},
     "output_type": "execute_result"
    }
   ],
   "source": [
    "import os\n",
    "os.environ['PATH']"
   ]
  },
  {
   "cell_type": "code",
   "execution_count": 51,
   "id": "1889f3f7",
   "metadata": {},
   "outputs": [
    {
     "data": {
      "text/plain": [
       "'C:\\\\cakd05\\\\workspace\\\\m1_programing'"
      ]
     },
     "execution_count": 51,
     "metadata": {},
     "output_type": "execute_result"
    }
   ],
   "source": [
    "%pwd"
   ]
  },
  {
   "cell_type": "code",
   "execution_count": 52,
   "id": "ca903e6f",
   "metadata": {},
   "outputs": [],
   "source": [
    "# 폴더변경\n",
    "os.chdir('C:\\cakd05\\workspace')"
   ]
  },
  {
   "cell_type": "code",
   "execution_count": 53,
   "id": "b80d21a1",
   "metadata": {},
   "outputs": [
    {
     "data": {
      "text/plain": [
       "'C:\\\\cakd05\\\\workspace'"
      ]
     },
     "execution_count": 53,
     "metadata": {},
     "output_type": "execute_result"
    }
   ],
   "source": [
    "%pwd"
   ]
  },
  {
   "cell_type": "code",
   "execution_count": 54,
   "id": "bab33e51",
   "metadata": {},
   "outputs": [],
   "source": [
    "os.chdir('C:\\cakd05\\workspace\\m1_programing')"
   ]
  },
  {
   "cell_type": "code",
   "execution_count": 55,
   "id": "c48fce94",
   "metadata": {},
   "outputs": [
    {
     "data": {
      "text/plain": [
       "'C:\\\\cakd05\\\\workspace\\\\m1_programing'"
      ]
     },
     "execution_count": 55,
     "metadata": {},
     "output_type": "execute_result"
    }
   ],
   "source": [
    "%pwd"
   ]
  },
  {
   "cell_type": "code",
   "execution_count": 56,
   "id": "43c8a796",
   "metadata": {},
   "outputs": [
    {
     "data": {
      "text/plain": [
       "'C:\\\\cakd05\\\\workspace\\\\m1_programing'"
      ]
     },
     "execution_count": 56,
     "metadata": {},
     "output_type": "execute_result"
    }
   ],
   "source": [
    "os.getcwd()"
   ]
  },
  {
   "cell_type": "code",
   "execution_count": 57,
   "id": "c899a5e0",
   "metadata": {},
   "outputs": [
    {
     "name": "stdout",
     "output_type": "stream",
     "text": [
      " C 드라이브의 볼륨에는 이름이 없습니다.\n",
      " 볼륨 일련 번호: C2AB-4857\n",
      "\n",
      " C:\\cakd05\\workspace\\m1_programing 디렉터리\n",
      "\n",
      "2021-12-31  오후 12:20    <DIR>          .\n",
      "2021-12-31  오후 12:20    <DIR>          ..\n",
      "2021-12-31  오전 11:03    <DIR>          .ipynb_checkpoints\n",
      "2021-12-31  오전 11:29                18 foo.txt\n",
      "2021-12-31  오전 11:36               171 gon.txt\n",
      "2021-12-28  오후 04:53             2,335 jupyter notebook 사용법.ipynb\n",
      "2021-12-31  오후 12:16               236 test.txt\n",
      "2021-12-31  오전 11:58               171 test1.txt\n",
      "2021-12-30  오전 10:50             4,549 과제 1229.ipynb\n",
      "2021-12-30  오후 04:22             5,049 과제 1230.ipynb\n",
      "2021-12-31  오전 11:05               589 과제 1231.ipynb\n",
      "2021-12-31  오전 10:31           214,158 기초.ipynb\n",
      "2021-12-28  오후 04:18            94,995 매직명령어.jpg\n",
      "2021-12-31  오후 12:20            21,456 함수.ipynb\n",
      "              11개 파일             343,727 바이트\n",
      "               3개 디렉터리  947,794,067,456 바이트 남음\n"
     ]
    }
   ],
   "source": [
    "!dir"
   ]
  },
  {
   "cell_type": "code",
   "execution_count": 59,
   "id": "c6ddfa30",
   "metadata": {},
   "outputs": [],
   "source": [
    "os.rename('gon.txt','xon.txt')"
   ]
  },
  {
   "cell_type": "code",
   "execution_count": 60,
   "id": "6b2f59c4",
   "metadata": {},
   "outputs": [
    {
     "name": "stdout",
     "output_type": "stream",
     "text": [
      " C 드라이브의 볼륨에는 이름이 없습니다.\n",
      " 볼륨 일련 번호: C2AB-4857\n",
      "\n",
      " C:\\cakd05\\workspace\\m1_programing 디렉터리\n",
      "\n",
      "2021-12-31  오후 12:24    <DIR>          .\n",
      "2021-12-31  오후 12:24    <DIR>          ..\n",
      "2021-12-31  오전 11:03    <DIR>          .ipynb_checkpoints\n",
      "2021-12-31  오전 11:29                18 foo.txt\n",
      "2021-12-28  오후 04:53             2,335 jupyter notebook 사용법.ipynb\n",
      "2021-12-31  오후 12:16               236 test.txt\n",
      "2021-12-31  오전 11:58               171 test1.txt\n",
      "2021-12-31  오전 11:36               171 xon.txt\n",
      "2021-12-30  오전 10:50             4,549 과제 1229.ipynb\n",
      "2021-12-30  오후 04:22             5,049 과제 1230.ipynb\n",
      "2021-12-31  오전 11:05               589 과제 1231.ipynb\n",
      "2021-12-31  오전 10:31           214,158 기초.ipynb\n",
      "2021-12-28  오후 04:18            94,995 매직명령어.jpg\n",
      "2021-12-31  오후 12:22            24,392 함수.ipynb\n",
      "              11개 파일             346,663 바이트\n",
      "               3개 디렉터리  947,792,392,192 바이트 남음\n"
     ]
    }
   ],
   "source": [
    "!dir"
   ]
  },
  {
   "cell_type": "code",
   "execution_count": 61,
   "id": "b249d5ca",
   "metadata": {},
   "outputs": [
    {
     "data": {
      "text/plain": [
       "['C:\\\\cakd05\\\\workspace\\\\m1_programing\\\\foo.txt',\n",
       " 'C:\\\\cakd05\\\\workspace\\\\m1_programing\\\\test.txt',\n",
       " 'C:\\\\cakd05\\\\workspace\\\\m1_programing\\\\test1.txt',\n",
       " 'C:\\\\cakd05\\\\workspace\\\\m1_programing\\\\xon.txt']"
      ]
     },
     "execution_count": 61,
     "metadata": {},
     "output_type": "execute_result"
    }
   ],
   "source": [
    "# glob() 함수는 인자로 받은 패턴과 이름이 일치하는 모든 파일과 디렉토리의 리스트를 반환\n",
    "import glob\n",
    "glob.glob('C:\\cakd05\\workspace\\m1_programing/*.txt')"
   ]
  },
  {
   "cell_type": "code",
   "execution_count": 64,
   "id": "4a6b814b",
   "metadata": {},
   "outputs": [
    {
     "data": {
      "text/plain": [
       "1640921477.8828394"
      ]
     },
     "execution_count": 64,
     "metadata": {},
     "output_type": "execute_result"
    }
   ],
   "source": [
    "import time \n",
    "time.time()"
   ]
  },
  {
   "cell_type": "code",
   "execution_count": 65,
   "id": "ccfc009d",
   "metadata": {},
   "outputs": [
    {
     "data": {
      "text/plain": [
       "time.struct_time(tm_year=2021, tm_mon=12, tm_mday=31, tm_hour=12, tm_min=32, tm_sec=6, tm_wday=4, tm_yday=365, tm_isdst=0)"
      ]
     },
     "execution_count": 65,
     "metadata": {},
     "output_type": "execute_result"
    }
   ],
   "source": [
    "time.localtime(time.time())"
   ]
  },
  {
   "cell_type": "code",
   "execution_count": 66,
   "id": "e7ef8c51",
   "metadata": {},
   "outputs": [
    {
     "data": {
      "text/plain": [
       "'Fri Dec 31 12:32:58 2021'"
      ]
     },
     "execution_count": 66,
     "metadata": {},
     "output_type": "execute_result"
    }
   ],
   "source": [
    "time.asctime(time.localtime(time.time()))"
   ]
  },
  {
   "cell_type": "code",
   "execution_count": 68,
   "id": "7fa6a5d6",
   "metadata": {},
   "outputs": [
    {
     "name": "stdout",
     "output_type": "stream",
     "text": [
      "0\n",
      "1\n",
      "2\n"
     ]
    }
   ],
   "source": [
    "# time.sleep() : 일정한 시간 간격을 두고 루프를 실행할 수 있음\n",
    "\n",
    "import time\n",
    "for i in range(3):\n",
    "    print(i)\n",
    "    time.sleep(1)"
   ]
  },
  {
   "cell_type": "code",
   "execution_count": 69,
   "id": "c4b768b8",
   "metadata": {},
   "outputs": [
    {
     "name": "stdout",
     "output_type": "stream",
     "text": [
      "   December 2021\n",
      "Mo Tu We Th Fr Sa Su\n",
      "       1  2  3  4  5\n",
      " 6  7  8  9 10 11 12\n",
      "13 14 15 16 17 18 19\n",
      "20 21 22 23 24 25 26\n",
      "27 28 29 30 31\n",
      "None\n"
     ]
    }
   ],
   "source": [
    "import calendar\n",
    "print(calendar.prmonth(2021,12))"
   ]
  },
  {
   "cell_type": "code",
   "execution_count": 70,
   "id": "5e24a2cf",
   "metadata": {},
   "outputs": [
    {
     "name": "stdout",
     "output_type": "stream",
     "text": [
      "4\n"
     ]
    }
   ],
   "source": [
    "#요일(0 월요일 ~ 6 일요일)\n",
    "print(calendar.weekday(2021,12,31))"
   ]
  },
  {
   "cell_type": "code",
   "execution_count": 71,
   "id": "887f5524",
   "metadata": {},
   "outputs": [
    {
     "data": {
      "text/plain": [
       "(5, 31)"
      ]
     },
     "execution_count": 71,
     "metadata": {},
     "output_type": "execute_result"
    }
   ],
   "source": [
    "# 1일의 요일, 날수\n",
    "calendar.monthrange(2022,1)"
   ]
  },
  {
   "cell_type": "code",
   "execution_count": 72,
   "id": "29347fd9",
   "metadata": {},
   "outputs": [
    {
     "data": {
      "text/plain": [
       "True"
      ]
     },
     "execution_count": 72,
     "metadata": {},
     "output_type": "execute_result"
    }
   ],
   "source": [
    "import webbrowser\n",
    "webbrowser.open('http://google.com')"
   ]
  },
  {
   "cell_type": "code",
   "execution_count": 2,
   "id": "e4c18706",
   "metadata": {},
   "outputs": [
    {
     "name": "stdout",
     "output_type": "stream",
     "text": [
      "[0, 1, 3, 4, 5, 6]\n"
     ]
    }
   ],
   "source": [
    "# 내장함수를 이용해서 list = [0,1,2,3,4,5,6]에서 2를 삭제 후 출력하세요.\n",
    "list = [0,1,2,3,4,5,6]\n",
    "del list[2]\n",
    "print(list)"
   ]
  },
  {
   "cell_type": "code",
   "execution_count": 3,
   "id": "7d068fc8",
   "metadata": {},
   "outputs": [
    {
     "name": "stdout",
     "output_type": "stream",
     "text": [
      "[0, 1, 3, 4, 5, 6]\n"
     ]
    }
   ],
   "source": [
    "a = [0,1,2,3,4,5,6]\n",
    "a.pop(2)\n",
    "print(a)"
   ]
  },
  {
   "cell_type": "code",
   "execution_count": 4,
   "id": "f10a67a2",
   "metadata": {},
   "outputs": [
    {
     "data": {
      "text/plain": [
       "[0, 1, 3, 4, 5, 6]"
      ]
     },
     "execution_count": 4,
     "metadata": {},
     "output_type": "execute_result"
    }
   ],
   "source": [
    "a = [0,1,2,3,4,5,6]\n",
    "a.remove(2)\n",
    "a"
   ]
  },
  {
   "cell_type": "code",
   "execution_count": 5,
   "id": "7ceb16a1",
   "metadata": {},
   "outputs": [
    {
     "name": "stdout",
     "output_type": "stream",
     "text": [
      "[]\n"
     ]
    }
   ],
   "source": [
    "# 내장함수를 이용해서 list = [0,1,2,3,4,5,6]에서 모든 원소를 삭제 후 출력하세요.\n",
    "list = [0,1,2,3,4,5,6]\n",
    "list.clear()\n",
    "print(list)"
   ]
  },
  {
   "cell_type": "code",
   "execution_count": 6,
   "id": "4b263645",
   "metadata": {},
   "outputs": [
    {
     "name": "stdout",
     "output_type": "stream",
     "text": [
      "[]\n"
     ]
    }
   ],
   "source": [
    "List=[0,1,2,3,4,5,6]\n",
    "del List[:]\n",
    "print(List)\n"
   ]
  },
  {
   "cell_type": "code",
   "execution_count": 7,
   "id": "76a1170e",
   "metadata": {},
   "outputs": [
    {
     "ename": "TypeError",
     "evalue": "'list' object is not callable",
     "output_type": "error",
     "traceback": [
      "\u001b[1;31m---------------------------------------------------------------------------\u001b[0m",
      "\u001b[1;31mTypeError\u001b[0m                                 Traceback (most recent call last)",
      "\u001b[1;32m~\\AppData\\Local\\Temp/ipykernel_7808/861710703.py\u001b[0m in \u001b[0;36m<module>\u001b[1;34m\u001b[0m\n\u001b[0;32m      2\u001b[0m \u001b[1;31m# [1,2,3,4,5] -> [1,4,9,16,25]\u001b[0m\u001b[1;33m\u001b[0m\u001b[1;33m\u001b[0m\u001b[1;33m\u001b[0m\u001b[0m\n\u001b[0;32m      3\u001b[0m \u001b[1;31m# [1,2,3,4,5] -> [1,2]\u001b[0m\u001b[1;33m\u001b[0m\u001b[1;33m\u001b[0m\u001b[1;33m\u001b[0m\u001b[0m\n\u001b[1;32m----> 4\u001b[1;33m \u001b[0mprint\u001b[0m\u001b[1;33m(\u001b[0m\u001b[0mlist\u001b[0m\u001b[1;33m(\u001b[0m\u001b[0mmap\u001b[0m\u001b[1;33m(\u001b[0m\u001b[1;32mlambda\u001b[0m \u001b[0mx\u001b[0m\u001b[1;33m:\u001b[0m \u001b[0mx\u001b[0m \u001b[1;33m*\u001b[0m \u001b[0mx\u001b[0m\u001b[1;33m,\u001b[0m \u001b[0mlist\u001b[0m\u001b[1;33m(\u001b[0m\u001b[0mrange\u001b[0m\u001b[1;33m(\u001b[0m\u001b[1;36m1\u001b[0m\u001b[1;33m,\u001b[0m\u001b[1;36m6\u001b[0m\u001b[1;33m)\u001b[0m\u001b[1;33m)\u001b[0m\u001b[1;33m)\u001b[0m\u001b[1;33m)\u001b[0m\u001b[1;33m)\u001b[0m\u001b[1;33m\u001b[0m\u001b[1;33m\u001b[0m\u001b[0m\n\u001b[0m",
      "\u001b[1;31mTypeError\u001b[0m: 'list' object is not callable"
     ]
    }
   ],
   "source": [
    "#람다함수와 적합한 내장함수를 사용하여 아래와 같이 출력하세요.\n",
    "# [1,2,3,4,5] -> [1,4,9,16,25]\n",
    "# [1,2,3,4,5] -> [1,2]\n",
    "print(list(map(lambda x: x * x, list(range(1,6)))))"
   ]
  },
  {
   "cell_type": "code",
   "execution_count": 14,
   "id": "25a3e023",
   "metadata": {},
   "outputs": [
    {
     "name": "stdout",
     "output_type": "stream",
     "text": [
      "[1, 4, 9, 16, 25]\n"
     ]
    },
    {
     "ename": "TypeError",
     "evalue": "'list' object is not callable",
     "output_type": "error",
     "traceback": [
      "\u001b[1;31m---------------------------------------------------------------------------\u001b[0m",
      "\u001b[1;31mTypeError\u001b[0m                                 Traceback (most recent call last)",
      "\u001b[1;32m~\\AppData\\Local\\Temp/ipykernel_7808/1377393007.py\u001b[0m in \u001b[0;36m<module>\u001b[1;34m\u001b[0m\n\u001b[0;32m      5\u001b[0m \u001b[0mc\u001b[0m \u001b[1;33m=\u001b[0m \u001b[1;33m[\u001b[0m\u001b[1;36m1\u001b[0m\u001b[1;33m,\u001b[0m\u001b[1;36m2\u001b[0m\u001b[1;33m,\u001b[0m\u001b[1;36m3\u001b[0m\u001b[1;33m,\u001b[0m\u001b[1;36m4\u001b[0m\u001b[1;33m,\u001b[0m\u001b[1;36m5\u001b[0m\u001b[1;33m]\u001b[0m\u001b[1;33m\u001b[0m\u001b[1;33m\u001b[0m\u001b[0m\n\u001b[0;32m      6\u001b[0m \u001b[0md\u001b[0m \u001b[1;33m=\u001b[0m \u001b[0mfilter\u001b[0m\u001b[1;33m(\u001b[0m\u001b[1;32mlambda\u001b[0m \u001b[0me\u001b[0m\u001b[1;33m:\u001b[0m \u001b[1;33m(\u001b[0m\u001b[0me\u001b[0m \u001b[1;33m<\u001b[0m \u001b[1;36m3\u001b[0m\u001b[1;33m)\u001b[0m\u001b[1;33m,\u001b[0m \u001b[0mc\u001b[0m\u001b[1;33m)\u001b[0m\u001b[1;33m\u001b[0m\u001b[1;33m\u001b[0m\u001b[0m\n\u001b[1;32m----> 7\u001b[1;33m \u001b[0mprint\u001b[0m\u001b[1;33m(\u001b[0m\u001b[0mlist\u001b[0m\u001b[1;33m(\u001b[0m\u001b[0md\u001b[0m\u001b[1;33m)\u001b[0m\u001b[1;33m)\u001b[0m\u001b[1;33m\u001b[0m\u001b[1;33m\u001b[0m\u001b[0m\n\u001b[0m",
      "\u001b[1;31mTypeError\u001b[0m: 'list' object is not callable"
     ]
    }
   ],
   "source": [
    "a = lambda a: a*a\n",
    "b = [a(i) for i in range(1,6)]\n",
    "print(b)\n",
    "\n",
    "c = [1,2,3,4,5]\n",
    "d = filter(lambda e: (e < 3), c)\n",
    "print(list(d))"
   ]
  },
  {
   "cell_type": "code",
   "execution_count": 13,
   "id": "45fa3ab6",
   "metadata": {},
   "outputs": [
    {
     "name": "stdout",
     "output_type": "stream",
     "text": [
      "[1, 4, 9, 16, 25]\n",
      "[1, 2]\n"
     ]
    }
   ],
   "source": [
    "li = [1,2,3,4,5]\n",
    "blank = [[],[],[],[],[]]\n",
    "\n",
    "exp = lambda a,b:(li[a]**b)\n",
    "for i in range(5):\n",
    "    blank[i]= exp(i,2)\n",
    "print(blank)\n",
    "\n",
    "del li[2:]\n",
    "print(li)\n"
   ]
  },
  {
   "cell_type": "code",
   "execution_count": 1,
   "id": "4cd84cef",
   "metadata": {},
   "outputs": [
    {
     "data": {
      "text/plain": [
       "[1, 2, 6]"
      ]
     },
     "execution_count": 1,
     "metadata": {},
     "output_type": "execute_result"
    }
   ],
   "source": [
    "# [1,-3,2,0,-5,6] 에서 양수만 필터링해서 출력하세요(내장함수, 사용자함수 각각 이용)\n",
    "\n",
    "x=[1,-3,2,0,-5,6]\n",
    "list(filter(lambda x: x > 0 , x))\n"
   ]
  },
  {
   "cell_type": "code",
   "execution_count": 2,
   "id": "06307b1f",
   "metadata": {},
   "outputs": [
    {
     "name": "stdout",
     "output_type": "stream",
     "text": [
      "[(1, 4), (2, 5), (3, 6)]\n",
      "[(1, 4, 7), (2, 5, 8), (3, 6, 9)]\n",
      "[('a', 'd'), ('b', 'e'), ('c', 'f')]\n"
     ]
    }
   ],
   "source": [
    "#내장함수를 이용하여 동일한 개수로 이루어진 자료형을 화살표좌측에서 우측으로 변환하세요.\n",
    "# [1,2,3],[4,5,6] -> [(1,4),(2,5),(3,6)]\n",
    "# [1,2,3],[4,5,6][7,8,9] -> [(1,4,7),(2,5,8),(3,6,9)]\n",
    "# ('abc','def') -> [('a','d'),('b','e'),('c','f')]\n",
    "\n",
    "a = [1, 2, 3]\n",
    "b = [4, 5, 6]\n",
    "c = [7, 8, 9]\n",
    "\n",
    "ab = list(zip(tuple(a), tuple(b)))\n",
    "print(ab)\n",
    "                        \n",
    "abc = list(zip(tuple(a), tuple(b), tuple(c)))\n",
    "print(abc)\n",
    "\n",
    "alp = ('abc', 'def')\n",
    "alp_1 = list(zip(tuple(alp[0]), tuple(alp[1])))\n",
    "print(alp_1)\n"
   ]
  },
  {
   "cell_type": "code",
   "execution_count": 5,
   "id": "146f4915",
   "metadata": {},
   "outputs": [
    {
     "name": "stdout",
     "output_type": "stream",
     "text": [
      "(1, 'a')\n",
      "(2, 'b')\n",
      "(3, 'c')\n"
     ]
    }
   ],
   "source": [
    "num = [1,2,3]\n",
    "lt = ['a','b','c']\n",
    "for pair in zip(num, lt):\n",
    "    print(pair)"
   ]
  },
  {
   "cell_type": "code",
   "execution_count": 4,
   "id": "9dd01ae0",
   "metadata": {},
   "outputs": [
    {
     "data": {
      "text/plain": [
       "2.0"
      ]
     },
     "execution_count": 4,
     "metadata": {},
     "output_type": "execute_result"
    }
   ],
   "source": [
    "#입력으로 들어오는 모든 수의 평균 값을 계산해 주는 함수를 작성한 후 1,2,3을 입력한 결과를 출력하세요.\n",
    "def avg(*args):\n",
    "    sum=0\n",
    "    for i in args:\n",
    "        sum+=i\n",
    "    return sum/len(args)\n",
    "avg(1,2,3)\n"
   ]
  },
  {
   "cell_type": "code",
   "execution_count": 3,
   "id": "0202a86a",
   "metadata": {},
   "outputs": [
    {
     "data": {
      "text/plain": [
       "2.0"
      ]
     },
     "execution_count": 3,
     "metadata": {},
     "output_type": "execute_result"
    }
   ],
   "source": [
    "def mid (*args):\n",
    "    sum = 0\n",
    "    for i in args:\n",
    "        sum += i\n",
    "    return sum/len(args)\n",
    "\n",
    "mid(1,2,3)\n"
   ]
  },
  {
   "cell_type": "code",
   "execution_count": 3,
   "id": "e92b81bc",
   "metadata": {},
   "outputs": [
    {
     "data": {
      "text/plain": [
       "['bar', 'ababa', 'ca', 'aaaa', 'a']"
      ]
     },
     "execution_count": 3,
     "metadata": {},
     "output_type": "execute_result"
    }
   ],
   "source": [
    "# 과제 strings를 다양한 문자가 포함된 순서로 정렬하세요.\n",
    "strings = ['a', 'ca', 'bar', 'aaaa', 'ababa']\n",
    "strings.sort(key = lambda x:len(set(x)))\n",
    "strings[::-1]"
   ]
  },
  {
   "cell_type": "code",
   "execution_count": 6,
   "id": "fddc1129",
   "metadata": {},
   "outputs": [
    {
     "data": {
      "text/plain": [
       "['bar', 'ababa', 'ca', 'aaaa', 'a']"
      ]
     },
     "execution_count": 6,
     "metadata": {},
     "output_type": "execute_result"
    }
   ],
   "source": [
    "# [과제] 튜플 형태인 strings를 다양한 문자가 포함된 순서로 정렬하세요.\n",
    "strings = ('a', 'ca', 'bar', 'aaaa', 'ababa')\n",
    "lists = list(strings)\n",
    "lists.sort(key = lambda x:len(set(x)))\n",
    "lists[::-1]"
   ]
  },
  {
   "cell_type": "code",
   "execution_count": 14,
   "id": "b73c6536",
   "metadata": {},
   "outputs": [
    {
     "name": "stdout",
     "output_type": "stream",
     "text": [
      "gfedcba\n"
     ]
    }
   ],
   "source": [
    "s = 'abcdefg'\n",
    "print(s[::-1])"
   ]
  },
  {
   "cell_type": "code",
   "execution_count": 11,
   "id": "97d6a4e7",
   "metadata": {},
   "outputs": [
    {
     "name": "stdout",
     "output_type": "stream",
     "text": [
      "abcdef\n"
     ]
    }
   ],
   "source": [
    "s = 'abcdefg'\n",
    "print(s[:-1])"
   ]
  },
  {
   "cell_type": "code",
   "execution_count": 14,
   "id": "e97c68a2",
   "metadata": {},
   "outputs": [
    {
     "name": "stdout",
     "output_type": "stream",
     "text": [
      "dcb\n"
     ]
    }
   ],
   "source": [
    "# dcb만 출력\n",
    "\n",
    "s = 'abcdefg'\n",
    "print(s[3:0:-1])"
   ]
  },
  {
   "cell_type": "code",
   "execution_count": 1,
   "id": "80f668d5",
   "metadata": {},
   "outputs": [
    {
     "ename": "NameError",
     "evalue": "name 's' is not defined",
     "output_type": "error",
     "traceback": [
      "\u001b[1;31m---------------------------------------------------------------------------\u001b[0m",
      "\u001b[1;31mNameError\u001b[0m                                 Traceback (most recent call last)",
      "\u001b[1;32m~\\AppData\\Local\\Temp/ipykernel_7816/3875493728.py\u001b[0m in \u001b[0;36m<module>\u001b[1;34m\u001b[0m\n\u001b[1;32m----> 1\u001b[1;33m \u001b[0mprint\u001b[0m\u001b[1;33m(\u001b[0m\u001b[0ms\u001b[0m\u001b[1;33m[\u001b[0m\u001b[1;33m:\u001b[0m\u001b[1;33m:\u001b[0m\u001b[1;33m-\u001b[0m\u001b[1;36m1\u001b[0m\u001b[1;33m]\u001b[0m\u001b[1;33m)\u001b[0m\u001b[1;33m\u001b[0m\u001b[1;33m\u001b[0m\u001b[0m\n\u001b[0m\u001b[0;32m      2\u001b[0m \u001b[0mprint\u001b[0m\u001b[1;33m(\u001b[0m\u001b[0ms\u001b[0m\u001b[1;33m[\u001b[0m\u001b[1;36m6\u001b[0m\u001b[1;33m:\u001b[0m\u001b[1;33m:\u001b[0m\u001b[1;33m-\u001b[0m\u001b[1;36m1\u001b[0m\u001b[1;33m]\u001b[0m\u001b[1;33m)\u001b[0m\u001b[1;33m\u001b[0m\u001b[1;33m\u001b[0m\u001b[0m\n",
      "\u001b[1;31mNameError\u001b[0m: name 's' is not defined"
     ]
    }
   ],
   "source": [
    "print(s[::-1])\n",
    "print(s[6::-1])"
   ]
  },
  {
   "cell_type": "code",
   "execution_count": null,
   "id": "aeb4b4eb",
   "metadata": {},
   "outputs": [],
   "source": [
    "try:\n",
    "    a = input('정수를 입력하세요 : ')\n",
    "    int(a)\n",
    "    print(a)\n",
    "    time.sleep(1)\n",
    "    print('>>> 예외 발생하지 않음')\n",
    "    time.sleep(1)\n",
    "    print('프로그램 종료')\n",
    "except:\n",
    "    print(a)\n",
    "    time.sleep(1)\n",
    "    print('>>> 정수 아님')\n",
    "    time.sleep(1)\n",
    "    print('프로그램 종료')\n",
    "    try:\n",
    "    print(param2)\n",
    "except Exception as e:\n",
    "    print(e)"
   ]
  }
 ],
 "metadata": {
  "kernelspec": {
   "display_name": "Python 3 (ipykernel)",
   "language": "python",
   "name": "python3"
  },
  "language_info": {
   "codemirror_mode": {
    "name": "ipython",
    "version": 3
   },
   "file_extension": ".py",
   "mimetype": "text/x-python",
   "name": "python",
   "nbconvert_exporter": "python",
   "pygments_lexer": "ipython3",
   "version": "3.8.12"
  }
 },
 "nbformat": 4,
 "nbformat_minor": 5
}
