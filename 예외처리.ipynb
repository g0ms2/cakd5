{
 "cells": [
  {
   "cell_type": "code",
   "execution_count": 1,
   "id": "ab48f589",
   "metadata": {},
   "outputs": [
    {
     "ename": "SyntaxError",
     "evalue": "EOL while scanning string literal (Temp/ipykernel_9096/4105301441.py, line 4)",
     "output_type": "error",
     "traceback": [
      "\u001b[1;36m  File \u001b[1;32m\"C:\\Users\\admin\\AppData\\Local\\Temp/ipykernel_9096/4105301441.py\"\u001b[1;36m, line \u001b[1;32m4\u001b[0m\n\u001b[1;33m    print('구문오류!)\u001b[0m\n\u001b[1;37m                 ^\u001b[0m\n\u001b[1;31mSyntaxError\u001b[0m\u001b[1;31m:\u001b[0m EOL while scanning string literal\n"
     ]
    }
   ],
   "source": [
    "# 구문 오류 : 프로그램 실행 전에 발생하는 오류\n",
    "# 예외 또는 런타임 오류 : 프로그램 실행중에 발생하는 오류\n",
    "\n",
    "print('구문오류!)"
   ]
  },
  {
   "cell_type": "code",
   "execution_count": 3,
   "id": "0fc6ee27",
   "metadata": {},
   "outputs": [
    {
     "name": "stdout",
     "output_type": "stream",
     "text": [
      "정수 입력 > 가\n"
     ]
    },
    {
     "ename": "ValueError",
     "evalue": "invalid literal for int() with base 10: '가'",
     "output_type": "error",
     "traceback": [
      "\u001b[1;31m---------------------------------------------------------------------------\u001b[0m",
      "\u001b[1;31mValueError\u001b[0m                                Traceback (most recent call last)",
      "\u001b[1;32m~\\AppData\\Local\\Temp/ipykernel_9452/1878193907.py\u001b[0m in \u001b[0;36m<module>\u001b[1;34m\u001b[0m\n\u001b[0;32m      1\u001b[0m \u001b[1;31m# 정수를 입력하지 않은 경우 예외 발생\u001b[0m\u001b[1;33m\u001b[0m\u001b[1;33m\u001b[0m\u001b[1;33m\u001b[0m\u001b[0m\n\u001b[1;32m----> 2\u001b[1;33m \u001b[0mnum_input\u001b[0m \u001b[1;33m=\u001b[0m \u001b[0mint\u001b[0m\u001b[1;33m(\u001b[0m\u001b[0minput\u001b[0m\u001b[1;33m(\u001b[0m\u001b[1;34m'정수 입력 > '\u001b[0m\u001b[1;33m)\u001b[0m\u001b[1;33m)\u001b[0m\u001b[1;33m\u001b[0m\u001b[1;33m\u001b[0m\u001b[0m\n\u001b[0m\u001b[0;32m      3\u001b[0m \u001b[0mprint\u001b[0m\u001b[1;33m(\u001b[0m\u001b[1;34m'원의 반지름 : '\u001b[0m\u001b[1;33m,\u001b[0m \u001b[0mnum_input\u001b[0m\u001b[1;33m)\u001b[0m\u001b[1;33m\u001b[0m\u001b[1;33m\u001b[0m\u001b[0m\n",
      "\u001b[1;31mValueError\u001b[0m: invalid literal for int() with base 10: '가'"
     ]
    }
   ],
   "source": [
    "# 정수를 입력하지 않은 경우 예외 발생\n",
    "num_input = int(input('정수 입력 > '))\n",
    "print('원의 반지름 : ', num_input)"
   ]
  },
  {
   "cell_type": "code",
   "execution_count": 9,
   "id": "fd6dc4d3",
   "metadata": {},
   "outputs": [
    {
     "name": "stdout",
     "output_type": "stream",
     "text": [
      "가속도 입력 >s\n",
      "시간 입력 >s\n",
      "정수만 가능해요. 다시 입력해주세요\n"
     ]
    }
   ],
   "source": [
    "# 조건문으로 예외 처리 \n",
    "input_1,input_2 = input(\"가속도 입력 >\"),input(\"시간 입력 >\")\n",
    "if input_1.isdigit() and input_2.isdigit() :\n",
    "    num_1,num_2 = int(input_1),int(input_2)\n",
    "    print(\"등가속도 운동할 때\")\n",
    "    print(\"가속도 :\", num_1)\n",
    "    print(\"속도 :\", num_1 * num_2)\n",
    "    print(\"거리 :\", num_1 * num_2 ** 2 / 2)\n",
    "\n",
    "else :\n",
    "    print(\"정수만 가능해요. 다시 입력해주세요\")"
   ]
  },
  {
   "cell_type": "code",
   "execution_count": 8,
   "id": "af5f7f1f",
   "metadata": {},
   "outputs": [
    {
     "name": "stdout",
     "output_type": "stream",
     "text": [
      "정수를 입력해 주세용 >> 1\n",
      "입력한 정수: 1\n"
     ]
    }
   ],
   "source": [
    "num_input = input('정수를 입력해 주세용 >> ')\n",
    "if str.isdigit(num_input) == 1:\n",
    "    print('입력한 정수:', int(num_input))\n",
    "else: print('잘못 입력하셨어용')"
   ]
  },
  {
   "cell_type": "code",
   "execution_count": 11,
   "id": "69e7a8f4",
   "metadata": {},
   "outputs": [
    {
     "name": "stdout",
     "output_type": "stream",
     "text": [
      "안녕하세요\n"
     ]
    },
    {
     "ename": "NameError",
     "evalue": "name 'param1' is not defined",
     "output_type": "error",
     "traceback": [
      "\u001b[1;31m---------------------------------------------------------------------------\u001b[0m",
      "\u001b[1;31mNameError\u001b[0m                                 Traceback (most recent call last)",
      "\u001b[1;32m~\\AppData\\Local\\Temp/ipykernel_9452/1278957516.py\u001b[0m in \u001b[0;36m<module>\u001b[1;34m\u001b[0m\n\u001b[0;32m      1\u001b[0m \u001b[0mparam\u001b[0m \u001b[1;33m=\u001b[0m \u001b[1;36m1\u001b[0m\u001b[1;33m\u001b[0m\u001b[1;33m\u001b[0m\u001b[0m\n\u001b[0;32m      2\u001b[0m \u001b[0mprint\u001b[0m\u001b[1;33m(\u001b[0m\u001b[1;34m'안녕하세요'\u001b[0m\u001b[1;33m)\u001b[0m\u001b[1;33m\u001b[0m\u001b[1;33m\u001b[0m\u001b[0m\n\u001b[1;32m----> 3\u001b[1;33m \u001b[0mprint\u001b[0m\u001b[1;33m(\u001b[0m\u001b[0mparam1\u001b[0m\u001b[1;33m)\u001b[0m\u001b[1;33m\u001b[0m\u001b[1;33m\u001b[0m\u001b[0m\n\u001b[0m",
      "\u001b[1;31mNameError\u001b[0m: name 'param1' is not defined"
     ]
    }
   ],
   "source": [
    "param = 1\n",
    "print('안녕하세요')\n",
    "print(param1)"
   ]
  },
  {
   "cell_type": "code",
   "execution_count": 14,
   "id": "27eb61a3",
   "metadata": {},
   "outputs": [
    {
     "name": "stdout",
     "output_type": "stream",
     "text": [
      "안녕하세요\n",
      "예외가 발생했습니다.\n"
     ]
    }
   ],
   "source": [
    "try:\n",
    "    print('안녕하세요')\n",
    "    print(param1)\n",
    "except:\n",
    "    print('예외가 발생했습니다.')"
   ]
  },
  {
   "cell_type": "code",
   "execution_count": 16,
   "id": "cbab99f0",
   "metadata": {},
   "outputs": [
    {
     "name": "stdout",
     "output_type": "stream",
     "text": [
      "안녕하세요\n",
      "예외가 발생했습니다.\n",
      "무조건 실행하는 코드\n"
     ]
    }
   ],
   "source": [
    "try:\n",
    "    print('안녕하세요')\n",
    "    print(param1)\n",
    "except:\n",
    "    print('예외가 발생했습니다.')\n",
    "finally:\n",
    "    print('무조건 실행하는 코드')"
   ]
  },
  {
   "cell_type": "code",
   "execution_count": 19,
   "id": "48f480f7",
   "metadata": {},
   "outputs": [
    {
     "name": "stdout",
     "output_type": "stream",
     "text": [
      "name 'param2' is not defined\n"
     ]
    }
   ],
   "source": [
    "# 코드에서 예외 발생 내용을 확인하고자 하는 경우 처리 방법\n",
    "\n",
    "try:\n",
    "    print(param2)\n",
    "except Exception as e:\n",
    "    print(e)"
   ]
  },
  {
   "cell_type": "code",
   "execution_count": 22,
   "id": "67916e6d",
   "metadata": {},
   "outputs": [
    {
     "name": "stdout",
     "output_type": "stream",
     "text": [
      "1\n",
      "2\n",
      "3\n",
      "4\n",
      "5\n",
      "6\n",
      "7\n",
      "8\n",
      "9\n",
      "10\n",
      "11\n",
      "12\n",
      "13\n",
      "14\n",
      "15\n",
      "사용자에 의해 프로그램이 중단되었습니다.\n"
     ]
    }
   ],
   "source": [
    "import time\n",
    "count = 1\n",
    "try:\n",
    "    5\n",
    "    while True:\n",
    "        print(count)\n",
    "        count += 1\n",
    "        time.sleep(0.5)\n",
    "except KeyboardInterrupt:\n",
    "    print('사용자에 의해 프로그램이 중단되었습니다.')"
   ]
  },
  {
   "cell_type": "code",
   "execution_count": 23,
   "id": "5ef3d4dd",
   "metadata": {},
   "outputs": [
    {
     "name": "stdout",
     "output_type": "stream",
     "text": [
      "52\n",
      "273\n",
      "32\n",
      "103\n"
     ]
    }
   ],
   "source": [
    "# Q. 리스트['52','273','32','문자','103'] 에서 숫자 부분만 출력하세요(예외처리 수행)\n"
   ]
  },
  {
   "cell_type": "code",
   "execution_count": 25,
   "id": "7f83e77b",
   "metadata": {},
   "outputs": [
    {
     "name": "stdout",
     "output_type": "stream",
     "text": [
      "52 273 32 103 "
     ]
    }
   ],
   "source": [
    "list = ['52','273','32','문자','103']\n",
    "for i in list:\n",
    "    try :\n",
    "        if i.isdigit():\n",
    "            print(i,end=' ')\n",
    "    except:\n",
    "        print('{0}는 숫자가 아닙니다'.format(i))"
   ]
  },
  {
   "cell_type": "code",
   "execution_count": 28,
   "id": "65d8ec3b",
   "metadata": {},
   "outputs": [
    {
     "name": "stdout",
     "output_type": "stream",
     "text": [
      "['52', '273', '32', '103']\n"
     ]
    }
   ],
   "source": [
    "list_input = ['52', '273','32','문자','103']\n",
    "list_num = []\n",
    "for i in list_input:    \n",
    "    try:\n",
    "        int(i)\n",
    "        list_num.append(i)\n",
    "    except:\n",
    "        pass\n",
    "print(list_num)\n"
   ]
  },
  {
   "cell_type": "code",
   "execution_count": 37,
   "id": "62d5da7f",
   "metadata": {},
   "outputs": [
    {
     "name": "stdout",
     "output_type": "stream",
     "text": [
      "정수를 입력해 주세요. >> try:     num = int(input(\"입력: \"))     print(\"정수\") except:     print(\"정수 아님\")\n",
      "정수가 아닙니다.\n"
     ]
    }
   ],
   "source": [
    "num = input('정수를 입력해 주세요. >> ')\n",
    "try:\n",
    "    int(num)\n",
    "    print('정수입니다.')\n",
    "except:\n",
    "    print('정수가 아닙니다.')\n"
   ]
  },
  {
   "cell_type": "code",
   "execution_count": 39,
   "id": "3d0d9a7f",
   "metadata": {},
   "outputs": [
    {
     "name": "stdout",
     "output_type": "stream",
     "text": [
      "입력: 1\n",
      "정수\n"
     ]
    }
   ],
   "source": [
    "try:\n",
    "    num = int(input(\"입력: \"))\n",
    "    print(\"정수\")\n",
    "except:\n",
    "    print(\"정수 아님\")"
   ]
  },
  {
   "cell_type": "code",
   "execution_count": 40,
   "id": "839c273e",
   "metadata": {},
   "outputs": [
    {
     "name": "stdout",
     "output_type": "stream",
     "text": [
      "정수 입력 > 가\n",
      "정수 아님\n"
     ]
    }
   ],
   "source": [
    "try:\n",
    "    num_input = int(input('정수 입력 > '))\n",
    "except:\n",
    "    print('정수 아님')\n",
    "else:\n",
    "    print('정수')"
   ]
  },
  {
   "cell_type": "code",
   "execution_count": 42,
   "id": "275537ce",
   "metadata": {},
   "outputs": [
    {
     "name": "stdout",
     "output_type": "stream",
     "text": [
      "정수를 입력하세요 : 거\n",
      "거\n",
      ">>> 정수 아님\n",
      "프로그램 종료\n"
     ]
    }
   ],
   "source": [
    "try:\n",
    "    a = input('정수를 입력하세요 : ')\n",
    "    int(a)\n",
    "    print(a)\n",
    "    time.sleep(1)\n",
    "    print('>>> 예외 발생하지 않음')\n",
    "    time.sleep(1)\n",
    "    print('프로그램 종료')\n",
    "except:\n",
    "    print(a)\n",
    "    time.sleep(1)\n",
    "    print('>>> 정수 아님')\n",
    "    time.sleep(1)\n",
    "    print('프로그램 종료')"
   ]
  },
  {
   "cell_type": "code",
   "execution_count": 45,
   "id": "c0ebc0a1",
   "metadata": {},
   "outputs": [
    {
     "name": "stdout",
     "output_type": "stream",
     "text": [
      "정수를 입력해 주세요. >> 1\n",
      "1로/으로 예외 발생하지 않음\n",
      "프로그램 종료\n"
     ]
    }
   ],
   "source": [
    "num = input('정수를 입력해 주세요. >> ')\n",
    "\n",
    "try:\n",
    "    print(f'{int(num)}로/으로 예외 발생하지 않음')\n",
    "except:\n",
    "    print(f'입력값 {num}은/는 정수가 아닙니다.')\n",
    "finally: print('프로그램 종료')\n"
   ]
  },
  {
   "cell_type": "code",
   "execution_count": 4,
   "id": "9cbb67b9",
   "metadata": {},
   "outputs": [
    {
     "name": "stdout",
     "output_type": "stream",
     "text": [
      "정수를 입력해주세요.>> 가\n",
      "1\n",
      "정수아님.\n",
      "프로그램 종료\n"
     ]
    }
   ],
   "source": [
    "try:\n",
    "    num = int(input('정수를 입력해주세요.>> '))\n",
    "except:\n",
    "    print(\"정수아님.\")\n",
    "else:\n",
    "    print(num)\n",
    "    print('예외 발생하지 않음')\n",
    "finally:\n",
    "    print(\"프로그램 종료\")"
   ]
  },
  {
   "cell_type": "code",
   "execution_count": 9,
   "id": "b7f5d77d",
   "metadata": {},
   "outputs": [
    {
     "name": "stdout",
     "output_type": "stream",
     "text": [
      "프로그램이 시작되었습니다.\n",
      "try 구문이 시작 되었습니다.\n",
      "프로그램이 종료되었습니다.\n"
     ]
    }
   ],
   "source": [
    "print('프로그램이 시작되었습니다.')\n",
    "while True:\n",
    "    try:\n",
    "        print('try 구문이 시작 되었습니다.')\n",
    "        break\n",
    "    except:\n",
    "        print('except 구문이 실행 되었습니다.')\n",
    "        \n",
    "    print('finally 구문이 실행 되었습니다.')\n",
    "    print('while 반복문의 마지막 줄입니다.')\n",
    "print('프로그램이 종료되었습니다.')"
   ]
  },
  {
   "cell_type": "code",
   "execution_count": 2,
   "id": "7fa16de5",
   "metadata": {},
   "outputs": [
    {
     "name": "stdout",
     "output_type": "stream",
     "text": [
      "프로그램이 시작되었습니다.\n",
      "try 구문이 시작되었습니다.\n",
      "except 구문이 실행되었습니다.\n",
      "finally 구문이 실행되었습니다.\n",
      "while 반복문의 마지막 줄입니다.\n",
      "프로그램이 종료되었습니다.\n"
     ]
    }
   ],
   "source": [
    "print('프로그램이 시작되었습니다.')\n",
    "while 1:\n",
    "    try:\n",
    "        print('try 구문이 시작되었습니다.')\n",
    "        a = b+c\n",
    "        print(a)\n",
    "        break\n",
    "    except:\n",
    "        print('except 구문이 실행되었습니다.')\n",
    "        break\n",
    "    finally:\n",
    "        print('finally 구문이 실행되었습니다.')\n",
    "        print('while 반복문의 마지막 줄입니다.')\n",
    "print('프로그램이 종료되었습니다.')\n"
   ]
  },
  {
   "cell_type": "code",
   "execution_count": 7,
   "id": "ee46383a",
   "metadata": {},
   "outputs": [
    {
     "ename": "SyntaxError",
     "evalue": "invalid syntax (Temp/ipykernel_1428/702467468.py, line 2)",
     "output_type": "error",
     "traceback": [
      "\u001b[1;36m  File \u001b[1;32m\"C:\\Users\\admin\\AppData\\Local\\Temp/ipykernel_1428/702467468.py\"\u001b[1;36m, line \u001b[1;32m2\u001b[0m\n\u001b[1;33m    프로그램이 시작되었습니다.\u001b[0m\n\u001b[1;37m          ^\u001b[0m\n\u001b[1;31mSyntaxError\u001b[0m\u001b[1;31m:\u001b[0m invalid syntax\n"
     ]
    }
   ],
   "source": [
    "# 위 코드에서 try ~ except ~ flnally 를 사용하여 아래와 같이 출력하세요.\n",
    "# 프로그램이 시작되었습니다.\n",
    "# try 구문이 시작되었습니다.\n",
    "# except 구문이 실행되었습니다.\n",
    "# finally 구문이 실행되었습니다.\n",
    "# 프로그램이 종료되었습니다."
   ]
  },
  {
   "cell_type": "code",
   "execution_count": 1,
   "id": "026e1e8e",
   "metadata": {},
   "outputs": [
    {
     "name": "stdout",
     "output_type": "stream",
     "text": [
      "정수 입력 > rr\n",
      "<class 'ValueError'>\n",
      "invalid literal for int() with base 10: 'rr'\n"
     ]
    }
   ],
   "source": [
    "# [과제] 숫자 대신 문자를 입력 시 예외가 발생되는데 아래 코드를 수정해서 예외 객체의 자료형과 예외 객체 자체를 출력하세요.\n",
    "try:\n",
    "    num_input = int(input('정수 입력 > '))\n",
    "    print('원의 반지름 : ', num_input)\n",
    "    print('원의 둘레 : ' , 2 * 3.14 * num_input)\n",
    "    print('원의 넓이 : ' , 3.14 * num_input * num_input)\n",
    "except Exception as e:\n",
    "    print(type(e))\n",
    "    print(e)\n",
    "    "
   ]
  },
  {
   "cell_type": "code",
   "execution_count": 3,
   "id": "01fc3c3a",
   "metadata": {},
   "outputs": [
    {
     "name": "stdout",
     "output_type": "stream",
     "text": [
      "정수 입력 > 1\n"
     ]
    },
    {
     "ename": "NameError",
     "evalue": "name 'num_input' is not defined",
     "output_type": "error",
     "traceback": [
      "\u001b[1;31m---------------------------------------------------------------------------\u001b[0m",
      "\u001b[1;31mNameError\u001b[0m                                 Traceback (most recent call last)",
      "\u001b[1;32m~\\AppData\\Local\\Temp/ipykernel_476/2306875242.py\u001b[0m in \u001b[0;36m<module>\u001b[1;34m\u001b[0m\n\u001b[0;32m      4\u001b[0m \u001b[1;33m\u001b[0m\u001b[0m\n\u001b[0;32m      5\u001b[0m \u001b[0mnum_imput\u001b[0m \u001b[1;33m=\u001b[0m \u001b[0mint\u001b[0m\u001b[1;33m(\u001b[0m\u001b[0minput\u001b[0m\u001b[1;33m(\u001b[0m\u001b[1;34m'정수 입력 > '\u001b[0m\u001b[1;33m)\u001b[0m\u001b[1;33m)\u001b[0m\u001b[1;33m\u001b[0m\u001b[1;33m\u001b[0m\u001b[0m\n\u001b[1;32m----> 6\u001b[1;33m \u001b[0mprint\u001b[0m\u001b[1;33m(\u001b[0m\u001b[1;34m'{}번째 요소 : {}'\u001b[0m\u001b[1;33m.\u001b[0m\u001b[0mformat\u001b[0m\u001b[1;33m(\u001b[0m\u001b[0mnum_input\u001b[0m\u001b[1;33m,\u001b[0m \u001b[0mlist_num\u001b[0m\u001b[1;33m[\u001b[0m\u001b[0mnum_input\u001b[0m \u001b[1;33m-\u001b[0m \u001b[1;36m1\u001b[0m\u001b[1;33m]\u001b[0m\u001b[1;33m)\u001b[0m\u001b[1;33m)\u001b[0m\u001b[1;33m\u001b[0m\u001b[1;33m\u001b[0m\u001b[0m\n\u001b[0m",
      "\u001b[1;31mNameError\u001b[0m: name 'num_input' is not defined"
     ]
    }
   ],
   "source": [
    "# [과제] 아래 코드를 보완하여 발생 가능한 \n",
    "# 모든 예외(정수, 인덱스, 미리 파악하지 못한 예외)를 처리한 후 마지막에 \n",
    "# \"모든 예외처리 완료\"를 출력하세요.\n",
    "try:\n",
    "    list_num = [52,273,32,72,100]\n",
    "\n",
    "    num_imput = int(input('정수 입력 > '))\n",
    "    print('{}번째 요소 : {}'.format(num_input, list_num[num_input - 1]))\n",
    "except:"
   ]
  },
  {
   "cell_type": "code",
   "execution_count": 6,
   "id": "c907b779",
   "metadata": {},
   "outputs": [
    {
     "name": "stdout",
     "output_type": "stream",
     "text": [
      "정수 입력 > 10\n",
      "인덱스 오류, 범위 안의 값을 입력하세요\n",
      "모든 예외처리 완료\n",
      "정수 입력 > 1\n",
      "1번째 요소: 52\n",
      "모든 예외처리 완료\n"
     ]
    }
   ],
   "source": [
    "list_num = [52, 273, 32, 72, 100]\n",
    "\n",
    "while 1:\n",
    "    try: \n",
    "        num_input = int(input('정수 입력 > '))\n",
    "        print('{}번째 요소: {}'.format(num_input, list_num[num_input -1]))\n",
    "        break\n",
    "    except IndexError:\n",
    "        print(\"인덱스 오류, 범위 안의 값을 입력하세요\")\n",
    "    except ValueError:\n",
    "        print(\"정수 값을 입력하세요\")\n",
    "    except Excetion:\n",
    "        print(\"정수 값을 입력하세요\")\n",
    "    finally:\n",
    "        print(\"모든 예외처리 완료\")\n"
   ]
  },
  {
   "cell_type": "code",
   "execution_count": 13,
   "id": "414ea740",
   "metadata": {},
   "outputs": [],
   "source": [
    "# [도전 과제] 자유 주제로 프로그래밍을 수행하세요. 단 예외처리 3건 이상 "
   ]
  },
  {
   "cell_type": "code",
   "execution_count": 2,
   "id": "b20cfa69",
   "metadata": {},
   "outputs": [
    {
     "name": "stdout",
     "output_type": "stream",
     "text": [
      "3가지 수 더하기\n",
      "첫번째 : 0\n",
      "두번째 : 3.1\n",
      "invalid literal for int() with base 10: '3.1'\n",
      "세번째 : r\n",
      "invalid literal for int() with base 10: 'r'\n"
     ]
    },
    {
     "ename": "TypeError",
     "evalue": "unsupported operand type(s) for +: 'int' and 'str'",
     "output_type": "error",
     "traceback": [
      "\u001b[1;31m---------------------------------------------------------------------------\u001b[0m",
      "\u001b[1;31mTypeError\u001b[0m                                 Traceback (most recent call last)",
      "\u001b[1;32m~\\AppData\\Local\\Temp/ipykernel_9096/3204250945.py\u001b[0m in \u001b[0;36m<module>\u001b[1;34m\u001b[0m\n\u001b[0;32m     21\u001b[0m         \u001b[0mprint\u001b[0m\u001b[1;33m(\u001b[0m\u001b[0me\u001b[0m\u001b[1;33m)\u001b[0m\u001b[1;33m\u001b[0m\u001b[1;33m\u001b[0m\u001b[0m\n\u001b[0;32m     22\u001b[0m \u001b[1;33m\u001b[0m\u001b[0m\n\u001b[1;32m---> 23\u001b[1;33m     \u001b[0mprint\u001b[0m\u001b[1;33m(\u001b[0m\u001b[1;34mf\"더한값 : {a+b+c}\\n\"\u001b[0m\u001b[1;33m)\u001b[0m\u001b[1;33m\u001b[0m\u001b[1;33m\u001b[0m\u001b[0m\n\u001b[0m",
      "\u001b[1;31mTypeError\u001b[0m: unsupported operand type(s) for +: 'int' and 'str'"
     ]
    }
   ],
   "source": [
    "# [도전 과제] 자유 주제로 프로그램밍을 수행하세요. 단 예외처리 3건 이상\n",
    "\n",
    "print(\"3가지 수 더하기\")\n",
    "while 1:\n",
    "    try:\n",
    "        a=input(\"첫번째 : \")\n",
    "        a=int(a)\n",
    "    except (ZeroDivisionError, IndexError, ValueError) as e:\n",
    "        print(e)\n",
    "\n",
    "    try:    \n",
    "        b=input(\"두번째 : \")\n",
    "        b=int(b)\n",
    "    except (ZeroDivisionError, IndexError, ValueError) as e:\n",
    "        print(e)    \n",
    "        \n",
    "    try:    \n",
    "        c=input(\"세번째 : \")\n",
    "        c=int(c)\n",
    "    except (ZeroDivisionError, IndexError, ValueError) as e:\n",
    "        print(e)   \n",
    "\n",
    "    print(f\"더한값 : {a+b+c}\\n\")\n"
   ]
  }
 ],
 "metadata": {
  "kernelspec": {
   "display_name": "Python 3 (ipykernel)",
   "language": "python",
   "name": "python3"
  },
  "language_info": {
   "codemirror_mode": {
    "name": "ipython",
    "version": 3
   },
   "file_extension": ".py",
   "mimetype": "text/x-python",
   "name": "python",
   "nbconvert_exporter": "python",
   "pygments_lexer": "ipython3",
   "version": "3.8.12"
  }
 },
 "nbformat": 4,
 "nbformat_minor": 5
}
