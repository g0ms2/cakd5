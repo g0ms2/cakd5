{
 "cells": [
  {
   "cell_type": "markdown",
   "id": "72bec29c",
   "metadata": {},
   "source": [
    "# 주피터 노트북 사용법\n",
    "## 주피터 노트북 사용법\n",
    "### 주피터 노트북 사용법\n",
    "#### 주피터 노트북 사용법\n",
    "- 주피터\n",
    "- 노트북  \n",
    "\n",
    "#### 주피터 노트북 사용법\n",
    "1. 주피터\n",
    "2. 노트북"
   ]
  },
  {
   "cell_type": "markdown",
   "id": "63772c28",
   "metadata": {},
   "source": [
    "단축키\n",
    "- ESC를 눌러 커맨드 모드로 진입하여 Enter를 통해 cell을 수정할 수 있다.\n",
    "- A\n",
    "- B\n",
    "- M\n",
    "- Y\n",
    "- Ctrl + Enter, Shift + Enter, Alt + Enter"
   ]
  },
  {
   "cell_type": "markdown",
   "id": "4b7ff20d",
   "metadata": {},
   "source": [
    "매직 명령어 : 맨 앞에 %를 붙이고 특정 명령을 수행할 수 있다. 파이썬 문법에는 포함되지 않는 jupyter notebook만의 기능\n",
    "    <img src = '매직명령어.jpg' STYLE='width:800px'>"
   ]
  },
  {
   "cell_type": "code",
   "execution_count": 12,
   "id": "e68ce044",
   "metadata": {},
   "outputs": [],
   "source": [
    "# 수식 문법\n",
    "# - markdown  셀을 이용\n",
    "# - $ 혹은 $$를 앞뒤로 감싸서 수식을 기술\n",
    "#  * $ : 문장 안에 기술해야 하는 경우\n",
    "#  * $$ : 전체 라인으로 표기\n",
    "# - _와 ^기호를 이용해서 아래첨자와 위첨자를 사용 : a_1 a_(ij), b^2, b^(ij), c_1^2"
   ]
  },
  {
   "cell_type": "markdown",
   "id": "dedb2acd",
   "metadata": {},
   "source": [
    "###\n",
    "\n",
    "\n",
    "$a^2 + b^2 = c^2$\n",
    "\n",
    "$$ E = mc^2 $$\n"
   ]
  },
  {
   "cell_type": "markdown",
   "id": "6121c49d",
   "metadata": {},
   "source": [
    "https://www.youtube.com/channel/UCOlMZP-QJc0sWC2T0Rg2ZfA"
   ]
  }
 ],
 "metadata": {
  "kernelspec": {
   "display_name": "Python 3 (ipykernel)",
   "language": "python",
   "name": "python3"
  },
  "language_info": {
   "codemirror_mode": {
    "name": "ipython",
    "version": 3
   },
   "file_extension": ".py",
   "mimetype": "text/x-python",
   "name": "python",
   "nbconvert_exporter": "python",
   "pygments_lexer": "ipython3",
   "version": "3.8.12"
  }
 },
 "nbformat": 4,
 "nbformat_minor": 5
}
