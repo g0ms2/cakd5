{
 "cells": [
  {
   "cell_type": "code",
   "execution_count": 3,
   "id": "f460e0b1",
   "metadata": {},
   "outputs": [
    {
     "name": "stdout",
     "output_type": "stream",
     "text": [
      "입력 > 3\n",
      "입력 > 3.3\n",
      "6.3\n"
     ]
    }
   ],
   "source": [
    "num1 = int(input('입력 > '))\n",
    "num2 = float(input('입력 > '))\n",
    "print(num1 + num2)\n"
   ]
  },
  {
   "cell_type": "code",
   "execution_count": 5,
   "id": "ba49a9d0",
   "metadata": {},
   "outputs": [
    {
     "name": "stdout",
     "output_type": "stream",
     "text": [
      "5252.273\n"
     ]
    }
   ],
   "source": [
    "a= 52\n",
    "b= 52.273\n",
    "print(str(a)+str(b))"
   ]
  },
  {
   "cell_type": "code",
   "execution_count": 9,
   "id": "9b388be4",
   "metadata": {},
   "outputs": [
    {
     "name": "stdout",
     "output_type": "stream",
     "text": [
      "[1, 3, 4, 2]\n",
      "[4, 3, 2, 1]\n"
     ]
    }
   ],
   "source": [
    "b = [2,4,3,1]\n",
    "b.reverse()\n",
    "print(b)\n",
    "b_d = sorted(b, reverse=True)\n",
    "print(b_d)"
   ]
  },
  {
   "cell_type": "code",
   "execution_count": 13,
   "id": "dc7081ab",
   "metadata": {},
   "outputs": [
    {
     "name": "stdout",
     "output_type": "stream",
     "text": [
      "(33, 1)\n"
     ]
    }
   ],
   "source": [
    "print(divmod(100,3))"
   ]
  },
  {
   "cell_type": "code",
   "execution_count": 15,
   "id": "0b4d049c",
   "metadata": {},
   "outputs": [
    {
     "name": "stdout",
     "output_type": "stream",
     "text": [
      "1 2 3 4 5 "
     ]
    }
   ],
   "source": [
    "for i in range(1,11):\n",
    "    print(i,end =\" \")\n",
    "    if i < 5:\n",
    "        continue\n",
    "    else:\n",
    "        break"
   ]
  },
  {
   "cell_type": "code",
   "execution_count": 18,
   "id": "a2604090",
   "metadata": {},
   "outputs": [
    {
     "name": "stdout",
     "output_type": "stream",
     "text": [
      "45\n",
      "1035\n"
     ]
    }
   ],
   "source": [
    "x = 1\n",
    "sum = 0\n",
    "while 1:\n",
    "    sum = sum + x\n",
    "    if sum > 1000:\n",
    "        print(x)\n",
    "        print(sum)\n",
    "        break\n",
    "    x = x +1"
   ]
  },
  {
   "cell_type": "code",
   "execution_count": 27,
   "id": "1156c0f0",
   "metadata": {},
   "outputs": [
    {
     "name": "stdout",
     "output_type": "stream",
     "text": [
      "12345\n",
      "     12345\n",
      "12.3456789\n",
      "          12.34568\n"
     ]
    }
   ],
   "source": [
    "x = 12345\n",
    "print(f'{x:5}')\n",
    "print(f'{x:10}')\n",
    "x = 12.3456789\n",
    "print(f'{x:0.7f}')\n",
    "print(f'{x:18.5f}')"
   ]
  },
  {
   "cell_type": "code",
   "execution_count": null,
   "id": "68fff6e8",
   "metadata": {},
   "outputs": [],
   "source": [
    "i = 0\n",
    "sum = 0\n",
    "while 1 < 100:\n",
    "    i += 1\n",
    "    if 1 > 4 and 1 < 96:\n",
    "        sum += i\n",
    "print(sum)"
   ]
  },
  {
   "cell_type": "code",
   "execution_count": null,
   "id": "c3e9df12",
   "metadata": {},
   "outputs": [
    {
     "name": "stdout",
     "output_type": "stream",
     "text": [
      "게임 시작? 1/21\n",
      "게임 시작? 1/22\n",
      "게임 시작? 1/23\n",
      "게임 시작? 1/24\n"
     ]
    }
   ],
   "source": [
    "import numpy as np\n",
    "while 1:\n",
    "    s = input('게임 시작? 1/2')\n",
    "    if s == 1:\n",
    "        go = np.random.randint(0,100)\n",
    "        while a != go:\n",
    "            a = int(input('숫자 입력 (0~100) >>'))\n",
    "            "
   ]
  },
  {
   "cell_type": "code",
   "execution_count": 3,
   "id": "27c68c67",
   "metadata": {},
   "outputs": [
    {
     "name": "stdout",
     "output_type": "stream",
     "text": [
      "[8, 7, 6, 5, 4, 3, 2, 1, 0]\n"
     ]
    }
   ],
   "source": [
    "s = [0,1,2,3,4,5,6,7,8]\n",
    "list.reverse(s)\n",
    "print(s)"
   ]
  },
  {
   "cell_type": "code",
   "execution_count": 5,
   "id": "8e1751dc",
   "metadata": {},
   "outputs": [
    {
     "name": "stdout",
     "output_type": "stream",
     "text": [
      "1번째는 a입니다.\n",
      "2번째는 b입니다.\n",
      "3번째는 c입니다.\n"
     ]
    }
   ],
   "source": [
    "list = ['a','b','c']\n",
    "for i in range(0,len(list)):\n",
    "    print(f'{i+1}번째는 {list[i]}입니다.')"
   ]
  },
  {
   "cell_type": "code",
   "execution_count": 7,
   "id": "b2b20e88",
   "metadata": {},
   "outputs": [
    {
     "name": "stdout",
     "output_type": "stream",
     "text": [
      "[0, 4, 16, 36, 64, 100, 144, 196, 256, 324]\n"
     ]
    }
   ],
   "source": [
    "print([x*x for x in range(0, 20 , 2)])"
   ]
  },
  {
   "cell_type": "code",
   "execution_count": 2,
   "id": "9430260c",
   "metadata": {},
   "outputs": [
    {
     "name": "stdout",
     "output_type": "stream",
     "text": [
      "[0, 4, 16, 36, 64, 100, 144, 196, 256, 324]\n"
     ]
    }
   ],
   "source": [
    "print(list(map(lambda x: x*x, range(0 ,20 ,2))))"
   ]
  },
  {
   "cell_type": "code",
   "execution_count": 4,
   "id": "f4975c7b",
   "metadata": {},
   "outputs": [
    {
     "data": {
      "text/plain": [
       "'a::b::c'"
      ]
     },
     "execution_count": 4,
     "metadata": {},
     "output_type": "execute_result"
    }
   ],
   "source": [
    "'::'.join(['a','b','c'])"
   ]
  },
  {
   "cell_type": "code",
   "execution_count": 6,
   "id": "121ef8b7",
   "metadata": {},
   "outputs": [
    {
     "name": "stdout",
     "output_type": "stream",
     "text": [
      "d\n",
      "d\n",
      "\n"
     ]
    }
   ],
   "source": [
    "while 1:\n",
    "    data = input()\n",
    "    if not data:\n",
    "        break\n",
    "    print(data)"
   ]
  },
  {
   "cell_type": "code",
   "execution_count": 9,
   "id": "d3a7e622",
   "metadata": {},
   "outputs": [
    {
     "name": "stdout",
     "output_type": "stream",
     "text": [
      "반지름은?45\n",
      "반지름 45.0 , 둘레 282.6, 넓이 6358.5\n"
     ]
    }
   ],
   "source": [
    "def circle(r):\n",
    "    pi = 3.14\n",
    "    ra = round( 2 * pi * r,2)\n",
    "    a = r ** 2 * pi\n",
    "    print('반지름 {} , 둘레 {}, 넓이 {}'.format(r,ra,a))\n",
    "r = float(input('반지름은?'))\n",
    "circle(r)"
   ]
  },
  {
   "cell_type": "code",
   "execution_count": 20,
   "id": "9adb3a04",
   "metadata": {},
   "outputs": [
    {
     "name": "stdout",
     "output_type": "stream",
     "text": [
      "반지름은?5\n",
      "반지름 5.0, 둘레 31.400000000000002, 넓이 78.5\n"
     ]
    }
   ],
   "source": [
    "def cir(a):\n",
    "    p = 3.14\n",
    "    b = 2* p * a\n",
    "    c = a ** 2 * p\n",
    "    print('반지름 {}, 둘레 {}, 넓이 {}'.format(a,b,c))\n",
    "a = float(input('반지름은?'))\n",
    "cir(a)"
   ]
  },
  {
   "cell_type": "code",
   "execution_count": 22,
   "id": "f60392b0",
   "metadata": {},
   "outputs": [
    {
     "data": {
      "text/plain": [
       "[1.0, 2.0, 3.0, 4.0, 5.0]"
      ]
     },
     "execution_count": 22,
     "metadata": {},
     "output_type": "execute_result"
    }
   ],
   "source": [
    "a = [1,2,3,4,5]\n",
    "a = list(map(float,a))\n",
    "a"
   ]
  },
  {
   "cell_type": "code",
   "execution_count": 23,
   "id": "f0ce8a26",
   "metadata": {},
   "outputs": [
    {
     "name": "stdout",
     "output_type": "stream",
     "text": [
      "Alabama\n",
      "Georgia!\n",
      "Georgia\n",
      "gergia\n",
      "FlOrIdasouth     carolina##\n",
      "West virginia?\n"
     ]
    }
   ],
   "source": [
    "states = ['    Alabama', 'Georgia!', 'Georgia', 'gergia', 'FlOrIda'\n",
    "          'south     carolina##', 'West virginia?']\n",
    "new = [i.strip() for i in states]\n",
    "print(*new, sep = '\\n')"
   ]
  },
  {
   "cell_type": "code",
   "execution_count": 25,
   "id": "094a1f43",
   "metadata": {},
   "outputs": [
    {
     "data": {
      "text/plain": [
       "['Alabama',\n",
       " 'Georgia',\n",
       " 'Georgia',\n",
       " 'Gergia',\n",
       " 'Floridasouth     Carolina',\n",
       " 'West Virginia']"
      ]
     },
     "execution_count": 25,
     "metadata": {},
     "output_type": "execute_result"
    }
   ],
   "source": [
    "states = ['    Alabama', 'Georgia!', 'Georgia', 'gergia', 'FlOrIda'\n",
    "          'south     carolina##', 'West virginia?']\n",
    "import re\n",
    "def clean(st):\n",
    "    res = []\n",
    "    for va in st:\n",
    "        va = va.strip()\n",
    "        va = re.sub('[!?#]','',va)\n",
    "        va = va.title()\n",
    "        res.append(va)\n",
    "    return res\n",
    "clean(states)"
   ]
  },
  {
   "cell_type": "code",
   "execution_count": 27,
   "id": "2b9ca4a0",
   "metadata": {},
   "outputs": [
    {
     "name": "stdout",
     "output_type": "stream",
     "text": [
      "news.naver.com\n"
     ]
    }
   ],
   "source": [
    "url = 'http://news.naver.com/main/read.nhn?mode=LSD&mid=shm&sid1=105&oid=028&aid=0002334601'\n",
    "tmp = url.split('/')\n",
    "domain = tmp[2]\n",
    "print(domain)"
   ]
  },
  {
   "cell_type": "code",
   "execution_count": 3,
   "id": "6d6a4d33",
   "metadata": {},
   "outputs": [
    {
     "name": "stdout",
     "output_type": "stream",
     "text": [
      "숫자입력4\n",
      "숫자입력6\n",
      " + : 10, - : -2, * : 24, / : 0.6666666666666666\n"
     ]
    }
   ],
   "source": [
    "class Ca4:\n",
    "    def __init__(self,n1,n2):\n",
    "        self.n1 = n1\n",
    "        self.n2 = n2\n",
    "    def a(self):\n",
    "        return self.n1 + self.n2\n",
    "    def b(self):\n",
    "        return self.n1 - self.n2\n",
    "    def c(self):\n",
    "        return self.n1 * self.n2\n",
    "    def d(self):\n",
    "        return self.n1 / self.n2\n",
    "while 1:\n",
    "    try:\n",
    "        n1 = int(input('숫자입력'))\n",
    "        n2 = int(input('숫자입력'))\n",
    "        break\n",
    "    except:\n",
    "        print('제대로 입력하시오')\n",
    "ca = Ca4(n1,n2)\n",
    "print(f' + : {ca.a()}, - : {ca.b()}, * : {ca.c()}, / : {ca.d()}')"
   ]
  },
  {
   "cell_type": "code",
   "execution_count": null,
   "id": "726be002",
   "metadata": {},
   "outputs": [],
   "source": []
  },
  {
   "cell_type": "code",
   "execution_count": 5,
   "id": "a0430035",
   "metadata": {},
   "outputs": [
    {
     "name": "stdout",
     "output_type": "stream",
     "text": [
      "1번 : 45\n",
      "2번 : 44\n",
      "+ : 89, - : 1, * : 1980, / : 1.02\n"
     ]
    }
   ],
   "source": [
    "class Ca4:\n",
    "    def __init__(self,n1,n2):\n",
    "        self.n1 = n1\n",
    "        self.n2 = n2\n",
    "    def a(self):\n",
    "        return self.n1 + self.n2\n",
    "    def b(self):\n",
    "        return self.n1 - self.n2\n",
    "    def c(self):\n",
    "        return self.n1 * self.n2\n",
    "    def d(self):\n",
    "        return round(self.n1 / self.n2 , 2)\n",
    "while 1:\n",
    "    try:\n",
    "        n1 = int(input('1번 : '))\n",
    "        n2 = int(input('2번 : '))\n",
    "        break\n",
    "    except:\n",
    "        print('숫자를 적어주세요.')\n",
    "ca = Ca4(n1,n2)\n",
    "print(f'+ : {ca.a()}, - : {ca.b()}, * : {ca.c()}, / : {ca.d()}')"
   ]
  },
  {
   "cell_type": "code",
   "execution_count": 6,
   "id": "f2a53ec9",
   "metadata": {},
   "outputs": [
    {
     "name": "stdout",
     "output_type": "stream",
     "text": [
      "start\n",
      "try\n",
      "except\n",
      "finally\n",
      "end\n"
     ]
    }
   ],
   "source": [
    "print('start')\n",
    "while 1:\n",
    "    try:\n",
    "        print('try')\n",
    "        a = b +c\n",
    "        print(a)\n",
    "        break\n",
    "    except:\n",
    "        print('except')\n",
    "        break\n",
    "    finally:\n",
    "        print('finally')\n",
    "print('end')"
   ]
  },
  {
   "cell_type": "code",
   "execution_count": 7,
   "id": "f1cceb6b",
   "metadata": {},
   "outputs": [
    {
     "data": {
      "text/plain": [
       "(1, 2)"
      ]
     },
     "execution_count": 7,
     "metadata": {},
     "output_type": "execute_result"
    }
   ],
   "source": [
    "divmod(5,3)"
   ]
  }
 ],
 "metadata": {
  "kernelspec": {
   "display_name": "Python 3 (ipykernel)",
   "language": "python",
   "name": "python3"
  },
  "language_info": {
   "codemirror_mode": {
    "name": "ipython",
    "version": 3
   },
   "file_extension": ".py",
   "mimetype": "text/x-python",
   "name": "python",
   "nbconvert_exporter": "python",
   "pygments_lexer": "ipython3",
   "version": "3.8.12"
  }
 },
 "nbformat": 4,
 "nbformat_minor": 5
}
