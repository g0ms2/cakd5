{
 "cells": [
  {
   "cell_type": "markdown",
   "id": "1a003b4d",
   "metadata": {},
   "source": [
    "## 정규표현식의 기초, 메타 문자\n",
    "\n",
    "- . ^ $ * + ? {} [] \\ | ()\n",
    "- [] 문자 클래스\n",
    " - \\d 숫자와 매치, [0-9]와 동일한 표현식\n",
    " - \\D 숫자가 아닌 것과 매치, [^0-9]와 동일한 표현식\n",
    " - \\s whitespace 문자와 매치, [ \\t\\n\\r\\f\\v]와 동일한 표현식\n",
    " - \\S whitespace 문자가 아닌 것과 매치, [^ \\t\\n\\r\\f\\v]와 동일한 표현식\n",
    " - \\w 문자 + 숫자와 매치, [a-zA-Z0-9]와 동일한 표현\n",
    " - \\W 문자 + 숫자가 아닌 문자와 매치, [^a-zA-Z0-9]와 동일한 표현식\n",
    "\n",
    "- whitespace\n",
    " - 스페이스 바(아스키코드 32)\n",
    " - \\b 뒤로 한 칸 이동(Backspace) (아스키코드 8)\n",
    " - \\t 수평탭 간격 띄우기\n",
    " - \\n 줄바꿈 \n",
    " - \\v 수직탭 간격 띄우기\n",
    " - \\f 프린트 출력 용지를 한 페이지 넘김\n",
    " - \\r 동일한 줄의 맨 앞에서 커서 이동\n",
    " \n",
    "- Dot(.) 메타 문자는 줄바꿈 문자인 \\n를 제외한 모든 문자와 매치됨을 의미\n",
    "- 반복(\\*) ca*t 0부터 무한대로 반복 caaaaa*t, c*t\n",
    "- 반복(\\+) ca+t 최소 1번 이상 반복 \n",
    "- ca{m,n} a 반복 횟수가 m부터 n까지인 것을 매치\n",
    "- ca{2}t는 c+a(2번 반복)+t의 의미\n",
    "- 반복 횟수가 {1,}은 1 이상, {0,}은 0 이상인 경우로 +, * 와 동일하며 {,1}은 반복 횟수가 1 이하를 의미\n",
    "- ab?c b가 0~1번 사용되면 매치되는 것으로 ?은 앞에 b가 있어도 되고 없어도 된다.\n",
    "\n",
    "re 모듈 : 파이썬은 정규표현식을 지원하기 위해 기본으로 제공\n",
    "- re.compile의 결과로 리턴되는 객체를 이용하여 그 이후 작업 수행\n",
    "\n",
    "정규식을 이용한 문자열 검색\n",
    "- match() : 문자열의 처음부터 정규식과 매치되는지를 조사\n",
    "- search() : 문자열의 전체를 검색하여 정규식과 매치되는지 조사\n",
    "- findall() : 정규식과 매치되는 모든 문자열을 리스트로 리턴\n",
    "- finditer() : 정규식과 매치되는 모든 문자열을 반복 가능한 객체로 리턴"
   ]
  },
  {
   "cell_type": "code",
   "execution_count": 6,
   "id": "a351d861",
   "metadata": {},
   "outputs": [
    {
     "data": {
      "text/plain": [
       "<re.Match object; span=(0, 7), match='python '>"
      ]
     },
     "execution_count": 6,
     "metadata": {},
     "output_type": "execute_result"
    }
   ],
   "source": [
    "import re\n",
    "p = re.compile('[a-z]+\\s')\n",
    "m = p.match('python python')\n",
    "m"
   ]
  },
  {
   "cell_type": "code",
   "execution_count": 8,
   "id": "e8282b4c",
   "metadata": {},
   "outputs": [
    {
     "data": {
      "text/plain": [
       "<re.Match object; span=(0, 7), match='python '>"
      ]
     },
     "execution_count": 8,
     "metadata": {},
     "output_type": "execute_result"
    }
   ],
   "source": [
    "re.match('[a-z]+\\s',\"python python\")"
   ]
  },
  {
   "cell_type": "code",
   "execution_count": 11,
   "id": "e83feca0",
   "metadata": {},
   "outputs": [
    {
     "data": {
      "text/plain": [
       "['python ']"
      ]
     },
     "execution_count": 11,
     "metadata": {},
     "output_type": "execute_result"
    }
   ],
   "source": [
    "p.findall('python python')"
   ]
  },
  {
   "cell_type": "code",
   "execution_count": 13,
   "id": "224cd0a2",
   "metadata": {},
   "outputs": [
    {
     "data": {
      "text/plain": [
       "['python ', 'python ']"
      ]
     },
     "execution_count": 13,
     "metadata": {},
     "output_type": "execute_result"
    }
   ],
   "source": [
    "p.findall('python python ')"
   ]
  },
  {
   "cell_type": "code",
   "execution_count": 18,
   "id": "e368da8e",
   "metadata": {},
   "outputs": [
    {
     "name": "stdout",
     "output_type": "stream",
     "text": [
      "None\n"
     ]
    }
   ],
   "source": [
    "m = p.match('3python ')\n",
    "print(m)"
   ]
  },
  {
   "cell_type": "code",
   "execution_count": 19,
   "id": "4c329174",
   "metadata": {},
   "outputs": [
    {
     "name": "stdout",
     "output_type": "stream",
     "text": [
      "<re.Match object; span=(1, 8), match='python '>\n"
     ]
    }
   ],
   "source": [
    "m = p.search('3python ')\n",
    "print(m)"
   ]
  },
  {
   "cell_type": "code",
   "execution_count": 21,
   "id": "e8abc5f2",
   "metadata": {},
   "outputs": [
    {
     "name": "stdout",
     "output_type": "stream",
     "text": [
      "<re.Match object; span=(1, 6), match='anker'>\n",
      "<re.Match object; span=(0, 6), match='banker'>\n"
     ]
    }
   ],
   "source": [
    "# 문자 클래스 : []\n",
    "pattern = re.compile('[a-z]+')\n",
    "p1 = pattern.search('Banker')\n",
    "p2 = pattern.search('banker')\n",
    "print(p1)\n",
    "print(p2)"
   ]
  },
  {
   "cell_type": "code",
   "execution_count": 26,
   "id": "3eeb07ea",
   "metadata": {},
   "outputs": [
    {
     "data": {
      "text/plain": [
       "'a'"
      ]
     },
     "execution_count": 26,
     "metadata": {},
     "output_type": "execute_result"
    }
   ],
   "source": [
    "# Q. '12345abc'에서 'a'만 출력하세요.\n",
    "pattern = re.compile('[a]')\n",
    "p1 = pattern.search('12345abc')\n",
    "p1.group()"
   ]
  },
  {
   "cell_type": "code",
   "execution_count": 27,
   "id": "e455e32a",
   "metadata": {},
   "outputs": [
    {
     "data": {
      "text/plain": [
       "['a']"
      ]
     },
     "execution_count": 27,
     "metadata": {},
     "output_type": "execute_result"
    }
   ],
   "source": [
    "a = re.compile('a')\n",
    "a.findall('1234abc')\n"
   ]
  },
  {
   "cell_type": "code",
   "execution_count": 29,
   "id": "c4ea1f8c",
   "metadata": {},
   "outputs": [
    {
     "data": {
      "text/plain": [
       "'A'"
      ]
     },
     "execution_count": 29,
     "metadata": {},
     "output_type": "execute_result"
    }
   ],
   "source": [
    "# Q. '12345Abc'에서 'A'만 출력하세요.\n",
    "pattern = re.compile('[A]')\n",
    "p1 = pattern.search('12345Abc')\n",
    "p1.group()"
   ]
  },
  {
   "cell_type": "code",
   "execution_count": 7,
   "id": "68952753",
   "metadata": {},
   "outputs": [
    {
     "data": {
      "text/plain": [
       "'대'"
      ]
     },
     "execution_count": 7,
     "metadata": {},
     "output_type": "execute_result"
    }
   ],
   "source": [
    "#[과제] 'KOREA 대한민국'에서 '대' 만 출력하세요.\n",
    "pattern = re.compile('[대]')\n",
    "p1 = pattern.search('KOREA 대한민국')\n",
    "p1.group()"
   ]
  },
  {
   "cell_type": "code",
   "execution_count": 10,
   "id": "d6f164a7",
   "metadata": {},
   "outputs": [
    {
     "data": {
      "text/plain": [
       "'대'"
      ]
     },
     "execution_count": 10,
     "metadata": {},
     "output_type": "execute_result"
    }
   ],
   "source": [
    "import re\n",
    "p = re.compile('[가-하]')\n",
    "text = 'KOREA 대한민국'\n",
    "m = p.search(text)\n",
    "m.group()"
   ]
  },
  {
   "cell_type": "code",
   "execution_count": 41,
   "id": "e5169b69",
   "metadata": {},
   "outputs": [
    {
     "data": {
      "text/plain": [
       "'122333c'"
      ]
     },
     "execution_count": 41,
     "metadata": {},
     "output_type": "execute_result"
    }
   ],
   "source": [
    "# Q. '122333c'를 모두 출력하세요.\n",
    "import re\n",
    "p = re.compile('12{2}3{3}c')\n",
    "text = '122333c'\n",
    "m = p.search(text)\n",
    "m.group()"
   ]
  },
  {
   "cell_type": "code",
   "execution_count": 11,
   "id": "5fca6a58",
   "metadata": {},
   "outputs": [
    {
     "data": {
      "text/plain": [
       "'aaaaBBBcccDDDeee'"
      ]
     },
     "execution_count": 11,
     "metadata": {},
     "output_type": "execute_result"
    }
   ],
   "source": [
    "# [과제] 'aaaaBBBcccDDDeee'를 모두 출력하세요.\n",
    "import re\n",
    "p = re.compile('a{4}B{3}c{3}D{3}e{3}')\n",
    "text = 'aaaaBBBcccDDDeee'\n",
    "m = p.search(text)\n",
    "m.group()"
   ]
  },
  {
   "cell_type": "code",
   "execution_count": 13,
   "id": "22712769",
   "metadata": {},
   "outputs": [
    {
     "data": {
      "text/plain": [
       "'aaaaBBBcccDDDeee'"
      ]
     },
     "execution_count": 13,
     "metadata": {},
     "output_type": "execute_result"
    }
   ],
   "source": [
    "pattern = re.compile('\\w+')\n",
    "text = 'aaaaBBBcccDDDeee'\n",
    "m = pattern.search(text)\n",
    "m.group()\n"
   ]
  },
  {
   "cell_type": "code",
   "execution_count": 26,
   "id": "51f146b0",
   "metadata": {},
   "outputs": [
    {
     "name": "stdout",
     "output_type": "stream",
     "text": [
      "<re.Match object; span=(1, 2), match='C'>\n",
      "<re.Match object; span=(0, 1), match='C'>\n",
      "<re.Match object; span=(2, 3), match='C'>\n"
     ]
    }
   ],
   "source": [
    "# [과제] BC, CC, ABC 모두 C가 출력되는 정규 표현식을 ()에 작성하세요\n",
    "patturn = re.compile('[C]' )\n",
    "text1 = 'BC'\n",
    "text2 = 'CC'\n",
    "text3 = 'ABC'\n",
    "p1 = patturn.search(text1)\n",
    "p2 = patturn.search(text2)\n",
    "p3 = patturn.search(text3)\n",
    "print(p1)\n",
    "print(p2)\n",
    "print(p3)"
   ]
  },
  {
   "cell_type": "code",
   "execution_count": 48,
   "id": "041615fc",
   "metadata": {},
   "outputs": [
    {
     "name": "stdout",
     "output_type": "stream",
     "text": [
      "['life', 'is', 'too', 'short']\n",
      "life\n",
      "life\n"
     ]
    }
   ],
   "source": [
    "p = re.compile('[a-z]+')\n",
    "result1 = p.findall('life is too short')\n",
    "result2 = p.match('life is too short')\n",
    "result3 = p.search('life is too short')\n",
    "print(result1)\n",
    "print(result2.group())\n",
    "print(result3.group())"
   ]
  },
  {
   "cell_type": "code",
   "execution_count": 51,
   "id": "6b3a1dc1",
   "metadata": {},
   "outputs": [
    {
     "name": "stdout",
     "output_type": "stream",
     "text": [
      "life\n",
      "is\n",
      "too\n",
      "short\n"
     ]
    }
   ],
   "source": [
    "# finditer는 findall과 동일하지만 그 결과로 반복 가능한 객체를 돌려준다.\n",
    "result = p.finditer('life is too short')\n",
    "\n",
    "# list(result)\n",
    "for r in result:print(r.group())"
   ]
  },
  {
   "cell_type": "code",
   "execution_count": 14,
   "id": "7c53e025",
   "metadata": {},
   "outputs": [
    {
     "name": "stdout",
     "output_type": "stream",
     "text": [
      "032-232-3245\n"
     ]
    }
   ],
   "source": [
    "#[과제] 정규표현식을 사용하여 text에서 전화번호만 출력하세요.\n",
    "# text = \"문의사항이 있으면 032-232-3245로 연락주시기 바랍니다.\"\n",
    "import re\n",
    "text = \"문의사항이 있으면 032-232-3245로 연락주시기 바랍니다.\"\n",
    "num = re.compile(r'\\d\\d\\d-\\d\\d\\d-\\d\\d\\d\\d')\n",
    "obj = num.search(text)\n",
    "print(obj.group())"
   ]
  },
  {
   "cell_type": "code",
   "execution_count": 17,
   "id": "4be7a7fe",
   "metadata": {},
   "outputs": [
    {
     "data": {
      "text/plain": [
       "'032-232-3245'"
      ]
     },
     "execution_count": 17,
     "metadata": {},
     "output_type": "execute_result"
    }
   ],
   "source": [
    "import re\n",
    "petten = re.compile('\\d+-\\d+-\\d+')\n",
    "text = \"문의사항이 있으면 032-232-3245로 연락주시기 바랍니다.\"\n",
    "a = petten.search(text)\n",
    "a.group()\n"
   ]
  },
  {
   "cell_type": "code",
   "execution_count": 16,
   "id": "2fc08f94",
   "metadata": {},
   "outputs": [
    {
     "name": "stdout",
     "output_type": "stream",
     "text": [
      "032-232-3245\n"
     ]
    }
   ],
   "source": [
    "import re\n",
    "p = re.compile('[0-9-]')\n",
    "text = \"문의사항이 있으면 032-232-3245로 연락주시기 바랍니다\"\n",
    "m = p.findall(text)\n",
    "\n",
    "print(''.join(m))\n"
   ]
  },
  {
   "cell_type": "code",
   "execution_count": 64,
   "id": "0b38dbdb",
   "metadata": {},
   "outputs": [
    {
     "name": "stdout",
     "output_type": "stream",
     "text": [
      "['1', '2', '3', '4', '1', '2', '3', '4']\n"
     ]
    }
   ],
   "source": [
    "# Q. '1234a1234' 에서 '1', '2', '3', '4'를 모두 출력하세요.\n",
    "import re\n",
    "text = '1234a1234'\n",
    "t = re.compile('[1234]')\n",
    "tx = t.findall(text)\n",
    "print(tx)"
   ]
  },
  {
   "cell_type": "code",
   "execution_count": 61,
   "id": "3b20bbda",
   "metadata": {},
   "outputs": [
    {
     "name": "stdout",
     "output_type": "stream",
     "text": [
      "['1', '2', '3', '4']\n"
     ]
    }
   ],
   "source": [
    "import re\n",
    "text = '1234a1234'\n",
    "t = re.compile('[0-9]')\n",
    "tx = t.findall(text)\n",
    "print(sorted(set(tx)))\n"
   ]
  },
  {
   "cell_type": "code",
   "execution_count": 70,
   "id": "022cb40e",
   "metadata": {},
   "outputs": [
    {
     "data": {
      "text/plain": [
       "['Python', 'is', 'very', 'good', 'programming', 'language']"
      ]
     },
     "execution_count": 70,
     "metadata": {},
     "output_type": "execute_result"
    }
   ],
   "source": [
    "# ' Python3 is very good programming language!' 에서 ['Python', 'is', 'very',\n",
    "# 'good', 'programming', 'language']를 모두 출력하세요.\n",
    "import re\n",
    "text = ' Python3 is very good programming language!'\n",
    "t = re.compile('[a-zA-Z]+')\n",
    "# t = re.compile('[^a-zA-Z]+')\n",
    "t.findall(text)"
   ]
  },
  {
   "cell_type": "code",
   "execution_count": 72,
   "id": "56fc859f",
   "metadata": {},
   "outputs": [
    {
     "name": "stdout",
     "output_type": "stream",
     "text": [
      "python\n",
      "0\n",
      "6\n",
      "(0, 6)\n"
     ]
    }
   ],
   "source": [
    "#  match 객체의 메소드\n",
    "import re\n",
    "p = re.compile('[a-z]+')\n",
    "m = p.match('python')\n",
    "print(m.group())\n",
    "print(m.start())\n",
    "print(m.end())\n",
    "print(m.span())\n"
   ]
  },
  {
   "cell_type": "code",
   "execution_count": 75,
   "id": "47aa73fb",
   "metadata": {},
   "outputs": [
    {
     "name": "stdout",
     "output_type": "stream",
     "text": [
      "python\n",
      "2\n",
      "8\n",
      "(2, 8)\n"
     ]
    }
   ],
   "source": [
    "m = p.search('3 python')\n",
    "print(m.group())\n",
    "print(m.start())\n",
    "print(m.end())\n",
    "print(m.span())"
   ]
  },
  {
   "cell_type": "code",
   "execution_count": 77,
   "id": "cb7a7e49",
   "metadata": {},
   "outputs": [
    {
     "name": "stdout",
     "output_type": "stream",
     "text": [
      "python\n"
     ]
    }
   ],
   "source": [
    "# 모듈 단위로 수행하기\n",
    "m = re.match('[a-z]+',\"python\")\n",
    "print(m.group())"
   ]
  },
  {
   "cell_type": "code",
   "execution_count": 84,
   "id": "d0c5f2f7",
   "metadata": {},
   "outputs": [
    {
     "name": "stdout",
     "output_type": "stream",
     "text": [
      "None\n",
      "acb\n",
      "a12?Ab\n"
     ]
    }
   ],
   "source": [
    "# Dot(.) 메타 문자 \n",
    "import re\n",
    "p = re.compile('a.+b')\n",
    "m1 = p.match('a\\nb')\n",
    "m2 = p.match('acb')\n",
    "m3 = p.match('a12?Abc')\n",
    "print(m1)\n",
    "print(m2.group())\n",
    "print(m3.group())"
   ]
  },
  {
   "cell_type": "code",
   "execution_count": 87,
   "id": "b67c37f0",
   "metadata": {},
   "outputs": [
    {
     "data": {
      "text/plain": [
       "'a\\nb'"
      ]
     },
     "execution_count": 87,
     "metadata": {},
     "output_type": "execute_result"
    }
   ],
   "source": [
    "p = re.compile('a.b', re.DOTALL)\n",
    "m = p.match('a\\nb')\n",
    "m.group()"
   ]
  },
  {
   "cell_type": "code",
   "execution_count": 92,
   "id": "dc060347",
   "metadata": {},
   "outputs": [
    {
     "name": "stdout",
     "output_type": "stream",
     "text": [
      "<re.Match object; span=(0, 6), match='python'>\n",
      "<re.Match object; span=(0, 6), match='Python'>\n",
      "<re.Match object; span=(0, 6), match='PYTHON'>\n"
     ]
    }
   ],
   "source": [
    "# re.IGNORANCE 또는 re.I 옵션은 대소문자 구분없이 매치를 수행시 사용\n",
    "p = re.compile('[a-z]+',re.I)\n",
    "print(p.match('python'))\n",
    "print(p.match('Python'))\n",
    "print(p.match('PYTHON'))\n"
   ]
  },
  {
   "cell_type": "code",
   "execution_count": 95,
   "id": "1e46ff53",
   "metadata": {},
   "outputs": [
    {
     "name": "stdout",
     "output_type": "stream",
     "text": [
      "<re.Match object; span=(2, 8), match='python'>\n",
      "<re.Match object; span=(2, 8), match='Python'>\n",
      "<re.Match object; span=(2, 8), match='PYTHON'>\n"
     ]
    }
   ],
   "source": [
    "print(p.search('3 python'))\n",
    "print(p.search('3 Python'))\n",
    "print(p.search('3 PYTHON'))\n"
   ]
  },
  {
   "cell_type": "code",
   "execution_count": 97,
   "id": "70a1f95c",
   "metadata": {},
   "outputs": [
    {
     "name": "stdout",
     "output_type": "stream",
     "text": [
      "['python one']\n"
     ]
    }
   ],
   "source": [
    "# ^ 문자열 맨처음\n",
    "p = re.compile('^python\\s\\w+')\n",
    "\n",
    "data = \"\"\"python one\n",
    "life is too short\n",
    "python two\n",
    "you need python\n",
    "python three\"\"\"\n",
    "\n",
    "print(p.findall(data))"
   ]
  },
  {
   "cell_type": "code",
   "execution_count": 101,
   "id": "2cdf8efc",
   "metadata": {},
   "outputs": [
    {
     "name": "stdout",
     "output_type": "stream",
     "text": [
      "['python three']\n"
     ]
    }
   ],
   "source": [
    "# $ 문자열 맨마지막\n",
    "p = re.compile('python\\s\\w+$')\n",
    "\n",
    "data = \"\"\"python one\n",
    "life is too short\n",
    "python two\n",
    "you need python\n",
    "python three\"\"\"\n",
    "\n",
    "print(p.findall(data))"
   ]
  },
  {
   "cell_type": "code",
   "execution_count": 102,
   "id": "6fa9b0f1",
   "metadata": {},
   "outputs": [
    {
     "name": "stdout",
     "output_type": "stream",
     "text": [
      "<re.Match object; span=(0, 4), match='Crow'>\n"
     ]
    }
   ],
   "source": [
    "# | or 와 동일한 의미\n",
    "\n",
    "p = re.compile('Crow|Servo')\n",
    "m = p.match('CrowHello')\n",
    "print(m)"
   ]
  },
  {
   "cell_type": "code",
   "execution_count": 106,
   "id": "b4ed8fbf",
   "metadata": {},
   "outputs": [
    {
     "name": "stdout",
     "output_type": "stream",
     "text": [
      "<re.Match object; span=(0, 8), match='\\\\section'>\n"
     ]
    },
    {
     "data": {
      "text/plain": [
       "['\\\\section', '\\\\section']"
      ]
     },
     "execution_count": 106,
     "metadata": {},
     "output_type": "execute_result"
    }
   ],
   "source": [
    "# Raw String 규칙\n",
    "# \n",
    "p = re.compile(r'\\\\section')\n",
    "\n",
    "print(p.match('\\section'))\n",
    "p.findall('\\section\\section')"
   ]
  },
  {
   "cell_type": "code",
   "execution_count": 4,
   "id": "450fd2c1",
   "metadata": {},
   "outputs": [
    {
     "data": {
      "text/plain": [
       "'home'"
      ]
     },
     "execution_count": 4,
     "metadata": {},
     "output_type": "execute_result"
    }
   ],
   "source": [
    "# Q. 'we are going home'에서 home만 출력하세요.\n",
    "import re\n",
    "p = re.compile('home$')\n",
    "mo1 = p.search('we are going home')\n",
    "mo1.group()"
   ]
  },
  {
   "cell_type": "code",
   "execution_count": 6,
   "id": "da5beae3",
   "metadata": {},
   "outputs": [
    {
     "data": {
      "text/plain": [
       "'home'"
      ]
     },
     "execution_count": 6,
     "metadata": {},
     "output_type": "execute_result"
    }
   ],
   "source": [
    "# [과제] 'home sweet'에서 home만 출력하세요.\n",
    "import re\n",
    "p = re.compile('^home')\n",
    "mo1 = p.search('home sweet')\n",
    "mo1.group()"
   ]
  },
  {
   "cell_type": "code",
   "execution_count": 1,
   "id": "9289b9b4",
   "metadata": {},
   "outputs": [
    {
     "data": {
      "text/plain": [
       "'199305'"
      ]
     },
     "execution_count": 1,
     "metadata": {},
     "output_type": "execute_result"
    }
   ],
   "source": [
    "#[과제] '199305, 1923A, a93247'에서 '199305'만 출력하세요\n",
    "import re\n",
    "p = re.compile('^199305')\n",
    "mo1 = p.search('199305, 1923A, a93247')\n",
    "mo1.group()"
   ]
  },
  {
   "cell_type": "code",
   "execution_count": 2,
   "id": "75781f72",
   "metadata": {},
   "outputs": [
    {
     "data": {
      "text/plain": [
       "'199305'"
      ]
     },
     "execution_count": 2,
     "metadata": {},
     "output_type": "execute_result"
    }
   ],
   "source": [
    "p = re.compile('[0-9]+')\n",
    "m = p.search('199305, 1923A, a93247')\n",
    "m.group()\n"
   ]
  },
  {
   "cell_type": "code",
   "execution_count": 13,
   "id": "b88cd697",
   "metadata": {},
   "outputs": [
    {
     "name": "stdout",
     "output_type": "stream",
     "text": [
      "<re.Match object; span=(3, 9), match='ABCDEF'>\n",
      "ABCDEF\n",
      "ABCDEF\n",
      "AB\n",
      "CD\n",
      "EF\n"
     ]
    }
   ],
   "source": [
    "# 그룹핑 : 매치된 문자열 중에서 특정 부분의 문자열만 뽑아내는 경우 ()을 만들어줌.\n",
    "# group0) 매치된 전체 문자열, 1 첫번째 그룹, 2 두번째 그룹, n n번째 그룹\n",
    "p = re.compile('((AB)(CD)(EF))+')\n",
    "m = p.search('DEFABCDEFDEF OK?')\n",
    "\n",
    "print(m)\n",
    "print(m.group(0))\n",
    "print(m.group(1))\n",
    "print(m.group(2))\n",
    "print(m.group(3))\n",
    "print(m.group(4))"
   ]
  },
  {
   "cell_type": "code",
   "execution_count": 6,
   "id": "bc44ebdc",
   "metadata": {},
   "outputs": [
    {
     "name": "stdout",
     "output_type": "stream",
     "text": [
      "abcdefghi\n",
      "e\n"
     ]
    }
   ],
   "source": [
    "# [과제] 'abcdefghij'에 대하여 중첩을 적용한 서브그룹 5개로 컴파일하여\n",
    "# group() 함수를 이용하여 'abcdefghi'와 'e'를 출력하세요.\n",
    "p = re.compile('((a(b(cd(e)fg)h)i)j)')\n",
    "m = p.search('abcdefghij')\n",
    "\n",
    "print(m.group(2))\n",
    "print(m.group(5))"
   ]
  },
  {
   "cell_type": "code",
   "execution_count": 4,
   "id": "5f08312a",
   "metadata": {},
   "outputs": [
    {
     "name": "stdout",
     "output_type": "stream",
     "text": [
      "abcdefghi\n",
      "e\n"
     ]
    }
   ],
   "source": [
    "text = 'abcdefghij'\n",
    "p = re.compile('(\\w{4}(\\w)(\\w{2})(\\w{2}))(\\w)')\n",
    "a = p.search(text)\n",
    "print(a.group(1))\n",
    "print(a.group(2))\n"
   ]
  }
 ],
 "metadata": {
  "kernelspec": {
   "display_name": "Python 3 (ipykernel)",
   "language": "python",
   "name": "python3"
  },
  "language_info": {
   "codemirror_mode": {
    "name": "ipython",
    "version": 3
   },
   "file_extension": ".py",
   "mimetype": "text/x-python",
   "name": "python",
   "nbconvert_exporter": "python",
   "pygments_lexer": "ipython3",
   "version": "3.8.12"
  }
 },
 "nbformat": 4,
 "nbformat_minor": 5
}
