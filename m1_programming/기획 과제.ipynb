{
 "cells": [
  {
   "cell_type": "code",
   "execution_count": null,
   "id": "81444f70",
   "metadata": {},
   "outputs": [
    {
     "name": "stdout",
     "output_type": "stream",
     "text": [
      "==================================================\n",
      "오늘도 점심이 걱정이신가요? 점심을 추천해 드릴게요!\n",
      "==================================================\n",
      "밥이냐 면이냐 국이냐 그대의 선택은~!?밥\n",
      "오늘의 메뉴는 바로바로~!!제육덮밥\n",
      "메뉴가 마음에 든다면 y,\n",
      "                        다시 고르고 싶다면 n,\n",
      "                        도움이 안된다면 나머지를 누르세요ㅠ_ㅠㅛ\n",
      "혼자서도 잘할 수 있죠?!\n",
      "오늘의 메뉴는 바로바로~!!제육덮밥\n",
      "메뉴가 마음에 든다면 y,\n",
      "                        다시 고르고 싶다면 n,\n",
      "                        도움이 안된다면 나머지를 누르세요ㅠ_ㅠㅜ\n",
      "혼자서도 잘할 수 있죠?!\n",
      "오늘의 메뉴는 바로바로~!!삼겹살정식\n"
     ]
    }
   ],
   "source": [
    "import time\n",
    "import random\n",
    "print('='*50)\n",
    "print('오늘도 점심이 걱정이신가요? 점심을 추천해 드릴게요!')\n",
    "print('='*50)\n",
    "time.sleep(1)\n",
    "rice = ['김치볶음밥','제육덮밥','낙지덮밥','생선구이정식','삼겹살정식']\n",
    "noodle = ['라면','우동','쫄면','냉면','파스타','짜장면','짬뽕']\n",
    "soup = ['돼지국밥','순두부찌개','김치찌개','된장찌개']\n",
    "pick = input('밥이냐 면이냐 국이냐 그대의 선택은~!?')\n",
    "while 1:\n",
    "    if pick == '밥':\n",
    "        print('오늘의 메뉴는 바로바로~!!' + random.choice(rice))\n",
    "        like = input('''메뉴가 마음에 든다면 y,\n",
    "                        다시 고르고 싶다면 n,\n",
    "                        도움이 안된다면 나머지를 누르세요ㅠ_ㅠ''')\n",
    "        if like == 'y':\n",
    "            print('오늘도 즐겁고 맛있는 점심 식사가 되시길~!')\n",
    "            break\n",
    "        elif like == 'n':\n",
    "            print('다시 골라')\n",
    "        else:\n",
    "            print('혼자서도 잘할 수 있죠?!')"
   ]
  }
 ],
 "metadata": {
  "kernelspec": {
   "display_name": "Python 3 (ipykernel)",
   "language": "python",
   "name": "python3"
  },
  "language_info": {
   "codemirror_mode": {
    "name": "ipython",
    "version": 3
   },
   "file_extension": ".py",
   "mimetype": "text/x-python",
   "name": "python",
   "nbconvert_exporter": "python",
   "pygments_lexer": "ipython3",
   "version": "3.8.12"
  }
 },
 "nbformat": 4,
 "nbformat_minor": 5
}
