{
 "cells": [
  {
   "cell_type": "code",
   "execution_count": 1,
   "id": "ffc92e72",
   "metadata": {},
   "outputs": [],
   "source": [
    "import numpy as np"
   ]
  },
  {
   "cell_type": "code",
   "execution_count": 2,
   "id": "a3268240",
   "metadata": {},
   "outputs": [
    {
     "data": {
      "text/plain": [
       "array([[6, 2, 7, 1, 8],\n",
       "       [3, 2, 5, 5, 7],\n",
       "       [8, 4, 2, 7, 8],\n",
       "       [3, 5, 7, 3, 3],\n",
       "       [1, 6, 7, 2, 5]])"
      ]
     },
     "execution_count": 2,
     "metadata": {},
     "output_type": "execute_result"
    }
   ],
   "source": [
    "arr = np.random.randint(1,10, size=(5,5))\n",
    "arr"
   ]
  },
  {
   "cell_type": "code",
   "execution_count": 5,
   "id": "bf6666ef",
   "metadata": {},
   "outputs": [
    {
     "data": {
      "text/plain": [
       "array([[6, 3, 8, 3, 1],\n",
       "       [2, 2, 4, 5, 6],\n",
       "       [7, 5, 2, 7, 7],\n",
       "       [1, 5, 7, 3, 2],\n",
       "       [8, 7, 8, 3, 5]])"
      ]
     },
     "execution_count": 5,
     "metadata": {},
     "output_type": "execute_result"
    }
   ],
   "source": [
    "# 전치\n",
    "arr.T\n",
    "np.transpose(arr)"
   ]
  },
  {
   "cell_type": "code",
   "execution_count": 6,
   "id": "de3cbbb7",
   "metadata": {},
   "outputs": [
    {
     "data": {
      "text/plain": [
       "array([[119,  71, 101,  88, 147],\n",
       "       [ 71,  85, 109,  67, 107],\n",
       "       [101, 109, 176,  81, 163],\n",
       "       [ 88,  67,  81,  88, 118],\n",
       "       [147, 107, 163, 118, 211]])"
      ]
     },
     "execution_count": 6,
     "metadata": {},
     "output_type": "execute_result"
    }
   ],
   "source": [
    "# 행렬곱, 내적\n",
    "np.dot (arr.T, arr)"
   ]
  },
  {
   "cell_type": "code",
   "execution_count": 10,
   "id": "fa51870f",
   "metadata": {},
   "outputs": [
    {
     "name": "stdout",
     "output_type": "stream",
     "text": [
      "[[0 1 2]\n",
      " [3 4 5]] \n",
      "\n",
      "[[0 3]\n",
      " [1 4]\n",
      " [2 5]] \n",
      "\n",
      "[[0 3]\n",
      " [1 4]\n",
      " [2 5]]\n"
     ]
    }
   ],
   "source": [
    "a = np.arange(6).reshape(2,3)\n",
    "print(a,'\\n')\n",
    "\n",
    "y = np.swapaxes(a, 0,1) # 0은 2차원(열), 1은 1차원(행)\n",
    "print(y,'\\n')\n",
    "\n",
    "y = a.T\n",
    "y = np.transpose(a)\n",
    "print(y)"
   ]
  },
  {
   "cell_type": "code",
   "execution_count": 19,
   "id": "26bde805",
   "metadata": {},
   "outputs": [
    {
     "name": "stdout",
     "output_type": "stream",
     "text": [
      "[ 1  2  3  4  5  6  7  8  9 10]\n",
      "[20 19 18 17 16 15 14 13 12 11]\n",
      "[21 22 23 24 25 26 27 28 29 30]\n",
      "[40 39 38 37 36 35 34 33 32 31]\n",
      "[41 42 43 44 45 46 47 48 49 50]\n",
      "[60 59 58 57 56 55 54 53 52 51]\n",
      "[61 62 63 64 65 66 67 68 69 70]\n",
      "[80 79 78 77 76 75 74 73 72 71]\n",
      "[81 82 83 84 85 86 87 88 89 90]\n",
      "[100  99  98  97  96  95  94  93  92  91]\n"
     ]
    }
   ],
   "source": [
    "# 1~100을 아래와 같이 출력하세요.\n",
    "arr = np.arange(1,101)\n",
    "arr1 = arr.reshape(10,10)\n",
    "print(arr1[0])\n",
    "print(arr1[1,::-1])\n",
    "print(arr1[2])\n",
    "print(arr1[3,::-1])\n",
    "print(arr1[4])\n",
    "print(arr1[5,::-1])\n",
    "print(arr1[6])\n",
    "print(arr1[7,::-1])\n",
    "print(arr1[8])\n",
    "print(arr1[9,::-1])"
   ]
  },
  {
   "cell_type": "code",
   "execution_count": 21,
   "id": "5d3a6bdb",
   "metadata": {},
   "outputs": [
    {
     "name": "stdout",
     "output_type": "stream",
     "text": [
      "[[  1   2   3   4   5   6   7   8   9  10]\n",
      " [ 20  19  18  17  16  15  14  13  12  11]\n",
      " [ 21  22  23  24  25  26  27  28  29  30]\n",
      " [ 40  39  38  37  36  35  34  33  32  31]\n",
      " [ 41  42  43  44  45  46  47  48  49  50]\n",
      " [ 60  59  58  57  56  55  54  53  52  51]\n",
      " [ 61  62  63  64  65  66  67  68  69  70]\n",
      " [ 80  79  78  77  76  75  74  73  72  71]\n",
      " [ 81  82  83  84  85  86  87  88  89  90]\n",
      " [100  99  98  97  96  95  94  93  92  91]]\n"
     ]
    }
   ],
   "source": [
    "arr = np.arange(1,101).reshape(10,10)\n",
    "arr[[1,3,5,7,9]] = arr[[1,3,5,7,9]][:,[9,8,7,6,5,4,3,2,1,0]]\n",
    "print(arr)\n"
   ]
  },
  {
   "cell_type": "code",
   "execution_count": 22,
   "id": "ec1228ee",
   "metadata": {},
   "outputs": [
    {
     "name": "stdout",
     "output_type": "stream",
     "text": [
      "[[  1   2   3   4   5   6   7   8   9  10]\n",
      " [ 20  19  18  17  16  15  14  13  12  11]\n",
      " [ 21  22  23  24  25  26  27  28  29  30]\n",
      " [ 40  39  38  37  36  35  34  33  32  31]\n",
      " [ 41  42  43  44  45  46  47  48  49  50]\n",
      " [ 60  59  58  57  56  55  54  53  52  51]\n",
      " [ 61  62  63  64  65  66  67  68  69  70]\n",
      " [ 80  79  78  77  76  75  74  73  72  71]\n",
      " [ 81  82  83  84  85  86  87  88  89  90]\n",
      " [100  99  98  97  96  95  94  93  92  91]]\n"
     ]
    }
   ],
   "source": [
    "a = np.arange(1, 101).reshape((10, -1))\n",
    "\n",
    "for i in range(10):\n",
    "    if i % 2 == 1:\n",
    "        a[i] = a[i][::-1]\n",
    "\n",
    "print(a)\n"
   ]
  },
  {
   "cell_type": "code",
   "execution_count": 32,
   "id": "49bcb622",
   "metadata": {},
   "outputs": [
    {
     "name": "stdout",
     "output_type": "stream",
     "text": [
      "[[[0 1 2]\n",
      "  [3 4 5]]] (1, 2, 3) \n",
      "\n",
      "[[[0 1 2]]\n",
      "\n",
      " [[3 4 5]]] (2, 1, 3)\n"
     ]
    }
   ],
   "source": [
    "# (0,1,2)\n",
    "# 3차원과 2차원을 바꾸는 경우 : (1,2,3) -> (2,1,3)\n",
    "a = np.arange(6).reshape(1,2,3)\n",
    "print(a,a.shape,'\\n')\n",
    "\n",
    "y = np.transpose(a,(1,0,2))\n",
    "print(y,y.shape)"
   ]
  },
  {
   "cell_type": "code",
   "execution_count": 33,
   "id": "cdf37080",
   "metadata": {},
   "outputs": [
    {
     "name": "stdout",
     "output_type": "stream",
     "text": [
      "[[[0 1 2]\n",
      "  [3 4 5]]] (1, 2, 3) \n",
      "\n",
      "[[[0]\n",
      "  [1]\n",
      "  [2]]\n",
      "\n",
      " [[3]\n",
      "  [4]\n",
      "  [5]]] (2, 3, 1)\n"
     ]
    }
   ],
   "source": [
    "# (1,2,3) -> (2,3,1)\n",
    "a = np.arange(6).reshape(1,2,3)\n",
    "print(a,a.shape,'\\n')\n",
    "\n",
    "y = np.transpose(a,(1,2,0))\n",
    "print(y,y.shape)"
   ]
  },
  {
   "cell_type": "code",
   "execution_count": 40,
   "id": "9a654bde",
   "metadata": {},
   "outputs": [
    {
     "name": "stdout",
     "output_type": "stream",
     "text": [
      "[1 2 0]\n",
      "[1 2 0]\n"
     ]
    }
   ],
   "source": [
    "# 나머지를 구할 경우 사용하는 함수\n",
    "value1= np.array([15,30,45])\n",
    "value2 = np.array([2,7,9])\n",
    "print(np.mod(value1,value2))\n",
    "print(np.remainder(value1,value2))"
   ]
  },
  {
   "cell_type": "code",
   "execution_count": 44,
   "id": "cddbafc0",
   "metadata": {},
   "outputs": [
    {
     "name": "stdout",
     "output_type": "stream",
     "text": [
      "[1.17647059 0.54054054 1.         0.01      ] \n",
      "\n",
      "[100] \n",
      "\n",
      "[0.01]\n"
     ]
    }
   ],
   "source": [
    "# 각 수의 역수를 구해주는 함수\n",
    "value = np.array([0.85, 1.85, 1, 100])\n",
    "print(np.reciprocal(value),'\\n')\n",
    "\n",
    "value1 = np.array([100],dtype = int)\n",
    "print(value1,'\\n')\n",
    "print(np.reciprocal(value1, dtype = float))"
   ]
  },
  {
   "cell_type": "code",
   "execution_count": 45,
   "id": "bd43a45d",
   "metadata": {},
   "outputs": [
    {
     "name": "stdout",
     "output_type": "stream",
     "text": [
      "[  4 100 225] \n",
      "\n",
      "[   2  100 3375]\n"
     ]
    }
   ],
   "source": [
    "# 승수의 결과 값을 표시해주는 함수\n",
    "value1 = np.array([2,10,15])\n",
    "value2 = np.array([1,2,3])\n",
    "\n",
    "print(np.power(value1,2),'\\n')\n",
    "print(np.power(value1,value2))"
   ]
  },
  {
   "cell_type": "code",
   "execution_count": 2,
   "id": "7d4d722e",
   "metadata": {},
   "outputs": [
    {
     "name": "stdout",
     "output_type": "stream",
     "text": [
      "0.6617060246545815 \n",
      "\n",
      "0.8595235693777018\n"
     ]
    },
    {
     "data": {
      "text/plain": [
       "array([-0.16152214,  1.49393102,  0.4430447 ,  1.86588377,  0.2252329 ,\n",
       "        0.93936094, -0.39523516, -0.13603552,  0.1763726 ,  2.16602713])"
      ]
     },
     "execution_count": 2,
     "metadata": {},
     "output_type": "execute_result"
    }
   ],
   "source": [
    "import numpy as np\n",
    "arr = np.random.randn(10)\n",
    "print(arr.mean(),'\\n')\n",
    "print(arr.std())\n",
    "arr"
   ]
  },
  {
   "cell_type": "code",
   "execution_count": 53,
   "id": "63afac94",
   "metadata": {},
   "outputs": [
    {
     "data": {
      "text/plain": [
       "4"
      ]
     },
     "execution_count": 53,
     "metadata": {},
     "output_type": "execute_result"
    }
   ],
   "source": [
    "# 양수인 원소의 개수\n",
    "(arr > 0).sum()"
   ]
  },
  {
   "cell_type": "code",
   "execution_count": 55,
   "id": "d03de052",
   "metadata": {},
   "outputs": [
    {
     "data": {
      "text/plain": [
       "True"
      ]
     },
     "execution_count": 55,
     "metadata": {},
     "output_type": "execute_result"
    }
   ],
   "source": [
    "# 하나 이상의 값이 True인지 검사\n",
    "bools = np.array([False,False,True,True])\n",
    "bools.any()"
   ]
  },
  {
   "cell_type": "code",
   "execution_count": 56,
   "id": "37a289f3",
   "metadata": {},
   "outputs": [
    {
     "data": {
      "text/plain": [
       "False"
      ]
     },
     "execution_count": 56,
     "metadata": {},
     "output_type": "execute_result"
    }
   ],
   "source": [
    "# 모든 원소가 True인지 검사\n",
    "bools.all()"
   ]
  },
  {
   "cell_type": "code",
   "execution_count": 58,
   "id": "9bb04951",
   "metadata": {},
   "outputs": [
    {
     "name": "stdout",
     "output_type": "stream",
     "text": [
      "[[ 0.34541309  0.11326651  0.47728937 -0.020818  ]\n",
      " [-0.85114427 -0.6489264   1.03275254  0.62459837]\n",
      " [-0.02016008  0.10980239  0.30083616 -0.34518019]\n",
      " [ 0.74292572  0.71697239 -1.41838109 -0.22408034]] \n",
      "\n"
     ]
    },
    {
     "data": {
      "text/plain": [
       "array([[ 2,  2,  2, -2],\n",
       "       [-2, -2,  2,  2],\n",
       "       [-2,  2,  2, -2],\n",
       "       [ 2,  2, -2, -2]])"
      ]
     },
     "execution_count": 58,
     "metadata": {},
     "output_type": "execute_result"
    }
   ],
   "source": [
    "# 삼항식의 벡터화 버젼\n",
    "arr = np.random.randn(4,4)\n",
    "print(arr,'\\n')\n",
    "np.where(arr > 0, 2, -2)\n"
   ]
  },
  {
   "cell_type": "code",
   "execution_count": 61,
   "id": "3af577e6",
   "metadata": {},
   "outputs": [
    {
     "data": {
      "text/plain": [
       "array([[ 2.        ,  2.        ,  2.        , -0.020818  ],\n",
       "       [-0.85114427, -0.6489264 ,  2.        ,  2.        ],\n",
       "       [-0.02016008,  2.        ,  2.        , -0.34518019],\n",
       "       [ 2.        ,  2.        , -1.41838109, -0.22408034]])"
      ]
     },
     "execution_count": 61,
     "metadata": {},
     "output_type": "execute_result"
    }
   ],
   "source": [
    "# arr의 모든 양수를 2로 바꿀 경우\n",
    "np.where(arr > 0, 2, arr )"
   ]
  },
  {
   "cell_type": "code",
   "execution_count": 63,
   "id": "82c7a70f",
   "metadata": {},
   "outputs": [
    {
     "name": "stdout",
     "output_type": "stream",
     "text": [
      "[[1 2 3]\n",
      " [1 2 3]\n",
      " [1 2 3]] \n",
      "\n",
      "[[1 1 1]\n",
      " [2 2 2]\n",
      " [3 3 3]]\n"
     ]
    }
   ],
   "source": [
    "# 두개의 1차원 배열을 받아서 가능한 모든 (x,y) 짝을 만들 수 있는 2차원 배열 2개 반환\n",
    "x = np.arange(1,4)\n",
    "y = np.arange(1,4)\n",
    "xs,ys = np.meshgrid(x,y)\n",
    "print(xs,'\\n')\n",
    "print(ys)"
   ]
  },
  {
   "cell_type": "code",
   "execution_count": 6,
   "id": "d44c6aaf",
   "metadata": {},
   "outputs": [
    {
     "name": "stdout",
     "output_type": "stream",
     "text": [
      "[45 48 65 68 68 10 84 22 37 88] \n",
      "\n",
      "[10 22 37 45 48 65 68 68 84 88] \n",
      "\n",
      "[45 48 65 68 68 10 84 22 37 88]\n"
     ]
    }
   ],
   "source": [
    "# np.sort()\n",
    "import numpy as np\n",
    "np.random.seed(0)\n",
    "arr = np.random.randint(1,100,size=10)\n",
    "print(arr,'\\n')\n",
    "print(np.sort(arr),'\\n')\n",
    "print(arr)"
   ]
  },
  {
   "cell_type": "code",
   "execution_count": 8,
   "id": "61e235c6",
   "metadata": {},
   "outputs": [
    {
     "name": "stdout",
     "output_type": "stream",
     "text": [
      "[10 22 37 45 48 65 68 68 84 88]\n"
     ]
    }
   ],
   "source": [
    "sorted = np.sort(arr)\n",
    "print(sorted)"
   ]
  },
  {
   "cell_type": "code",
   "execution_count": 11,
   "id": "fc476ba0",
   "metadata": {},
   "outputs": [
    {
     "name": "stdout",
     "output_type": "stream",
     "text": [
      "[[ 8 12]\n",
      " [ 7  1]] \n",
      "\n",
      "[[ 7  1]\n",
      " [ 8 12]] \n",
      "\n",
      "[[ 8 12]\n",
      " [ 1  7]] \n",
      "\n"
     ]
    }
   ],
   "source": [
    "# 행렬이 2차원 이상일 때 axis 축 값 설정을 통해 행, 열 방향으로 정렬 수행\n",
    "arr2d = np.array([[8,12],[7,1]])\n",
    "print(arr2d,'\\n')\n",
    "sort_ar2d_axis0 = np.sort(arr2d, axis = 0)\n",
    "print(sort_ar2d_axis0,'\\n')\n",
    "sort_ar2d_axis1 = np.sort(arr2d, axis = 1)\n",
    "print(sort_ar2d_axis1,'\\n')"
   ]
  },
  {
   "cell_type": "code",
   "execution_count": 17,
   "id": "152023fc",
   "metadata": {},
   "outputs": [
    {
     "name": "stdout",
     "output_type": "stream",
     "text": [
      "[6 1 4 4 8 4 6 3 5 8] \n",
      "\n",
      "[1 3 4 4 4 5 6 6 8 8]\n"
     ]
    }
   ],
   "source": [
    "# ndarray.sort() : 원본 반영\n",
    "np.random.seed(0)\n",
    "arr = np.random.randint(1,10,size= 10)\n",
    "print(arr,'\\n')\n",
    "print(np.sort(arr)) # 원본 반영\n"
   ]
  },
  {
   "cell_type": "code",
   "execution_count": 23,
   "id": "8ba64e0c",
   "metadata": {},
   "outputs": [
    {
     "name": "stdout",
     "output_type": "stream",
     "text": [
      "[[6 1 4]\n",
      " [4 8 4]\n",
      " [6 3 5]\n",
      " [8 7 9]\n",
      " [9 2 7]] \n",
      "\n",
      "[[1 4 6]\n",
      " [4 4 8]\n",
      " [3 5 6]\n",
      " [7 8 9]\n",
      " [2 7 9]]\n"
     ]
    }
   ],
   "source": [
    "# 다차원 배열의 정렬은 sort  메소드에 넘긴 축에 따라 1차원 부분을 정렬\n",
    "#열방향 정렬, default\n",
    "np.random.seed(0)\n",
    "arr = np.random.randint(1,10,size= (5,3))\n",
    "print(arr,'\\n')\n",
    "arr.sort() # 1을 줘도 됨\n",
    "print(arr)"
   ]
  },
  {
   "cell_type": "code",
   "execution_count": 3,
   "id": "acd8f31c",
   "metadata": {},
   "outputs": [
    {
     "name": "stdout",
     "output_type": "stream",
     "text": [
      "[[6 1 4]\n",
      " [4 8 4]\n",
      " [6 3 5]\n",
      " [8 7 9]\n",
      " [9 2 7]] \n",
      "\n",
      "[[4 1 4]\n",
      " [6 2 4]\n",
      " [6 3 5]\n",
      " [8 7 7]\n",
      " [9 8 9]]\n"
     ]
    }
   ],
   "source": [
    "#행방향 정렬\n",
    "import numpy as np\n",
    "np.random.seed(0)\n",
    "arr = np.random.randint(1,10,size= (5,3))\n",
    "print(arr,'\\n')\n",
    "arr.sort(0) \n",
    "print(arr)"
   ]
  },
  {
   "cell_type": "code",
   "execution_count": 26,
   "id": "ecc13145",
   "metadata": {
    "scrolled": true
   },
   "outputs": [
    {
     "name": "stdout",
     "output_type": "stream",
     "text": [
      "[3 1 9 5]\n",
      "<class 'numpy.ndarray'>\n"
     ]
    },
    {
     "data": {
      "text/plain": [
       "array([1, 0, 3, 2], dtype=int64)"
      ]
     },
     "execution_count": 26,
     "metadata": {},
     "output_type": "execute_result"
    }
   ],
   "source": [
    "# 정렬된 행렬의 인덱스 반환 : 기존 원본 행렬의 원소에 대한 인덱스를 필요로 할때\n",
    "org_array = np.array([3,1,9,5])\n",
    "sort_indices = np.argsort(org_array)\n",
    "print(org_array)\n",
    "print(type(sort_indices))\n",
    "sort_indices"
   ]
  },
  {
   "cell_type": "code",
   "execution_count": 43,
   "id": "36735349",
   "metadata": {},
   "outputs": [
    {
     "data": {
      "text/plain": [
       "-1.6383970335303657"
      ]
     },
     "execution_count": 43,
     "metadata": {},
     "output_type": "execute_result"
    }
   ],
   "source": [
    "#배열에서 정렬한 후 5% 분위수에 해당되하는 원소만 출력\n",
    "large_arr = np.random.randn(1000)\n",
    "large_arr.sort()\n",
    "large_arr[int(0.05*len(large_arr))]"
   ]
  },
  {
   "cell_type": "code",
   "execution_count": 45,
   "id": "e2e55fc1",
   "metadata": {},
   "outputs": [
    {
     "data": {
      "text/plain": [
       "array(['Bob', 'Joe', 'Will'], dtype='<U4')"
      ]
     },
     "execution_count": 45,
     "metadata": {},
     "output_type": "execute_result"
    }
   ],
   "source": [
    "# 배열 집합 연산 \n",
    "names = np.array(['Bob','Joe','Will','Joe','Joe'])\n",
    "np.unique(names)"
   ]
  },
  {
   "cell_type": "code",
   "execution_count": 3,
   "id": "b18e9bfc",
   "metadata": {},
   "outputs": [
    {
     "data": {
      "text/plain": [
       "['Bob', 'Joe', 'Will']"
      ]
     },
     "execution_count": 3,
     "metadata": {},
     "output_type": "execute_result"
    }
   ],
   "source": [
    "import numpy as np\n",
    "names = np.array(['Bob','Joe','Will','Joe','Joe'])\n",
    "sorted(set(names))"
   ]
  },
  {
   "cell_type": "code",
   "execution_count": 4,
   "id": "3ef92da3",
   "metadata": {},
   "outputs": [
    {
     "data": {
      "text/plain": [
       "array([ True, False, False,  True,  True, False,  True])"
      ]
     },
     "execution_count": 4,
     "metadata": {},
     "output_type": "execute_result"
    }
   ],
   "source": [
    "# 첫번째 배열의 원소가 두번째 배열의 원소를 포함하는지 알려주는 불리언 배열을 반환\n",
    "values = np.array([6,0,0,3,2,5,6])\n",
    "np.in1d(values, [2,3,6])"
   ]
  },
  {
   "cell_type": "code",
   "execution_count": 6,
   "id": "61b682f3",
   "metadata": {},
   "outputs": [],
   "source": [
    "# 배열 데이터의 입출력\n",
    "# np.save, np.ioad는 바이너리 형식 .npy 파일로 저장\n",
    "arr = np.arange(10)\n",
    "np.save('some_array',arr)"
   ]
  },
  {
   "cell_type": "code",
   "execution_count": 7,
   "id": "45b88ff9",
   "metadata": {},
   "outputs": [
    {
     "data": {
      "text/plain": [
       "array([0, 1, 2, 3, 4, 5, 6, 7, 8, 9])"
      ]
     },
     "execution_count": 7,
     "metadata": {},
     "output_type": "execute_result"
    }
   ],
   "source": [
    "np.load('some_array.npy')"
   ]
  },
  {
   "cell_type": "code",
   "execution_count": 8,
   "id": "d94365d0",
   "metadata": {},
   "outputs": [],
   "source": [
    "# np.savez : 여러개의 배열을 압축된 형식으로 저장\n",
    "np.savez('array_archive.npz', a = arr, b = arr)"
   ]
  },
  {
   "cell_type": "code",
   "execution_count": 10,
   "id": "f93a5073",
   "metadata": {},
   "outputs": [
    {
     "data": {
      "text/plain": [
       "array([0, 1, 2, 3, 4, 5, 6, 7, 8, 9])"
      ]
     },
     "execution_count": 10,
     "metadata": {},
     "output_type": "execute_result"
    }
   ],
   "source": [
    "arch = np.load('array_archive.npz')\n",
    "arch['a']"
   ]
  },
  {
   "cell_type": "code",
   "execution_count": 50,
   "id": "9b59a25b",
   "metadata": {},
   "outputs": [
    {
     "name": "stdout",
     "output_type": "stream",
     "text": [
      "[1 0 1 0 1 0 1 0 1 0]\n"
     ]
    }
   ],
   "source": [
    "# Q. 인덱싱을 사용하여 [1 0 1 0 1 0 1 0 1 0] 을 출력하세요.\n",
    "a = np.ones(10,dtype=int)\n",
    "np.add.at(a,[1,3,5,7,9],-1)\n",
    "print(a)"
   ]
  },
  {
   "cell_type": "code",
   "execution_count": 51,
   "id": "97f7dba3",
   "metadata": {},
   "outputs": [
    {
     "name": "stdout",
     "output_type": "stream",
     "text": [
      "[1 0 1 0 1 0 1 0 1 0]\n"
     ]
    }
   ],
   "source": [
    "a = np.ones(10).astype(int)\n",
    "a[[1,3,5,7,9]] = 0\n",
    "print(a)\n"
   ]
  },
  {
   "cell_type": "code",
   "execution_count": 31,
   "id": "9458415e",
   "metadata": {},
   "outputs": [
    {
     "name": "stdout",
     "output_type": "stream",
     "text": [
      "[6 7 8 9]\n"
     ]
    }
   ],
   "source": [
    "# Q. a = np.arange(10)에서 [6,7,8,9] 출력\n",
    "a = np.arange(10)\n",
    "print(a[6:])"
   ]
  },
  {
   "cell_type": "code",
   "execution_count": 32,
   "id": "f2f1a5a9",
   "metadata": {},
   "outputs": [
    {
     "name": "stdout",
     "output_type": "stream",
     "text": [
      "[6, 7, 8, 9]\n"
     ]
    }
   ],
   "source": [
    "a = np.arange(10)\n",
    "print(a[a>5].tolist())\n"
   ]
  },
  {
   "cell_type": "code",
   "execution_count": 33,
   "id": "51e033e6",
   "metadata": {},
   "outputs": [
    {
     "name": "stdout",
     "output_type": "stream",
     "text": [
      "9\n",
      "0\n"
     ]
    }
   ],
   "source": [
    "# Q. a에서 최대값, 최소값 출력\n",
    "print(max(a))\n",
    "print(min(a))"
   ]
  },
  {
   "cell_type": "code",
   "execution_count": 42,
   "id": "9c1b717c",
   "metadata": {},
   "outputs": [
    {
     "name": "stdout",
     "output_type": "stream",
     "text": [
      "8\n",
      "0\n"
     ]
    }
   ],
   "source": [
    "# Q. a에서 최대값, 최소값 인덱스 출력\n",
    "a = np.arange(1,10)\n",
    "print(np.argmax(a))\n",
    "print(np.argmin(a))"
   ]
  },
  {
   "cell_type": "code",
   "execution_count": 43,
   "id": "b1e19fb7",
   "metadata": {},
   "outputs": [
    {
     "data": {
      "text/plain": [
       "array([8, 7, 6, 5, 4, 3, 2, 1, 0], dtype=int64)"
      ]
     },
     "execution_count": 43,
     "metadata": {},
     "output_type": "execute_result"
    }
   ],
   "source": [
    "# Q. a에서 인덱스 배열을 역순으로 출력하세요.\n",
    "np.argsort(a)[::-1]"
   ]
  },
  {
   "cell_type": "code",
   "execution_count": 56,
   "id": "75afd69b",
   "metadata": {},
   "outputs": [
    {
     "data": {
      "text/plain": [
       "array([[1., 1., 1., 1., 1., 1., 1., 1., 1., 1.],\n",
       "       [1., 0., 0., 0., 0., 0., 0., 0., 0., 1.],\n",
       "       [1., 0., 0., 0., 0., 0., 0., 0., 0., 1.],\n",
       "       [1., 0., 0., 0., 0., 0., 0., 0., 0., 1.],\n",
       "       [1., 0., 0., 0., 0., 0., 0., 0., 0., 1.],\n",
       "       [1., 0., 0., 0., 0., 0., 0., 0., 0., 1.],\n",
       "       [1., 0., 0., 0., 0., 0., 0., 0., 0., 1.],\n",
       "       [1., 0., 0., 0., 0., 0., 0., 0., 0., 1.],\n",
       "       [1., 0., 0., 0., 0., 0., 0., 0., 0., 1.],\n",
       "       [1., 1., 1., 1., 1., 1., 1., 1., 1., 1.]])"
      ]
     },
     "execution_count": 56,
     "metadata": {},
     "output_type": "execute_result"
    }
   ],
   "source": [
    "# Q. np.ones((10,10))을 아래와 같이 출력하세요.\n",
    "# array([[1., 1., 1., 1., 1., 1., 1., 1., 1., 1.],\n",
    "#        [1., 0., 0., 0., 0., 0., 0., 0., 0., 1.],\n",
    "#        [1., 0., 0., 0., 0., 0., 0., 0., 0., 1.],\n",
    "#        [1., 0., 0., 0., 0., 0., 0., 0., 0., 1.],\n",
    "#        [1., 0., 0., 0., 0., 0., 0., 0., 0., 1.],\n",
    "#        [1., 0., 0., 0., 0., 0., 0., 0., 0., 1.],\n",
    "#        [1., 0., 0., 0., 0., 0., 0., 0., 0., 1.],\n",
    "#        [1., 0., 0., 0., 0., 0., 0., 0., 0., 1.],\n",
    "#        [1., 0., 0., 0., 0., 0., 0., 0., 0., 1.],\n",
    "#        [1., 1., 1., 1., 1., 1., 1., 1., 1., 1.]])\n",
    "b=np.ones((10,10))\n",
    "b[1:9,1:9]=0\n",
    "b\n"
   ]
  },
  {
   "cell_type": "markdown",
   "id": "0e0baf44",
   "metadata": {},
   "source": [
    "[파이썬 random 함수]"
   ]
  },
  {
   "cell_type": "code",
   "execution_count": 65,
   "id": "2781fe63",
   "metadata": {},
   "outputs": [
    {
     "name": "stdout",
     "output_type": "stream",
     "text": [
      "0.33395875931254093 \n",
      "\n",
      "3 \n",
      "\n",
      "19.155207244032994 \n",
      "\n",
      "9 \n",
      "\n",
      "1 \n",
      "\n",
      "[3, 2, 4] \n",
      "\n",
      "[4, 3, 2, 5, 1]\n"
     ]
    }
   ],
   "source": [
    "import random\n",
    "print(random.random(),'\\n') # 0.0 <= x < 1.0 사이\n",
    "print(random.randint(1,10),'\\n') # 1에서 10사이의 정수중에서 난수 값 리턴\n",
    "print(random.uniform(10,20), '\\n') # min max사이 float 리턴\n",
    "print(random.randrange(10), '\\n') # 지정 범위 int 리턴\n",
    "print(random.choice([1,2,3,4,5]),'\\n') # 리스트 내부에 있는 요소를 랜덤하게 선택\n",
    "li = [1,2,3,4,5]\n",
    "print(random.sample(li, 3), '\\n') # 리스트 요소를 중복이 안되게 리턴\n",
    "random.shuffle(li) # 리스트 요소를 다시 섞어서 리턴\n",
    "print(li)"
   ]
  },
  {
   "cell_type": "markdown",
   "id": "de63e563",
   "metadata": {},
   "source": [
    "[numpy random 함수]\n",
    "\n",
    "- np.random.seed : seed를 통한 난수 생성\n",
    "- np.random.randint : 정수 난수 1개 생성\n",
    "- np.random.rand : 0부터 1 사이의 균일분포에서 난수 매트릭스 배열 생성\n",
    "- np.random.randn : 가우시안 표준 정규분포에서 난수 매트릭스 배열 생성\n",
    "- np.random.shuffle : 기존의 데이터의 순서 바꾸기\n",
    "- np.random.choice : 기존 데이터에서 sampling"
   ]
  },
  {
   "cell_type": "code",
   "execution_count": 72,
   "id": "2febd4db",
   "metadata": {},
   "outputs": [
    {
     "name": "stdout",
     "output_type": "stream",
     "text": [
      "4 \n",
      "\n",
      "18 \n",
      "\n",
      "[7 6 7 9 7 2 7 5 3 0] \n",
      "\n",
      "[14 12 17 14 11 15 13 14 17 13] \n",
      "\n",
      "[[17 16 19 11 19]\n",
      " [11 12 14 16 13]\n",
      " [12 13 11 10 16]]\n"
     ]
    }
   ],
   "source": [
    "print(np.random.randint(6), '\\n') # 0 ~ 5까지 정수인 난수 1개 \n",
    "print(np.random.randint(1,20), '\\n') # 1 ~ 19 까지 정수인 난수 1개\n",
    "print(np.random.randint(10, size = 10), '\\n') # 0 ~ 9까지 정수인 난수 10개\n",
    "print(np.random.randint(10,20, size = 10), '\\n') # 10 ~ 19까지 정수인 난수 10개\n",
    "print(np.random.randint(10,20, size = (3,5))) # 10 ~ 19까지 정수인 난수로 3행 5열 배열 생성"
   ]
  },
  {
   "cell_type": "code",
   "execution_count": 74,
   "id": "37f042e5",
   "metadata": {},
   "outputs": [
    {
     "name": "stdout",
     "output_type": "stream",
     "text": [
      "[0.51276389 0.15124964 0.66445955 0.78602064 0.74794061 0.07776602] \n",
      "\n"
     ]
    },
    {
     "data": {
      "text/plain": [
       "0.4900333902125795"
      ]
     },
     "execution_count": 74,
     "metadata": {},
     "output_type": "execute_result"
    }
   ],
   "source": [
    "r = np.random.rand(6) # 0 ~ 1 사이의 균일분포\n",
    "print(r,'\\n')\n",
    "r.mean()"
   ]
  },
  {
   "cell_type": "code",
   "execution_count": 133,
   "id": "74f362ba",
   "metadata": {},
   "outputs": [
    {
     "name": "stdout",
     "output_type": "stream",
     "text": [
      "[ 0.01070648 -0.85993063  0.89027304 ...  0.56468555  1.2599697\n",
      " -0.96511194] \n",
      "\n"
     ]
    },
    {
     "data": {
      "text/plain": [
       "0.017327478309223182"
      ]
     },
     "execution_count": 133,
     "metadata": {},
     "output_type": "execute_result"
    }
   ],
   "source": [
    "# 표준 정규 분포\n",
    "r = np.random.randn(10000)\n",
    "print(r,'\\n')\n",
    "r.mean()"
   ]
  },
  {
   "cell_type": "code",
   "execution_count": 79,
   "id": "e36367f2",
   "metadata": {},
   "outputs": [
    {
     "name": "stdout",
     "output_type": "stream",
     "text": [
      "[1 2 3 4 5]\n"
     ]
    },
    {
     "data": {
      "text/plain": [
       "array([2, 4, 3, 5, 1])"
      ]
     },
     "execution_count": 79,
     "metadata": {},
     "output_type": "execute_result"
    }
   ],
   "source": [
    "list = np.arange(1,6)\n",
    "print(list)\n",
    "np.random.shuffle(list)\n",
    "list"
   ]
  },
  {
   "cell_type": "code",
   "execution_count": 80,
   "id": "78cb2e78",
   "metadata": {},
   "outputs": [
    {
     "data": {
      "text/plain": [
       "5"
      ]
     },
     "execution_count": 80,
     "metadata": {},
     "output_type": "execute_result"
    }
   ],
   "source": [
    "np.random.choice(list)"
   ]
  },
  {
   "cell_type": "code",
   "execution_count": 81,
   "id": "ef84d889",
   "metadata": {},
   "outputs": [
    {
     "name": "stdout",
     "output_type": "stream",
     "text": [
      "[ 2  3  7 11]\n",
      "[3 2 1 2]\n"
     ]
    }
   ],
   "source": [
    "a = np.array([11,11,3,3,2,2,2,7])\n",
    "index,count = np.unique(a,return_counts=True)\n",
    "print(index)\n",
    "print(count)"
   ]
  },
  {
   "cell_type": "code",
   "execution_count": 82,
   "id": "54c8167c",
   "metadata": {},
   "outputs": [
    {
     "data": {
      "text/plain": [
       "array([1.83346196, 1.33240447, 1.8449896 , 1.03353178, 1.71245607,\n",
       "       1.01243059, 1.22927785, 1.06075868, 1.41059799, 1.75676426])"
      ]
     },
     "execution_count": 82,
     "metadata": {},
     "output_type": "execute_result"
    }
   ],
   "source": [
    "np.random.uniform(1.0, 2.0, 10)"
   ]
  },
  {
   "cell_type": "code",
   "execution_count": 84,
   "id": "d148a2f2",
   "metadata": {},
   "outputs": [
    {
     "data": {
      "text/plain": [
       "array([[0.40231226, 0.70591466, 0.19899333],\n",
       "       [0.68811923, 0.45966291, 0.04809842]])"
      ]
     },
     "execution_count": 84,
     "metadata": {},
     "output_type": "execute_result"
    }
   ],
   "source": [
    "# 0 ~ 1 사이의 난수 실수값으로 행렬 생성\n",
    "# uniform 함수의 최소값, 최대값을 각각 0, 1로 지정한 것과 같음.\n",
    "np.random.random_sample((2,3))"
   ]
  },
  {
   "cell_type": "code",
   "execution_count": 85,
   "id": "add66506",
   "metadata": {},
   "outputs": [
    {
     "name": "stdout",
     "output_type": "stream",
     "text": [
      "Requirement already satisfied: pandas in c:\\users\\admin\\anaconda3\\envs\\cakd5\\lib\\site-packages (1.3.4)\n",
      "Requirement already satisfied: numpy>=1.17.3 in c:\\users\\admin\\anaconda3\\envs\\cakd5\\lib\\site-packages (from pandas) (1.21.2)\n",
      "Requirement already satisfied: pytz>=2017.3 in c:\\users\\admin\\anaconda3\\envs\\cakd5\\lib\\site-packages (from pandas) (2021.3)\n",
      "Requirement already satisfied: python-dateutil>=2.7.3 in c:\\users\\admin\\anaconda3\\envs\\cakd5\\lib\\site-packages (from pandas) (2.8.2)\n",
      "Requirement already satisfied: six>=1.5 in c:\\users\\admin\\anaconda3\\envs\\cakd5\\lib\\site-packages (from python-dateutil>=2.7.3->pandas) (1.16.0)\n"
     ]
    }
   ],
   "source": [
    "!pip install pandas"
   ]
  },
  {
   "cell_type": "code",
   "execution_count": 86,
   "id": "8eaf6798",
   "metadata": {},
   "outputs": [
    {
     "data": {
      "text/plain": [
       "array([[0.03120435, 0.96095773, 0.08811864, 0.64622274, 0.69758711,\n",
       "        0.35519548, 0.87306192, 0.00276165],\n",
       "       [0.8626455 , 0.91785861, 0.92801633, 0.25508034, 0.04172351,\n",
       "        0.8102142 , 0.83424931, 0.45658443],\n",
       "       [0.78802695, 0.60746895, 0.55219469, 0.28127776, 0.07692676,\n",
       "        0.4769781 , 0.11295348, 0.2111481 ],\n",
       "       [0.02797855, 0.56218544, 0.8596535 , 0.44486041, 0.2106364 ,\n",
       "        0.19782418, 0.78992131, 0.98147214]])"
      ]
     },
     "execution_count": 86,
     "metadata": {},
     "output_type": "execute_result"
    }
   ],
   "source": [
    "ar = np.random.rand(4,8)\n",
    "ar"
   ]
  },
  {
   "cell_type": "code",
   "execution_count": 91,
   "id": "fdc7cf31",
   "metadata": {},
   "outputs": [
    {
     "name": "stdout",
     "output_type": "stream",
     "text": [
      "          0         1         2         3         4         5         6  \\\n",
      "0  0.031204  0.960958  0.088119  0.646223  0.697587  0.355195  0.873062   \n",
      "1  0.862645  0.917859  0.928016  0.255080  0.041724  0.810214  0.834249   \n",
      "2  0.788027  0.607469  0.552195  0.281278  0.076927  0.476978  0.112953   \n",
      "3  0.027979  0.562185  0.859653  0.444860  0.210636  0.197824  0.789921   \n",
      "\n",
      "          7  \n",
      "0  0.002762  \n",
      "1  0.456584  \n",
      "2  0.211148  \n",
      "3  0.981472   <class 'pandas.core.frame.DataFrame'>\n"
     ]
    }
   ],
   "source": [
    "# 배열을 데이터프레임으로 변환\n",
    "import pandas as pd\n",
    "df = pd.DataFrame(ar)\n",
    "print(df,type(df))"
   ]
  },
  {
   "cell_type": "code",
   "execution_count": 94,
   "id": "ac577dcd",
   "metadata": {},
   "outputs": [
    {
     "name": "stdout",
     "output_type": "stream",
     "text": [
      "0    0.031204\n",
      "1    0.862645\n",
      "2    0.788027\n",
      "3    0.027979\n",
      "Name: 0, dtype: float64\n"
     ]
    },
    {
     "data": {
      "text/plain": [
       "pandas.core.series.Series"
      ]
     },
     "execution_count": 94,
     "metadata": {},
     "output_type": "execute_result"
    }
   ],
   "source": [
    "print(df[0])\n",
    "type(df[0])"
   ]
  },
  {
   "cell_type": "code",
   "execution_count": 99,
   "id": "1172d576",
   "metadata": {
    "scrolled": false
   },
   "outputs": [
    {
     "data": {
      "text/html": [
       "<div>\n",
       "<style scoped>\n",
       "    .dataframe tbody tr th:only-of-type {\n",
       "        vertical-align: middle;\n",
       "    }\n",
       "\n",
       "    .dataframe tbody tr th {\n",
       "        vertical-align: top;\n",
       "    }\n",
       "\n",
       "    .dataframe thead th {\n",
       "        text-align: right;\n",
       "    }\n",
       "</style>\n",
       "<table border=\"1\" class=\"dataframe\">\n",
       "  <thead>\n",
       "    <tr style=\"text-align: right;\">\n",
       "      <th></th>\n",
       "      <th>id</th>\n",
       "      <th>gender</th>\n",
       "      <th>age</th>\n",
       "      <th>region</th>\n",
       "      <th>product</th>\n",
       "      <th>price</th>\n",
       "      <th>qty</th>\n",
       "      <th>time</th>\n",
       "    </tr>\n",
       "  </thead>\n",
       "  <tbody>\n",
       "    <tr>\n",
       "      <th>0</th>\n",
       "      <td>0.031204</td>\n",
       "      <td>0.960958</td>\n",
       "      <td>0.088119</td>\n",
       "      <td>0.646223</td>\n",
       "      <td>0.697587</td>\n",
       "      <td>0.355195</td>\n",
       "      <td>0.873062</td>\n",
       "      <td>0.002762</td>\n",
       "    </tr>\n",
       "    <tr>\n",
       "      <th>1</th>\n",
       "      <td>0.862645</td>\n",
       "      <td>0.917859</td>\n",
       "      <td>0.928016</td>\n",
       "      <td>0.255080</td>\n",
       "      <td>0.041724</td>\n",
       "      <td>0.810214</td>\n",
       "      <td>0.834249</td>\n",
       "      <td>0.456584</td>\n",
       "    </tr>\n",
       "    <tr>\n",
       "      <th>2</th>\n",
       "      <td>0.788027</td>\n",
       "      <td>0.607469</td>\n",
       "      <td>0.552195</td>\n",
       "      <td>0.281278</td>\n",
       "      <td>0.076927</td>\n",
       "      <td>0.476978</td>\n",
       "      <td>0.112953</td>\n",
       "      <td>0.211148</td>\n",
       "    </tr>\n",
       "    <tr>\n",
       "      <th>3</th>\n",
       "      <td>0.027979</td>\n",
       "      <td>0.562185</td>\n",
       "      <td>0.859653</td>\n",
       "      <td>0.444860</td>\n",
       "      <td>0.210636</td>\n",
       "      <td>0.197824</td>\n",
       "      <td>0.789921</td>\n",
       "      <td>0.981472</td>\n",
       "    </tr>\n",
       "  </tbody>\n",
       "</table>\n",
       "</div>"
      ],
      "text/plain": [
       "         id    gender       age    region   product     price       qty  \\\n",
       "0  0.031204  0.960958  0.088119  0.646223  0.697587  0.355195  0.873062   \n",
       "1  0.862645  0.917859  0.928016  0.255080  0.041724  0.810214  0.834249   \n",
       "2  0.788027  0.607469  0.552195  0.281278  0.076927  0.476978  0.112953   \n",
       "3  0.027979  0.562185  0.859653  0.444860  0.210636  0.197824  0.789921   \n",
       "\n",
       "       time  \n",
       "0  0.002762  \n",
       "1  0.456584  \n",
       "2  0.211148  \n",
       "3  0.981472  "
      ]
     },
     "execution_count": 99,
     "metadata": {},
     "output_type": "execute_result"
    }
   ],
   "source": [
    "columns = ['id','gender','age','region','product','price','qty','time']\n",
    "index = [np.arange(4)]\n",
    "df = pd.DataFrame(ar, index, columns = columns)\n",
    "df"
   ]
  },
  {
   "cell_type": "code",
   "execution_count": 123,
   "id": "b83c598d",
   "metadata": {},
   "outputs": [
    {
     "data": {
      "text/html": [
       "<div>\n",
       "<style scoped>\n",
       "    .dataframe tbody tr th:only-of-type {\n",
       "        vertical-align: middle;\n",
       "    }\n",
       "\n",
       "    .dataframe tbody tr th {\n",
       "        vertical-align: top;\n",
       "    }\n",
       "\n",
       "    .dataframe thead th {\n",
       "        text-align: right;\n",
       "    }\n",
       "</style>\n",
       "<table border=\"1\" class=\"dataframe\">\n",
       "  <thead>\n",
       "    <tr style=\"text-align: right;\">\n",
       "      <th></th>\n",
       "      <th>ID</th>\n",
       "      <th>Gender</th>\n",
       "      <th>Age</th>\n",
       "    </tr>\n",
       "  </thead>\n",
       "  <tbody>\n",
       "    <tr>\n",
       "      <th>1</th>\n",
       "      <td>5424</td>\n",
       "      <td>M</td>\n",
       "      <td>20</td>\n",
       "    </tr>\n",
       "    <tr>\n",
       "      <th>2</th>\n",
       "      <td>8391</td>\n",
       "      <td>F</td>\n",
       "      <td>22</td>\n",
       "    </tr>\n",
       "    <tr>\n",
       "      <th>3</th>\n",
       "      <td>2028</td>\n",
       "      <td>F</td>\n",
       "      <td>18</td>\n",
       "    </tr>\n",
       "  </tbody>\n",
       "</table>\n",
       "</div>"
      ],
      "text/plain": [
       "     ID Gender Age\n",
       "1  5424      M  20\n",
       "2  8391      F  22\n",
       "3  2028      F  18"
      ]
     },
     "execution_count": 123,
     "metadata": {},
     "output_type": "execute_result"
    }
   ],
   "source": [
    "# Q. id, gender, age 컬럼에 대하여 의미있는 값으로 변환하여 3개의 컬럼으로 구성된 df를 출력하세요.\n",
    "ID = np.random.randint(1000,10000,3)\n",
    "gen = np.random.choice(['M','F'],3)\n",
    "age = np.random.randint(10,40,3)\n",
    "\n",
    "data = np.array([ID,gen,age]).reshape(3,3).transpose()\n",
    "df=pd.DataFrame(data,np.arange(1,4),['ID','Gender','Age'])\n",
    "df\n"
   ]
  },
  {
   "cell_type": "code",
   "execution_count": 125,
   "id": "c7e0394b",
   "metadata": {},
   "outputs": [
    {
     "data": {
      "text/html": [
       "<div>\n",
       "<style scoped>\n",
       "    .dataframe tbody tr th:only-of-type {\n",
       "        vertical-align: middle;\n",
       "    }\n",
       "\n",
       "    .dataframe tbody tr th {\n",
       "        vertical-align: top;\n",
       "    }\n",
       "\n",
       "    .dataframe thead th {\n",
       "        text-align: right;\n",
       "    }\n",
       "</style>\n",
       "<table border=\"1\" class=\"dataframe\">\n",
       "  <thead>\n",
       "    <tr style=\"text-align: right;\">\n",
       "      <th></th>\n",
       "      <th>id</th>\n",
       "      <th>gender</th>\n",
       "      <th>age</th>\n",
       "    </tr>\n",
       "  </thead>\n",
       "  <tbody>\n",
       "    <tr>\n",
       "      <th>0</th>\n",
       "      <td>1</td>\n",
       "      <td>0</td>\n",
       "      <td>20</td>\n",
       "    </tr>\n",
       "    <tr>\n",
       "      <th>1</th>\n",
       "      <td>2</td>\n",
       "      <td>1</td>\n",
       "      <td>30</td>\n",
       "    </tr>\n",
       "    <tr>\n",
       "      <th>2</th>\n",
       "      <td>3</td>\n",
       "      <td>0</td>\n",
       "      <td>40</td>\n",
       "    </tr>\n",
       "    <tr>\n",
       "      <th>3</th>\n",
       "      <td>4</td>\n",
       "      <td>1</td>\n",
       "      <td>50</td>\n",
       "    </tr>\n",
       "  </tbody>\n",
       "</table>\n",
       "</div>"
      ],
      "text/plain": [
       "   id  gender  age\n",
       "0   1       0   20\n",
       "1   2       1   30\n",
       "2   3       0   40\n",
       "3   4       1   50"
      ]
     },
     "execution_count": 125,
     "metadata": {},
     "output_type": "execute_result"
    }
   ],
   "source": [
    "ar = np.zeros((4,3))\n",
    "columns = ['id','gender','age']\n",
    "index = [np.arange(4)]\n",
    "df = pd.DataFrame(ar,index,columns=columns)\n",
    "df.id = np.array([1,2,3,4])\n",
    "# df.id = np.arange(1,5)\n",
    "df.gender = np.array([0,1,0,1])\n",
    "# np.random.seed(0)\n",
    "# df.gender = np.random.randint(2, size =4)\n",
    "df.age = np.array([20,30,40,50])\n",
    "# df.age = np.arange(1,5) * 10\n",
    "df"
   ]
  },
  {
   "cell_type": "code",
   "execution_count": 2,
   "id": "4c865fff",
   "metadata": {},
   "outputs": [
    {
     "name": "stdout",
     "output_type": "stream",
     "text": [
      "[[[ 0  1  2  3]\n",
      "  [ 4  5  6  7]]\n",
      "\n",
      " [[ 8  9 10 11]\n",
      "  [12 13 14 15]]] (2, 2, 4)\n",
      "[[[ 0  1  2  3]\n",
      "  [ 8  9 10 11]]\n",
      "\n",
      " [[ 4  5  6  7]\n",
      "  [12 13 14 15]]] (2, 2, 4)\n"
     ]
    }
   ],
   "source": [
    "# [과제] 아래배열에서 3차원과 2차원을 변경하여 출력하세요.(shape 확인)\n",
    "# [[[ 0  1  2  3]\n",
    "#   [ 4  5  6  7]]\n",
    "\n",
    "#  [[ 8  9 10 11]\n",
    "#   [12 13 14 15]]] (2, 2, 4)\n",
    "import numpy as np\n",
    "arr = np.arange(16).reshape(2,2,4)\n",
    "print(arr,arr.shape)\n",
    "\n",
    "y = np.transpose(arr,(1,0,2))\n",
    "print(y,y.shape)"
   ]
  },
  {
   "cell_type": "code",
   "execution_count": 8,
   "id": "a9997f42",
   "metadata": {},
   "outputs": [
    {
     "name": "stdout",
     "output_type": "stream",
     "text": [
      "[[[ 0  1  2  3]\n",
      "  [ 4  5  6  7]]\n",
      "\n",
      " [[ 8  9 10 11]\n",
      "  [12 13 14 15]]] (2, 2, 4)\n",
      "[[[ 0  4]\n",
      "  [ 1  5]\n",
      "  [ 2  6]\n",
      "  [ 3  7]]\n",
      "\n",
      " [[ 8 12]\n",
      "  [ 9 13]\n",
      "  [10 14]\n",
      "  [11 15]]] (2, 4, 2)\n",
      "[[[ 0  4]\n",
      "  [ 1  5]\n",
      "  [ 2  6]\n",
      "  [ 3  7]]\n",
      "\n",
      " [[ 8 12]\n",
      "  [ 9 13]\n",
      "  [10 14]\n",
      "  [11 15]]] (2, 4, 2)\n"
     ]
    }
   ],
   "source": [
    "# [과제] 상기 과제의 arr에서 2차원과 1차원을 변경하여 출력하세요.(shape확인)\n",
    "arr = np.arange(16).reshape(2,2,4)\n",
    "print(arr,arr.shape)\n",
    "\n",
    "y = np.transpose(arr,(0,2,1))\n",
    "print(y,y.shape)\n",
    "arrsw = arr.swapaxes(1,2)\n",
    "print(arrsw,arrsw.shape)"
   ]
  },
  {
   "cell_type": "code",
   "execution_count": 9,
   "id": "b611fc20",
   "metadata": {
    "scrolled": true
   },
   "outputs": [],
   "source": [
    "# [과제] np.ones((5,5))을 아래와 같이 출력하세요.\n",
    "# array([[0., 0., 0., 0., 0., 0., 0., 0., 0.],\n",
    "#        [0., 0., 0., 0., 0., 0., 0., 0., 0.],\n",
    "#        [0., 0., 1., 1., 1., 1., 1., 0., 0.],\n",
    "#        [0., 0., 1., 1., 1., 1., 1., 0., 0.],\n",
    "#        [0., 0., 1., 1., 1., 1., 1., 0., 0.],\n",
    "#        [0., 0., 1., 1., 1., 1., 1., 0., 0.],\n",
    "#        [0., 0., 1., 1., 1., 1., 1., 0., 0.],\n",
    "#        [0., 0., 0., 0., 0., 0., 0., 0., 0.],\n",
    "#        [0., 0., 0., 0., 0., 0., 0., 0., 0.]])\n",
    "b=np.ones((5,5))\n",
    "a = np.zeros((9,9))"
   ]
  },
  {
   "cell_type": "code",
   "execution_count": 11,
   "id": "3becbf6b",
   "metadata": {},
   "outputs": [
    {
     "data": {
      "text/plain": [
       "array([[0., 0., 0., 0., 0., 0., 0., 0., 0.],\n",
       "       [0., 0., 0., 0., 0., 0., 0., 0., 0.],\n",
       "       [0., 0., 1., 1., 1., 1., 1., 0., 0.],\n",
       "       [0., 0., 1., 1., 1., 1., 1., 0., 0.],\n",
       "       [0., 0., 1., 1., 1., 1., 1., 0., 0.],\n",
       "       [0., 0., 1., 1., 1., 1., 1., 0., 0.],\n",
       "       [0., 0., 1., 1., 1., 1., 1., 0., 0.],\n",
       "       [0., 0., 0., 0., 0., 0., 0., 0., 0.],\n",
       "       [0., 0., 0., 0., 0., 0., 0., 0., 0.]])"
      ]
     },
     "execution_count": 11,
     "metadata": {},
     "output_type": "execute_result"
    }
   ],
   "source": [
    "a=np.ones((5,5))\n",
    "b=np.zeros((9,9))\n",
    "b[2:7,2:7]=a\n",
    "b\n"
   ]
  },
  {
   "cell_type": "code",
   "execution_count": 13,
   "id": "9e4ef4b4",
   "metadata": {},
   "outputs": [
    {
     "name": "stdout",
     "output_type": "stream",
     "text": [
      "[[0. 0. 0. 0. 0. 0. 0. 0. 0. 0.]\n",
      " [0. 0. 0. 0. 0. 0. 0. 0. 0. 0.]\n",
      " [0. 0. 1. 1. 1. 1. 1. 1. 0. 0.]\n",
      " [0. 0. 1. 1. 1. 1. 1. 1. 0. 0.]\n",
      " [0. 0. 1. 1. 1. 1. 1. 1. 0. 0.]\n",
      " [0. 0. 1. 1. 1. 1. 1. 1. 0. 0.]\n",
      " [0. 0. 1. 1. 1. 1. 1. 1. 0. 0.]\n",
      " [0. 0. 1. 1. 1. 1. 1. 1. 0. 0.]\n",
      " [0. 0. 0. 0. 0. 0. 0. 0. 0. 0.]\n",
      " [0. 0. 0. 0. 0. 0. 0. 0. 0. 0.]]\n"
     ]
    }
   ],
   "source": [
    "ar=np.ones((10,10))\n",
    "ar[[0,1,8,9]]=0\n",
    "ar[:,[0,1,8,9]]=0\n",
    "print(ar)\n"
   ]
  },
  {
   "cell_type": "code",
   "execution_count": 14,
   "id": "05f07ab4",
   "metadata": {},
   "outputs": [
    {
     "data": {
      "text/plain": [
       "array([[0., 0., 0., 0., 0., 0., 0., 0., 0.],\n",
       "       [0., 0., 0., 0., 0., 0., 0., 0., 0.],\n",
       "       [0., 0., 1., 1., 1., 1., 1., 0., 0.],\n",
       "       [0., 0., 1., 1., 1., 1., 1., 0., 0.],\n",
       "       [0., 0., 1., 1., 1., 1., 1., 0., 0.],\n",
       "       [0., 0., 1., 1., 1., 1., 1., 0., 0.],\n",
       "       [0., 0., 1., 1., 1., 1., 1., 0., 0.],\n",
       "       [0., 0., 0., 0., 0., 0., 0., 0., 0.],\n",
       "       [0., 0., 0., 0., 0., 0., 0., 0., 0.]])"
      ]
     },
     "execution_count": 14,
     "metadata": {},
     "output_type": "execute_result"
    }
   ],
   "source": [
    "arr1 = np.ones((5,5))\n",
    "np.pad(arr1,(2,2),'constant',constant_values=0)\n"
   ]
  },
  {
   "cell_type": "code",
   "execution_count": 20,
   "id": "f382652f",
   "metadata": {},
   "outputs": [
    {
     "name": "stdout",
     "output_type": "stream",
     "text": [
      "[[0 1 0 1 0 1 0 1]\n",
      " [1 0 1 0 1 0 1 0]\n",
      " [0 1 0 1 0 1 0 1]\n",
      " [1 0 1 0 1 0 1 0]\n",
      " [0 1 0 1 0 1 0 1]\n",
      " [1 0 1 0 1 0 1 0]\n",
      " [0 1 0 1 0 1 0 1]\n",
      " [1 0 1 0 1 0 1 0]] \n",
      "\n",
      "[[0. 1. 0. 1. 0. 1. 0. 1.]\n",
      " [1. 0. 1. 0. 1. 0. 1. 0.]\n",
      " [0. 1. 0. 1. 0. 1. 0. 1.]\n",
      " [1. 0. 1. 0. 1. 0. 1. 0.]\n",
      " [0. 1. 0. 1. 0. 1. 0. 1.]\n",
      " [1. 0. 1. 0. 1. 0. 1. 0.]\n",
      " [0. 1. 0. 1. 0. 1. 0. 1.]\n",
      " [1. 0. 1. 0. 1. 0. 1. 0.]]\n"
     ]
    }
   ],
   "source": [
    "# [과제] np.zeros((8,8))을 이용해서 아래와 같이 출력하세요.(두가지 방식: 인덱싱, tile함수)\n",
    "# array([[0, 1, 0, 1, 0, 1, 0, 1],\n",
    "#        [1, 0, 1, 0, 1, 0, 1, 0],\n",
    "#        [0, 1, 0, 1, 0, 1, 0, 1],\n",
    "#        [1, 0, 1, 0, 1, 0, 1, 0],\n",
    "#        [0, 1, 0, 1, 0, 1, 0, 1],\n",
    "#        [1, 0, 1, 0, 1, 0, 1, 0],\n",
    "#        [0, 1, 0, 1, 0, 1, 0, 1],\n",
    "#        [1, 0, 1, 0, 1, 0, 1, 0]])\n",
    "a = np.array([[0,1],[1,0]])\n",
    "b = np.tile(a,(4,4))\n",
    "print(b,'\\n')\n",
    "x = np.zeros((8,8))\n",
    "x[::2,1::2] = 1\n",
    "x[1::2,::2] = 1\n",
    "print(x)"
   ]
  },
  {
   "cell_type": "code",
   "execution_count": 26,
   "id": "dcc8e6d3",
   "metadata": {},
   "outputs": [
    {
     "name": "stdout",
     "output_type": "stream",
     "text": [
      "[[0 0 0 0 0]\n",
      " [1 0 0 0 0]\n",
      " [0 2 0 0 0]\n",
      " [0 0 3 0 0]\n",
      " [0 0 0 4 0]] \n",
      "\n",
      "[[0. 0. 0. 0. 0.]\n",
      " [1. 0. 0. 0. 0.]\n",
      " [0. 2. 0. 0. 0.]\n",
      " [0. 0. 3. 0. 0.]\n",
      " [0. 0. 0. 4. 0.]]\n"
     ]
    }
   ],
   "source": [
    "# [도전과제] np.arange(4)을 아래와 같이 출력하세요.\n",
    "# array([[0, 0, 0, 0, 0],\n",
    "#        [1, 0, 0, 0, 0],\n",
    "#        [0, 2, 0, 0, 0],\n",
    "#        [0, 0, 3, 0, 0],\n",
    "#        [0, 0, 0, 4, 0]])\n",
    "d=np.diag(np.arange(4)+1,k=-1)\n",
    "print(d,'\\n')\n",
    "\n",
    "zero = np.zeros((5, 5))\n",
    "a = np.arange(4)\n",
    "\n",
    "for i in range(4):\n",
    "    zero[i + 1, i] = a[i] + 1\n",
    "    \n",
    "print(zero)\n"
   ]
  },
  {
   "cell_type": "code",
   "execution_count": 23,
   "id": "0d3fd414",
   "metadata": {},
   "outputs": [
    {
     "name": "stdout",
     "output_type": "stream",
     "text": [
      "(array([1], dtype=int64), array([5], dtype=int64), array([3], dtype=int64)) \n",
      "\n",
      "(1, 5, 3)\n"
     ]
    }
   ],
   "source": [
    "# [도전과제] np.arange(336).reshape(6,7,8)에서 100번째 요소의 인덱스를 구하시오.\n",
    "arr=np.arange(336).reshape(6,7,8)\n",
    "print(np.where(arr==99),'\\n')\n",
    "\n",
    "print(np.unravel_index(99,(6,7,8)))\n"
   ]
  },
  {
   "cell_type": "markdown",
   "id": "b709aa98",
   "metadata": {},
   "source": [
    "[과제] 아래 가이드에 따라서 고객 구매데이터를 생성하고 데이터프레임으로 변환하여 출력하세요.(관측치 1000개) \n",
    "\n",
    "- id : 1 ~ 1000번 일련번호\n",
    "- gender : 0,1 정수 난수 생성\n",
    "- age : 0 ~ 80사이 정수 난수 생성\n",
    "- region : 1 ~ 10 사이 정수 난수 생성\n",
    "- product_19 : 제품코드 11111 ~ 99999\n",
    "- product_20 : 제품코드 11111 ~ 99999\n",
    "- price_19 : 1000 ~ 50000 사이 실수 난수 생성\n",
    "- price_20 : 1000 ~ 50000 사이 실수 난수 생성\n",
    "- quantity_19 : 1 ~ 100 사이 정수 난수 생성\n",
    "- quantity_20 : 1 ~ 100 사이 정수 난수 생성\n",
    "- time_19 : 01 ~ 24 사이 정수 난수 생성\n",
    "- time_20 : 01 ~ 24 사이 정수 난수 생성\n",
    "- amount_19 : price_19 * quantity_19\n",
    "- amount_20 : price_20 * quantity_20\n",
    "- sales : 19년 대비 20년구매금액이 증가면 1, 감소면 0"
   ]
  },
  {
   "cell_type": "code",
   "execution_count": 27,
   "id": "18adf9bd",
   "metadata": {},
   "outputs": [
    {
     "data": {
      "text/html": [
       "<div>\n",
       "<style scoped>\n",
       "    .dataframe tbody tr th:only-of-type {\n",
       "        vertical-align: middle;\n",
       "    }\n",
       "\n",
       "    .dataframe tbody tr th {\n",
       "        vertical-align: top;\n",
       "    }\n",
       "\n",
       "    .dataframe thead th {\n",
       "        text-align: right;\n",
       "    }\n",
       "</style>\n",
       "<table border=\"1\" class=\"dataframe\">\n",
       "  <thead>\n",
       "    <tr style=\"text-align: right;\">\n",
       "      <th></th>\n",
       "      <th>id</th>\n",
       "      <th>gender</th>\n",
       "      <th>age</th>\n",
       "      <th>region</th>\n",
       "      <th>product_19</th>\n",
       "      <th>product_20</th>\n",
       "      <th>price_19</th>\n",
       "      <th>price_20</th>\n",
       "      <th>quantity_19</th>\n",
       "      <th>quantity_20</th>\n",
       "      <th>time_19</th>\n",
       "      <th>time_20</th>\n",
       "      <th>amount_19</th>\n",
       "      <th>amount_20</th>\n",
       "      <th>sales</th>\n",
       "    </tr>\n",
       "  </thead>\n",
       "  <tbody>\n",
       "    <tr>\n",
       "      <th>1</th>\n",
       "      <td>1</td>\n",
       "      <td>0</td>\n",
       "      <td>39</td>\n",
       "      <td>10</td>\n",
       "      <td>86337</td>\n",
       "      <td>24026</td>\n",
       "      <td>38654</td>\n",
       "      <td>30705</td>\n",
       "      <td>73</td>\n",
       "      <td>42</td>\n",
       "      <td>20</td>\n",
       "      <td>11</td>\n",
       "      <td>2821742</td>\n",
       "      <td>1289610</td>\n",
       "      <td>False</td>\n",
       "    </tr>\n",
       "    <tr>\n",
       "      <th>2</th>\n",
       "      <td>2</td>\n",
       "      <td>1</td>\n",
       "      <td>28</td>\n",
       "      <td>4</td>\n",
       "      <td>80109</td>\n",
       "      <td>27936</td>\n",
       "      <td>35903</td>\n",
       "      <td>32350</td>\n",
       "      <td>48</td>\n",
       "      <td>77</td>\n",
       "      <td>23</td>\n",
       "      <td>22</td>\n",
       "      <td>1723344</td>\n",
       "      <td>2490950</td>\n",
       "      <td>True</td>\n",
       "    </tr>\n",
       "    <tr>\n",
       "      <th>3</th>\n",
       "      <td>3</td>\n",
       "      <td>1</td>\n",
       "      <td>24</td>\n",
       "      <td>1</td>\n",
       "      <td>61679</td>\n",
       "      <td>40872</td>\n",
       "      <td>14617</td>\n",
       "      <td>36879</td>\n",
       "      <td>60</td>\n",
       "      <td>2</td>\n",
       "      <td>19</td>\n",
       "      <td>21</td>\n",
       "      <td>877020</td>\n",
       "      <td>73758</td>\n",
       "      <td>False</td>\n",
       "    </tr>\n",
       "    <tr>\n",
       "      <th>4</th>\n",
       "      <td>4</td>\n",
       "      <td>0</td>\n",
       "      <td>18</td>\n",
       "      <td>7</td>\n",
       "      <td>51043</td>\n",
       "      <td>27089</td>\n",
       "      <td>44802</td>\n",
       "      <td>32440</td>\n",
       "      <td>57</td>\n",
       "      <td>94</td>\n",
       "      <td>22</td>\n",
       "      <td>10</td>\n",
       "      <td>2553714</td>\n",
       "      <td>3049360</td>\n",
       "      <td>True</td>\n",
       "    </tr>\n",
       "    <tr>\n",
       "      <th>5</th>\n",
       "      <td>5</td>\n",
       "      <td>1</td>\n",
       "      <td>67</td>\n",
       "      <td>4</td>\n",
       "      <td>67132</td>\n",
       "      <td>20153</td>\n",
       "      <td>48222</td>\n",
       "      <td>49878</td>\n",
       "      <td>80</td>\n",
       "      <td>58</td>\n",
       "      <td>9</td>\n",
       "      <td>21</td>\n",
       "      <td>3857760</td>\n",
       "      <td>2892924</td>\n",
       "      <td>False</td>\n",
       "    </tr>\n",
       "    <tr>\n",
       "      <th>...</th>\n",
       "      <td>...</td>\n",
       "      <td>...</td>\n",
       "      <td>...</td>\n",
       "      <td>...</td>\n",
       "      <td>...</td>\n",
       "      <td>...</td>\n",
       "      <td>...</td>\n",
       "      <td>...</td>\n",
       "      <td>...</td>\n",
       "      <td>...</td>\n",
       "      <td>...</td>\n",
       "      <td>...</td>\n",
       "      <td>...</td>\n",
       "      <td>...</td>\n",
       "      <td>...</td>\n",
       "    </tr>\n",
       "    <tr>\n",
       "      <th>996</th>\n",
       "      <td>996</td>\n",
       "      <td>0</td>\n",
       "      <td>46</td>\n",
       "      <td>9</td>\n",
       "      <td>29503</td>\n",
       "      <td>18727</td>\n",
       "      <td>26805</td>\n",
       "      <td>15040</td>\n",
       "      <td>52</td>\n",
       "      <td>19</td>\n",
       "      <td>17</td>\n",
       "      <td>7</td>\n",
       "      <td>1393860</td>\n",
       "      <td>285760</td>\n",
       "      <td>False</td>\n",
       "    </tr>\n",
       "    <tr>\n",
       "      <th>997</th>\n",
       "      <td>997</td>\n",
       "      <td>0</td>\n",
       "      <td>69</td>\n",
       "      <td>9</td>\n",
       "      <td>20582</td>\n",
       "      <td>57674</td>\n",
       "      <td>5360</td>\n",
       "      <td>5886</td>\n",
       "      <td>19</td>\n",
       "      <td>50</td>\n",
       "      <td>21</td>\n",
       "      <td>16</td>\n",
       "      <td>101840</td>\n",
       "      <td>294300</td>\n",
       "      <td>True</td>\n",
       "    </tr>\n",
       "    <tr>\n",
       "      <th>998</th>\n",
       "      <td>998</td>\n",
       "      <td>0</td>\n",
       "      <td>28</td>\n",
       "      <td>6</td>\n",
       "      <td>76646</td>\n",
       "      <td>16573</td>\n",
       "      <td>29042</td>\n",
       "      <td>17194</td>\n",
       "      <td>43</td>\n",
       "      <td>58</td>\n",
       "      <td>4</td>\n",
       "      <td>20</td>\n",
       "      <td>1248806</td>\n",
       "      <td>997252</td>\n",
       "      <td>False</td>\n",
       "    </tr>\n",
       "    <tr>\n",
       "      <th>999</th>\n",
       "      <td>999</td>\n",
       "      <td>1</td>\n",
       "      <td>43</td>\n",
       "      <td>6</td>\n",
       "      <td>81112</td>\n",
       "      <td>49989</td>\n",
       "      <td>46785</td>\n",
       "      <td>31743</td>\n",
       "      <td>98</td>\n",
       "      <td>89</td>\n",
       "      <td>4</td>\n",
       "      <td>14</td>\n",
       "      <td>4584930</td>\n",
       "      <td>2825127</td>\n",
       "      <td>False</td>\n",
       "    </tr>\n",
       "    <tr>\n",
       "      <th>1000</th>\n",
       "      <td>1000</td>\n",
       "      <td>0</td>\n",
       "      <td>62</td>\n",
       "      <td>4</td>\n",
       "      <td>40261</td>\n",
       "      <td>74062</td>\n",
       "      <td>23249</td>\n",
       "      <td>1161</td>\n",
       "      <td>73</td>\n",
       "      <td>41</td>\n",
       "      <td>24</td>\n",
       "      <td>2</td>\n",
       "      <td>1697177</td>\n",
       "      <td>47601</td>\n",
       "      <td>False</td>\n",
       "    </tr>\n",
       "  </tbody>\n",
       "</table>\n",
       "<p>1000 rows × 15 columns</p>\n",
       "</div>"
      ],
      "text/plain": [
       "        id  gender  age  region  product_19  product_20  price_19  price_20  \\\n",
       "1        1       0   39      10       86337       24026     38654     30705   \n",
       "2        2       1   28       4       80109       27936     35903     32350   \n",
       "3        3       1   24       1       61679       40872     14617     36879   \n",
       "4        4       0   18       7       51043       27089     44802     32440   \n",
       "5        5       1   67       4       67132       20153     48222     49878   \n",
       "...    ...     ...  ...     ...         ...         ...       ...       ...   \n",
       "996    996       0   46       9       29503       18727     26805     15040   \n",
       "997    997       0   69       9       20582       57674      5360      5886   \n",
       "998    998       0   28       6       76646       16573     29042     17194   \n",
       "999    999       1   43       6       81112       49989     46785     31743   \n",
       "1000  1000       0   62       4       40261       74062     23249      1161   \n",
       "\n",
       "      quantity_19  quantity_20  time_19  time_20  amount_19  amount_20  sales  \n",
       "1              73           42       20       11    2821742    1289610  False  \n",
       "2              48           77       23       22    1723344    2490950   True  \n",
       "3              60            2       19       21     877020      73758  False  \n",
       "4              57           94       22       10    2553714    3049360   True  \n",
       "5              80           58        9       21    3857760    2892924  False  \n",
       "...           ...          ...      ...      ...        ...        ...    ...  \n",
       "996            52           19       17        7    1393860     285760  False  \n",
       "997            19           50       21       16     101840     294300   True  \n",
       "998            43           58        4       20    1248806     997252  False  \n",
       "999            98           89        4       14    4584930    2825127  False  \n",
       "1000           73           41       24        2    1697177      47601  False  \n",
       "\n",
       "[1000 rows x 15 columns]"
      ]
     },
     "execution_count": 27,
     "metadata": {},
     "output_type": "execute_result"
    }
   ],
   "source": [
    "import numpy as np\n",
    "import pandas as pd\n",
    "ar = np.zeros((1000,15))\n",
    "columns = ['id', 'gender', 'age', 'region', 'product_19', 'product_20', 'price_19', 'price_20', 'quantity_19','quantity_20','time_19','time_20','amount_19','amount_20','sales']\n",
    "index = [np.arange(1,1001)]\n",
    "df = pd.DataFrame(ar,index,columns = columns)\n",
    "df.id = np.arange(1,1001)\n",
    "np.random.seed(0)\n",
    "df.gender = np.random.randint(2, size = 1000)\n",
    "df.age = np.random.randint(0,81, size = 1000)\n",
    "df.region = np.random.randint(1,11, size = 1000)\n",
    "df.product_19 = np.random.randint(11111,100000, size = 1000)\n",
    "df.product_20 = np.random.randint(11111,100000, size = 1000)\n",
    "df.price_19 =  np.random.randint(1000,50001, size = 1000)\n",
    "df.price_20 =  np.random.randint(1000,50001, size = 1000)\n",
    "df.quantity_19 = np.random.randint(1,101, size = 1000)\n",
    "df.quantity_20 = np.random.randint(1,101, size = 1000)\n",
    "df.time_19 = np.random.randint(1,25, size = 1000)\n",
    "df.time_20 = np.random.randint(1,25, size = 1000)\n",
    "df.amount_19 = df.price_19 * df.quantity_19\n",
    "df.amount_20 = df.price_20 * df.quantity_20\n",
    "df.sales = df.amount_19 < df.amount_20\n",
    "df"
   ]
  },
  {
   "cell_type": "code",
   "execution_count": 33,
   "id": "3a9d8f6e",
   "metadata": {},
   "outputs": [
    {
     "data": {
      "text/html": [
       "<div>\n",
       "<style scoped>\n",
       "    .dataframe tbody tr th:only-of-type {\n",
       "        vertical-align: middle;\n",
       "    }\n",
       "\n",
       "    .dataframe tbody tr th {\n",
       "        vertical-align: top;\n",
       "    }\n",
       "\n",
       "    .dataframe thead th {\n",
       "        text-align: right;\n",
       "    }\n",
       "</style>\n",
       "<table border=\"1\" class=\"dataframe\">\n",
       "  <thead>\n",
       "    <tr style=\"text-align: right;\">\n",
       "      <th></th>\n",
       "      <th>ID</th>\n",
       "      <th>Gender</th>\n",
       "      <th>Age</th>\n",
       "      <th>Region</th>\n",
       "      <th>Product_19</th>\n",
       "      <th>Product_20</th>\n",
       "      <th>Price_19</th>\n",
       "      <th>Price_20</th>\n",
       "      <th>Quantity_19</th>\n",
       "      <th>Quantity_20</th>\n",
       "      <th>Time_19</th>\n",
       "      <th>Time_20</th>\n",
       "      <th>Amount_19</th>\n",
       "      <th>Amount_20</th>\n",
       "      <th>Sales</th>\n",
       "    </tr>\n",
       "  </thead>\n",
       "  <tbody>\n",
       "    <tr>\n",
       "      <th>1</th>\n",
       "      <td>956</td>\n",
       "      <td>1</td>\n",
       "      <td>40</td>\n",
       "      <td>4</td>\n",
       "      <td>91832</td>\n",
       "      <td>42125</td>\n",
       "      <td>49538.80</td>\n",
       "      <td>28910.75</td>\n",
       "      <td>100</td>\n",
       "      <td>62</td>\n",
       "      <td>10</td>\n",
       "      <td>12</td>\n",
       "      <td>4953880.00</td>\n",
       "      <td>1792466.50</td>\n",
       "      <td>0</td>\n",
       "    </tr>\n",
       "    <tr>\n",
       "      <th>2</th>\n",
       "      <td>931</td>\n",
       "      <td>1</td>\n",
       "      <td>8</td>\n",
       "      <td>3</td>\n",
       "      <td>35663</td>\n",
       "      <td>17634</td>\n",
       "      <td>18519.62</td>\n",
       "      <td>47085.28</td>\n",
       "      <td>37</td>\n",
       "      <td>96</td>\n",
       "      <td>5</td>\n",
       "      <td>18</td>\n",
       "      <td>685225.94</td>\n",
       "      <td>4520186.88</td>\n",
       "      <td>1</td>\n",
       "    </tr>\n",
       "    <tr>\n",
       "      <th>3</th>\n",
       "      <td>620</td>\n",
       "      <td>1</td>\n",
       "      <td>21</td>\n",
       "      <td>8</td>\n",
       "      <td>29714</td>\n",
       "      <td>78011</td>\n",
       "      <td>20066.49</td>\n",
       "      <td>48364.69</td>\n",
       "      <td>87</td>\n",
       "      <td>68</td>\n",
       "      <td>5</td>\n",
       "      <td>5</td>\n",
       "      <td>1745784.63</td>\n",
       "      <td>3288798.92</td>\n",
       "      <td>1</td>\n",
       "    </tr>\n",
       "    <tr>\n",
       "      <th>4</th>\n",
       "      <td>72</td>\n",
       "      <td>1</td>\n",
       "      <td>60</td>\n",
       "      <td>9</td>\n",
       "      <td>78975</td>\n",
       "      <td>18572</td>\n",
       "      <td>41950.45</td>\n",
       "      <td>42369.23</td>\n",
       "      <td>27</td>\n",
       "      <td>22</td>\n",
       "      <td>1</td>\n",
       "      <td>14</td>\n",
       "      <td>1132662.15</td>\n",
       "      <td>932123.06</td>\n",
       "      <td>0</td>\n",
       "    </tr>\n",
       "    <tr>\n",
       "      <th>5</th>\n",
       "      <td>559</td>\n",
       "      <td>0</td>\n",
       "      <td>46</td>\n",
       "      <td>7</td>\n",
       "      <td>24692</td>\n",
       "      <td>32655</td>\n",
       "      <td>31532.14</td>\n",
       "      <td>44558.13</td>\n",
       "      <td>28</td>\n",
       "      <td>4</td>\n",
       "      <td>8</td>\n",
       "      <td>10</td>\n",
       "      <td>882899.92</td>\n",
       "      <td>178232.52</td>\n",
       "      <td>0</td>\n",
       "    </tr>\n",
       "    <tr>\n",
       "      <th>6</th>\n",
       "      <td>233</td>\n",
       "      <td>0</td>\n",
       "      <td>70</td>\n",
       "      <td>3</td>\n",
       "      <td>45018</td>\n",
       "      <td>31773</td>\n",
       "      <td>4482.75</td>\n",
       "      <td>45348.78</td>\n",
       "      <td>60</td>\n",
       "      <td>89</td>\n",
       "      <td>13</td>\n",
       "      <td>21</td>\n",
       "      <td>268965.00</td>\n",
       "      <td>4036041.42</td>\n",
       "      <td>1</td>\n",
       "    </tr>\n",
       "    <tr>\n",
       "      <th>7</th>\n",
       "      <td>357</td>\n",
       "      <td>0</td>\n",
       "      <td>78</td>\n",
       "      <td>3</td>\n",
       "      <td>60918</td>\n",
       "      <td>92382</td>\n",
       "      <td>3825.36</td>\n",
       "      <td>4751.31</td>\n",
       "      <td>76</td>\n",
       "      <td>11</td>\n",
       "      <td>15</td>\n",
       "      <td>3</td>\n",
       "      <td>290727.36</td>\n",
       "      <td>52264.41</td>\n",
       "      <td>0</td>\n",
       "    </tr>\n",
       "    <tr>\n",
       "      <th>8</th>\n",
       "      <td>148</td>\n",
       "      <td>0</td>\n",
       "      <td>20</td>\n",
       "      <td>10</td>\n",
       "      <td>37398</td>\n",
       "      <td>80951</td>\n",
       "      <td>26899.57</td>\n",
       "      <td>43005.76</td>\n",
       "      <td>32</td>\n",
       "      <td>69</td>\n",
       "      <td>23</td>\n",
       "      <td>18</td>\n",
       "      <td>860786.24</td>\n",
       "      <td>2967397.44</td>\n",
       "      <td>1</td>\n",
       "    </tr>\n",
       "    <tr>\n",
       "      <th>9</th>\n",
       "      <td>267</td>\n",
       "      <td>1</td>\n",
       "      <td>48</td>\n",
       "      <td>6</td>\n",
       "      <td>11258</td>\n",
       "      <td>34641</td>\n",
       "      <td>20442.24</td>\n",
       "      <td>21371.29</td>\n",
       "      <td>4</td>\n",
       "      <td>72</td>\n",
       "      <td>7</td>\n",
       "      <td>4</td>\n",
       "      <td>81768.96</td>\n",
       "      <td>1538732.88</td>\n",
       "      <td>1</td>\n",
       "    </tr>\n",
       "    <tr>\n",
       "      <th>10</th>\n",
       "      <td>474</td>\n",
       "      <td>0</td>\n",
       "      <td>76</td>\n",
       "      <td>1</td>\n",
       "      <td>85721</td>\n",
       "      <td>81941</td>\n",
       "      <td>37036.87</td>\n",
       "      <td>3090.66</td>\n",
       "      <td>100</td>\n",
       "      <td>15</td>\n",
       "      <td>21</td>\n",
       "      <td>13</td>\n",
       "      <td>3703687.00</td>\n",
       "      <td>46359.90</td>\n",
       "      <td>0</td>\n",
       "    </tr>\n",
       "  </tbody>\n",
       "</table>\n",
       "</div>"
      ],
      "text/plain": [
       "     ID  Gender  Age  Region  Product_19  Product_20  Price_19  Price_20  \\\n",
       "1   956       1   40       4       91832       42125  49538.80  28910.75   \n",
       "2   931       1    8       3       35663       17634  18519.62  47085.28   \n",
       "3   620       1   21       8       29714       78011  20066.49  48364.69   \n",
       "4    72       1   60       9       78975       18572  41950.45  42369.23   \n",
       "5   559       0   46       7       24692       32655  31532.14  44558.13   \n",
       "6   233       0   70       3       45018       31773   4482.75  45348.78   \n",
       "7   357       0   78       3       60918       92382   3825.36   4751.31   \n",
       "8   148       0   20      10       37398       80951  26899.57  43005.76   \n",
       "9   267       1   48       6       11258       34641  20442.24  21371.29   \n",
       "10  474       0   76       1       85721       81941  37036.87   3090.66   \n",
       "\n",
       "    Quantity_19  Quantity_20  Time_19  Time_20   Amount_19   Amount_20  Sales  \n",
       "1           100           62       10       12  4953880.00  1792466.50      0  \n",
       "2            37           96        5       18   685225.94  4520186.88      1  \n",
       "3            87           68        5        5  1745784.63  3288798.92      1  \n",
       "4            27           22        1       14  1132662.15   932123.06      0  \n",
       "5            28            4        8       10   882899.92   178232.52      0  \n",
       "6            60           89       13       21   268965.00  4036041.42      1  \n",
       "7            76           11       15        3   290727.36    52264.41      0  \n",
       "8            32           69       23       18   860786.24  2967397.44      1  \n",
       "9             4           72        7        4    81768.96  1538732.88      1  \n",
       "10          100           15       21       13  3703687.00    46359.90      0  "
      ]
     },
     "execution_count": 33,
     "metadata": {},
     "output_type": "execute_result"
    }
   ],
   "source": [
    "import numpy as np\n",
    "import pandas as pd\n",
    "\n",
    "arr = np.zeros((10,15))\n",
    "col = ['ID','Gender','Age','Region','Product_19','Product_20','Price_19','Price_20',\n",
    "       'Quantity_19','Quantity_20','Time_19','Time_20','Amount_19','Amount_20','Sales']\n",
    "index = np.arange(1,11)\n",
    "df = pd.DataFrame(arr,index,col)\n",
    "\n",
    "p19 = np.random.uniform(1000,50001,10).round(2)\n",
    "q19 = np.random.randint(1,101,size=10)\n",
    "p20 = np.random.uniform(1000,50001,10).round(2)\n",
    "q20 = np.random.randint(1,101,size=10)\n",
    "\n",
    "df.ID = np.random.randint(1,1001,size=10)\n",
    "df.Gender = np.random.randint(2,size=10)\n",
    "df.Age = np.random.randint(80,size=10)\n",
    "df.Region = np.random.randint(1,11,size=10)\n",
    "df.Product_19 = np.random.randint(11111,100000,size=10)\n",
    "df.Product_20 = np.random.randint(11111,100000,size=10)\n",
    "df.Price_19 = p19\n",
    "df.Price_20 = p20\n",
    "df.Quantity_19 = q19\n",
    "df.Quantity_20 = q20\n",
    "df.Time_19 = np.random.randint(1,25,size=10)\n",
    "df.Time_20 = np.random.randint(1,25,size=10)\n",
    "df.Amount_19 = p19*q19\n",
    "df.Amount_20 = p20*q20\n",
    "df.Sales = np.where(df.Amount_20-df.Amount_19>0,1,0)\n",
    "\n",
    "df"
   ]
  },
  {
   "cell_type": "code",
   "execution_count": 37,
   "id": "bec545fd",
   "metadata": {},
   "outputs": [
    {
     "data": {
      "text/html": [
       "<div>\n",
       "<style scoped>\n",
       "    .dataframe tbody tr th:only-of-type {\n",
       "        vertical-align: middle;\n",
       "    }\n",
       "\n",
       "    .dataframe tbody tr th {\n",
       "        vertical-align: top;\n",
       "    }\n",
       "\n",
       "    .dataframe thead th {\n",
       "        text-align: right;\n",
       "    }\n",
       "</style>\n",
       "<table border=\"1\" class=\"dataframe\">\n",
       "  <thead>\n",
       "    <tr style=\"text-align: right;\">\n",
       "      <th></th>\n",
       "      <th>id</th>\n",
       "      <th>gender</th>\n",
       "      <th>age</th>\n",
       "      <th>region</th>\n",
       "      <th>product_19</th>\n",
       "      <th>product_20</th>\n",
       "      <th>price_19</th>\n",
       "      <th>price_20</th>\n",
       "      <th>quantity_19</th>\n",
       "      <th>quantity_20</th>\n",
       "      <th>time_19</th>\n",
       "      <th>time_20</th>\n",
       "      <th>amount_19</th>\n",
       "      <th>amount_20</th>\n",
       "      <th>sales</th>\n",
       "    </tr>\n",
       "  </thead>\n",
       "  <tbody>\n",
       "    <tr>\n",
       "      <th>0</th>\n",
       "      <td>730</td>\n",
       "      <td>남</td>\n",
       "      <td>53</td>\n",
       "      <td>6</td>\n",
       "      <td>DJ890</td>\n",
       "      <td>JS958</td>\n",
       "      <td>45292.07</td>\n",
       "      <td>312193.32</td>\n",
       "      <td>91</td>\n",
       "      <td>58</td>\n",
       "      <td>10</td>\n",
       "      <td>19</td>\n",
       "      <td>4121578.32</td>\n",
       "      <td>18107212.59</td>\n",
       "      <td>1.00</td>\n",
       "    </tr>\n",
       "    <tr>\n",
       "      <th>1</th>\n",
       "      <td>148</td>\n",
       "      <td>여</td>\n",
       "      <td>54</td>\n",
       "      <td>3</td>\n",
       "      <td>KW578</td>\n",
       "      <td>DJ261</td>\n",
       "      <td>329169.87</td>\n",
       "      <td>363535.74</td>\n",
       "      <td>84</td>\n",
       "      <td>48</td>\n",
       "      <td>15</td>\n",
       "      <td>12</td>\n",
       "      <td>27650268.74</td>\n",
       "      <td>17449715.73</td>\n",
       "      <td>0.00</td>\n",
       "    </tr>\n",
       "    <tr>\n",
       "      <th>2</th>\n",
       "      <td>555</td>\n",
       "      <td>여</td>\n",
       "      <td>43</td>\n",
       "      <td>7</td>\n",
       "      <td>DN081</td>\n",
       "      <td>BB417</td>\n",
       "      <td>38428.17</td>\n",
       "      <td>140734.44</td>\n",
       "      <td>55</td>\n",
       "      <td>31</td>\n",
       "      <td>09</td>\n",
       "      <td>17</td>\n",
       "      <td>2113549.09</td>\n",
       "      <td>4362767.50</td>\n",
       "      <td>1.00</td>\n",
       "    </tr>\n",
       "    <tr>\n",
       "      <th>3</th>\n",
       "      <td>19</td>\n",
       "      <td>남</td>\n",
       "      <td>20</td>\n",
       "      <td>3</td>\n",
       "      <td>HG098</td>\n",
       "      <td>YZ270</td>\n",
       "      <td>454102.63</td>\n",
       "      <td>275715.54</td>\n",
       "      <td>48</td>\n",
       "      <td>47</td>\n",
       "      <td>23</td>\n",
       "      <td>04</td>\n",
       "      <td>21796926.46</td>\n",
       "      <td>12958630.60</td>\n",
       "      <td>0.00</td>\n",
       "    </tr>\n",
       "    <tr>\n",
       "      <th>4</th>\n",
       "      <td>636</td>\n",
       "      <td>남</td>\n",
       "      <td>20</td>\n",
       "      <td>7</td>\n",
       "      <td>TL636</td>\n",
       "      <td>ZC427</td>\n",
       "      <td>110001.78</td>\n",
       "      <td>80217.60</td>\n",
       "      <td>44</td>\n",
       "      <td>8</td>\n",
       "      <td>18</td>\n",
       "      <td>12</td>\n",
       "      <td>4840078.29</td>\n",
       "      <td>641740.77</td>\n",
       "      <td>0.00</td>\n",
       "    </tr>\n",
       "    <tr>\n",
       "      <th>...</th>\n",
       "      <td>...</td>\n",
       "      <td>...</td>\n",
       "      <td>...</td>\n",
       "      <td>...</td>\n",
       "      <td>...</td>\n",
       "      <td>...</td>\n",
       "      <td>...</td>\n",
       "      <td>...</td>\n",
       "      <td>...</td>\n",
       "      <td>...</td>\n",
       "      <td>...</td>\n",
       "      <td>...</td>\n",
       "      <td>...</td>\n",
       "      <td>...</td>\n",
       "      <td>...</td>\n",
       "    </tr>\n",
       "    <tr>\n",
       "      <th>995</th>\n",
       "      <td>629</td>\n",
       "      <td>여</td>\n",
       "      <td>9</td>\n",
       "      <td>7</td>\n",
       "      <td>KB840</td>\n",
       "      <td>DE659</td>\n",
       "      <td>408296.63</td>\n",
       "      <td>399238.55</td>\n",
       "      <td>64</td>\n",
       "      <td>91</td>\n",
       "      <td>16</td>\n",
       "      <td>07</td>\n",
       "      <td>26130984.46</td>\n",
       "      <td>36330707.62</td>\n",
       "      <td>1.00</td>\n",
       "    </tr>\n",
       "    <tr>\n",
       "      <th>996</th>\n",
       "      <td>888</td>\n",
       "      <td>여</td>\n",
       "      <td>79</td>\n",
       "      <td>3</td>\n",
       "      <td>DX718</td>\n",
       "      <td>NE614</td>\n",
       "      <td>294574.22</td>\n",
       "      <td>259601.77</td>\n",
       "      <td>89</td>\n",
       "      <td>10</td>\n",
       "      <td>12</td>\n",
       "      <td>23</td>\n",
       "      <td>26217105.18</td>\n",
       "      <td>2596017.68</td>\n",
       "      <td>0.00</td>\n",
       "    </tr>\n",
       "    <tr>\n",
       "      <th>997</th>\n",
       "      <td>719</td>\n",
       "      <td>남</td>\n",
       "      <td>70</td>\n",
       "      <td>8</td>\n",
       "      <td>ZU787</td>\n",
       "      <td>TR995</td>\n",
       "      <td>209705.16</td>\n",
       "      <td>394056.39</td>\n",
       "      <td>75</td>\n",
       "      <td>63</td>\n",
       "      <td>12</td>\n",
       "      <td>02</td>\n",
       "      <td>15727886.91</td>\n",
       "      <td>24825552.84</td>\n",
       "      <td>1.00</td>\n",
       "    </tr>\n",
       "    <tr>\n",
       "      <th>998</th>\n",
       "      <td>810</td>\n",
       "      <td>여</td>\n",
       "      <td>59</td>\n",
       "      <td>6</td>\n",
       "      <td>WV055</td>\n",
       "      <td>QQ325</td>\n",
       "      <td>445873.21</td>\n",
       "      <td>246333.26</td>\n",
       "      <td>73</td>\n",
       "      <td>48</td>\n",
       "      <td>01</td>\n",
       "      <td>17</td>\n",
       "      <td>32548744.55</td>\n",
       "      <td>11823996.72</td>\n",
       "      <td>0.00</td>\n",
       "    </tr>\n",
       "    <tr>\n",
       "      <th>999</th>\n",
       "      <td>635</td>\n",
       "      <td>남</td>\n",
       "      <td>10</td>\n",
       "      <td>4</td>\n",
       "      <td>OY933</td>\n",
       "      <td>UE013</td>\n",
       "      <td>301538.68</td>\n",
       "      <td>327042.31</td>\n",
       "      <td>50</td>\n",
       "      <td>57</td>\n",
       "      <td>09</td>\n",
       "      <td>02</td>\n",
       "      <td>15076933.93</td>\n",
       "      <td>18641411.45</td>\n",
       "      <td>1.00</td>\n",
       "    </tr>\n",
       "  </tbody>\n",
       "</table>\n",
       "<p>1000 rows × 15 columns</p>\n",
       "</div>"
      ],
      "text/plain": [
       "      id gender  age  region product_19 product_20  price_19  price_20  \\\n",
       "0    730      남   53       6      DJ890      JS958  45292.07 312193.32   \n",
       "1    148      여   54       3      KW578      DJ261 329169.87 363535.74   \n",
       "2    555      여   43       7      DN081      BB417  38428.17 140734.44   \n",
       "3     19      남   20       3      HG098      YZ270 454102.63 275715.54   \n",
       "4    636      남   20       7      TL636      ZC427 110001.78  80217.60   \n",
       "..   ...    ...  ...     ...        ...        ...       ...       ...   \n",
       "995  629      여    9       7      KB840      DE659 408296.63 399238.55   \n",
       "996  888      여   79       3      DX718      NE614 294574.22 259601.77   \n",
       "997  719      남   70       8      ZU787      TR995 209705.16 394056.39   \n",
       "998  810      여   59       6      WV055      QQ325 445873.21 246333.26   \n",
       "999  635      남   10       4      OY933      UE013 301538.68 327042.31   \n",
       "\n",
       "     quantity_19  quantity_20 time_19 time_20   amount_19   amount_20  sales  \n",
       "0             91           58      10      19  4121578.32 18107212.59   1.00  \n",
       "1             84           48      15      12 27650268.74 17449715.73   0.00  \n",
       "2             55           31      09      17  2113549.09  4362767.50   1.00  \n",
       "3             48           47      23      04 21796926.46 12958630.60   0.00  \n",
       "4             44            8      18      12  4840078.29   641740.77   0.00  \n",
       "..           ...          ...     ...     ...         ...         ...    ...  \n",
       "995           64           91      16      07 26130984.46 36330707.62   1.00  \n",
       "996           89           10      12      23 26217105.18  2596017.68   0.00  \n",
       "997           75           63      12      02 15727886.91 24825552.84   1.00  \n",
       "998           73           48      01      17 32548744.55 11823996.72   0.00  \n",
       "999           50           57      09      02 15076933.93 18641411.45   1.00  \n",
       "\n",
       "[1000 rows x 15 columns]"
      ]
     },
     "execution_count": 37,
     "metadata": {},
     "output_type": "execute_result"
    }
   ],
   "source": [
    "import random\n",
    "import string\n",
    "import warnings\n",
    "warnings.filterwarnings('ignore')\n",
    "\n",
    "arr = np.zeros((1000,15))\n",
    "columns = ['id','gender','age','region','product_19','product_20','price_19','price_20','quantity_19','quantity_20','time_19','time_20','amount_19','amount_20','sales']\n",
    "index = [np.arange(1000)]\n",
    "df = pd.DataFrame(arr,index,columns = columns)\n",
    "\n",
    "id_arr = np.arange(1,1001) ; np.random.shuffle(id_arr) ; df.id = id_arr\n",
    "gender_ar = np.array(['남','여']) ; df.gender = np.array(np.random.choice(gender_ar) for _ in range(1000))\n",
    "df.age = np.random.randint(80,size = 1000)\n",
    "df.region = np.random.randint(10,size = 1000)\n",
    "def code(a):\n",
    "    li = []\n",
    "    for _ in range(a):\n",
    "        result = \"\"\n",
    "        for _ in range(2):\n",
    "            result += random.choice(string.ascii_uppercase)\n",
    "        for _ in range(3):\n",
    "            result += random.choice(string.digits)\n",
    "        li.append(result)\n",
    "    return np.array(li)\n",
    "df.product_19 = code(1000)\n",
    "df.product_20 = code(1000)\n",
    "df.price_19 = np.random.rand(1000)*499000+1000\n",
    "df.price_20 = np.random.rand(1000)*499000+1000\n",
    "df.quantity_19 = np.random.randint(1,101,size=1000)\n",
    "df.quantity_20 = np.random.randint(1,101,size=1000)\n",
    "time_ar = []\n",
    "for _ in range(1,25):                   # df.time_19 = np.random.randint(1,25,size=1000).astype(str)       # 이 방식 안돼..\n",
    "    time_ar.append(f'{_}'.zfill(2))     # df.time_19 = df.time_19.str.zfill(2)\n",
    "np.array(time_ar)\n",
    "df.time_19 = np.array(np.random.choice(time_ar) for _ in range(1000))\n",
    "df.time_20 = np.array(np.random.choice(time_ar) for _ in range(1000))\n",
    "# df.time_19 = np.random.randint(1,25,size=1000)\n",
    "# df.time_20 = np.random.randint(1,25,size=1000)\n",
    "df.amount_19 = df.price_19 * df.quantity_19\n",
    "df.amount_20 = df.price_20 * df.quantity_20\n",
    "for _ in range(1000):\n",
    "    if df.amount_19[_] <= df.amount_20[_]:\n",
    "        df.sales[_] = 1\n",
    "    else:\n",
    "        df.sales[_] = 0\n",
    "#pd.Series(df.sales).astype(int)\n",
    "pd.options.display.float_format = '{:.2f}'.format\n",
    "df"
   ]
  },
  {
   "cell_type": "code",
   "execution_count": 39,
   "id": "a16ae048",
   "metadata": {},
   "outputs": [
    {
     "data": {
      "text/html": [
       "<div>\n",
       "<style scoped>\n",
       "    .dataframe tbody tr th:only-of-type {\n",
       "        vertical-align: middle;\n",
       "    }\n",
       "\n",
       "    .dataframe tbody tr th {\n",
       "        vertical-align: top;\n",
       "    }\n",
       "\n",
       "    .dataframe thead th {\n",
       "        text-align: right;\n",
       "    }\n",
       "</style>\n",
       "<table border=\"1\" class=\"dataframe\">\n",
       "  <thead>\n",
       "    <tr style=\"text-align: right;\">\n",
       "      <th></th>\n",
       "      <th>id</th>\n",
       "      <th>gender</th>\n",
       "      <th>age</th>\n",
       "      <th>product_19</th>\n",
       "      <th>product_20</th>\n",
       "      <th>price_19</th>\n",
       "      <th>price_20</th>\n",
       "      <th>quantity_19</th>\n",
       "      <th>quantity_20</th>\n",
       "      <th>time_19</th>\n",
       "      <th>time_20</th>\n",
       "      <th>amount_19</th>\n",
       "      <th>amount_20</th>\n",
       "      <th>sales</th>\n",
       "    </tr>\n",
       "  </thead>\n",
       "  <tbody>\n",
       "    <tr>\n",
       "      <th>1</th>\n",
       "      <td>1</td>\n",
       "      <td>M</td>\n",
       "      <td>40</td>\n",
       "      <td>24227</td>\n",
       "      <td>55976</td>\n",
       "      <td>42900</td>\n",
       "      <td>17000</td>\n",
       "      <td>76</td>\n",
       "      <td>79</td>\n",
       "      <td>18</td>\n",
       "      <td>20</td>\n",
       "      <td>3260400</td>\n",
       "      <td>1343000</td>\n",
       "      <td>0</td>\n",
       "    </tr>\n",
       "    <tr>\n",
       "      <th>2</th>\n",
       "      <td>2</td>\n",
       "      <td>F</td>\n",
       "      <td>29</td>\n",
       "      <td>77462</td>\n",
       "      <td>78920</td>\n",
       "      <td>27400</td>\n",
       "      <td>38500</td>\n",
       "      <td>66</td>\n",
       "      <td>45</td>\n",
       "      <td>4</td>\n",
       "      <td>19</td>\n",
       "      <td>1808400</td>\n",
       "      <td>1732500</td>\n",
       "      <td>0</td>\n",
       "    </tr>\n",
       "    <tr>\n",
       "      <th>3</th>\n",
       "      <td>3</td>\n",
       "      <td>F</td>\n",
       "      <td>25</td>\n",
       "      <td>53750</td>\n",
       "      <td>46507</td>\n",
       "      <td>25600</td>\n",
       "      <td>49500</td>\n",
       "      <td>55</td>\n",
       "      <td>36</td>\n",
       "      <td>24</td>\n",
       "      <td>18</td>\n",
       "      <td>1408000</td>\n",
       "      <td>1782000</td>\n",
       "      <td>1</td>\n",
       "    </tr>\n",
       "    <tr>\n",
       "      <th>4</th>\n",
       "      <td>4</td>\n",
       "      <td>M</td>\n",
       "      <td>19</td>\n",
       "      <td>73611</td>\n",
       "      <td>29381</td>\n",
       "      <td>28000</td>\n",
       "      <td>19100</td>\n",
       "      <td>71</td>\n",
       "      <td>15</td>\n",
       "      <td>2</td>\n",
       "      <td>17</td>\n",
       "      <td>1988000</td>\n",
       "      <td>286500</td>\n",
       "      <td>0</td>\n",
       "    </tr>\n",
       "    <tr>\n",
       "      <th>5</th>\n",
       "      <td>5</td>\n",
       "      <td>F</td>\n",
       "      <td>68</td>\n",
       "      <td>82728</td>\n",
       "      <td>84075</td>\n",
       "      <td>1300</td>\n",
       "      <td>23200</td>\n",
       "      <td>20</td>\n",
       "      <td>90</td>\n",
       "      <td>3</td>\n",
       "      <td>20</td>\n",
       "      <td>26000</td>\n",
       "      <td>2088000</td>\n",
       "      <td>1</td>\n",
       "    </tr>\n",
       "  </tbody>\n",
       "</table>\n",
       "</div>"
      ],
      "text/plain": [
       "   id gender  age  product_19  product_20  price_19  price_20  quantity_19  \\\n",
       "1   1      M   40       24227       55976     42900     17000           76   \n",
       "2   2      F   29       77462       78920     27400     38500           66   \n",
       "3   3      F   25       53750       46507     25600     49500           55   \n",
       "4   4      M   19       73611       29381     28000     19100           71   \n",
       "5   5      F   68       82728       84075      1300     23200           20   \n",
       "\n",
       "   quantity_20  time_19  time_20  amount_19  amount_20  sales  \n",
       "1           79       18       20    3260400    1343000      0  \n",
       "2           45        4       19    1808400    1732500      0  \n",
       "3           36       24       18    1408000    1782000      1  \n",
       "4           15        2       17    1988000     286500      0  \n",
       "5           90        3       20      26000    2088000      1  "
      ]
     },
     "execution_count": 39,
     "metadata": {},
     "output_type": "execute_result"
    }
   ],
   "source": [
    "import warnings\n",
    "warnings.filterwarnings('ignore')\n",
    "import numpy as np\n",
    "import pandas as pd\n",
    "\n",
    "customer = 1000\n",
    "\n",
    "array = np.zeros((customer,14),dtype = int)\n",
    "df = pd.DataFrame(array,(np.arange(1,customer+1)),columns = ['id','gender','age','product_19','product_20','price_19','price_20','quantity_19','quantity_20','time_19','time_20','amount_19','amount_20','sales'])\n",
    "np.random.seed(0)\n",
    "df.id = np.arange(1,customer+1)\n",
    "df.gender = np.random.choice(['M','F'],customer)\n",
    "df.age = np.random.randint(1,81,size=customer)\n",
    "df.product_19 = np.random.randint(11111,100000,size = customer)\n",
    "df.product_20 = np.random.randint(11111,100000,size = customer)\n",
    "\n",
    "pricearray= np.random.randint(10,500,size = 100000)*100\n",
    "\n",
    "for i in range(1,customer+1):\n",
    "    df.price_19[i] = pricearray[df.product_19[i]]\n",
    "    df.price_20[i] = pricearray[df.product_20[i]]\n",
    "\n",
    "df.quantity_19 = np.random.randint(1,101,size = customer)\n",
    "df.quantity_20 = np.random.randint(1,101,size = customer)\n",
    "\n",
    "df.time_19 = np.random.randint(1,25,size = customer)\n",
    "df.time_20 = np.random.randint(1,25,size = customer)\n",
    "\n",
    "df.amount_19 = df.price_19*df.quantity_19\n",
    "df.amount_20 = df.price_20*df.quantity_20\n",
    "\n",
    "for i in range(1,customer+1):\n",
    "    if df.amount_20[i]>df.amount_19[i]:\n",
    "        df.sales[i] = 1\n",
    "    else:\n",
    "        df.sales[i] = 0\n",
    "\n",
    "df.head() # 앞의 5개만 출력"
   ]
  },
  {
   "cell_type": "code",
   "execution_count": 41,
   "id": "f4a00fb7",
   "metadata": {},
   "outputs": [
    {
     "name": "stdout",
     "output_type": "stream",
     "text": [
      "504\n"
     ]
    },
    {
     "data": {
      "text/html": [
       "<div>\n",
       "<style scoped>\n",
       "    .dataframe tbody tr th:only-of-type {\n",
       "        vertical-align: middle;\n",
       "    }\n",
       "\n",
       "    .dataframe tbody tr th {\n",
       "        vertical-align: top;\n",
       "    }\n",
       "\n",
       "    .dataframe thead th {\n",
       "        text-align: right;\n",
       "    }\n",
       "</style>\n",
       "<table border=\"1\" class=\"dataframe\">\n",
       "  <thead>\n",
       "    <tr style=\"text-align: right;\">\n",
       "      <th></th>\n",
       "      <th>id</th>\n",
       "      <th>gender</th>\n",
       "      <th>age</th>\n",
       "      <th>product_19</th>\n",
       "      <th>product_20</th>\n",
       "      <th>price_19</th>\n",
       "      <th>price_20</th>\n",
       "      <th>quantity_19</th>\n",
       "      <th>quantity_20</th>\n",
       "      <th>time_19</th>\n",
       "      <th>time_20</th>\n",
       "      <th>amount_19</th>\n",
       "      <th>amount_20</th>\n",
       "      <th>sales</th>\n",
       "    </tr>\n",
       "  </thead>\n",
       "  <tbody>\n",
       "    <tr>\n",
       "      <th>3</th>\n",
       "      <td>3</td>\n",
       "      <td>F</td>\n",
       "      <td>25</td>\n",
       "      <td>53750</td>\n",
       "      <td>46507</td>\n",
       "      <td>25600</td>\n",
       "      <td>49500</td>\n",
       "      <td>55</td>\n",
       "      <td>36</td>\n",
       "      <td>24</td>\n",
       "      <td>18</td>\n",
       "      <td>1408000</td>\n",
       "      <td>1782000</td>\n",
       "      <td>1</td>\n",
       "    </tr>\n",
       "    <tr>\n",
       "      <th>5</th>\n",
       "      <td>5</td>\n",
       "      <td>F</td>\n",
       "      <td>68</td>\n",
       "      <td>82728</td>\n",
       "      <td>84075</td>\n",
       "      <td>1300</td>\n",
       "      <td>23200</td>\n",
       "      <td>20</td>\n",
       "      <td>90</td>\n",
       "      <td>3</td>\n",
       "      <td>20</td>\n",
       "      <td>26000</td>\n",
       "      <td>2088000</td>\n",
       "      <td>1</td>\n",
       "    </tr>\n",
       "    <tr>\n",
       "      <th>6</th>\n",
       "      <td>6</td>\n",
       "      <td>F</td>\n",
       "      <td>45</td>\n",
       "      <td>86860</td>\n",
       "      <td>40802</td>\n",
       "      <td>2400</td>\n",
       "      <td>3800</td>\n",
       "      <td>61</td>\n",
       "      <td>66</td>\n",
       "      <td>4</td>\n",
       "      <td>9</td>\n",
       "      <td>146400</td>\n",
       "      <td>250800</td>\n",
       "      <td>1</td>\n",
       "    </tr>\n",
       "    <tr>\n",
       "      <th>7</th>\n",
       "      <td>7</td>\n",
       "      <td>F</td>\n",
       "      <td>46</td>\n",
       "      <td>28305</td>\n",
       "      <td>29878</td>\n",
       "      <td>42300</td>\n",
       "      <td>28600</td>\n",
       "      <td>3</td>\n",
       "      <td>45</td>\n",
       "      <td>11</td>\n",
       "      <td>12</td>\n",
       "      <td>126900</td>\n",
       "      <td>1287000</td>\n",
       "      <td>1</td>\n",
       "    </tr>\n",
       "    <tr>\n",
       "      <th>9</th>\n",
       "      <td>9</td>\n",
       "      <td>F</td>\n",
       "      <td>1</td>\n",
       "      <td>43834</td>\n",
       "      <td>64636</td>\n",
       "      <td>19800</td>\n",
       "      <td>18900</td>\n",
       "      <td>19</td>\n",
       "      <td>35</td>\n",
       "      <td>22</td>\n",
       "      <td>19</td>\n",
       "      <td>376200</td>\n",
       "      <td>661500</td>\n",
       "      <td>1</td>\n",
       "    </tr>\n",
       "  </tbody>\n",
       "</table>\n",
       "</div>"
      ],
      "text/plain": [
       "   id gender  age  product_19  product_20  price_19  price_20  quantity_19  \\\n",
       "3   3      F   25       53750       46507     25600     49500           55   \n",
       "5   5      F   68       82728       84075      1300     23200           20   \n",
       "6   6      F   45       86860       40802      2400      3800           61   \n",
       "7   7      F   46       28305       29878     42300     28600            3   \n",
       "9   9      F    1       43834       64636     19800     18900           19   \n",
       "\n",
       "   quantity_20  time_19  time_20  amount_19  amount_20  sales  \n",
       "3           36       24       18    1408000    1782000      1  \n",
       "5           90        3       20      26000    2088000      1  \n",
       "6           66        4        9     146400     250800      1  \n",
       "7           45       11       12     126900    1287000      1  \n",
       "9           35       22       19     376200     661500      1  "
      ]
     },
     "execution_count": 41,
     "metadata": {},
     "output_type": "execute_result"
    }
   ],
   "source": [
    "df[df.sales==0]\n",
    "print(len(df[df.sales ==0]))\n",
    "df[df.sales == 1].head()"
   ]
  }
 ],
 "metadata": {
  "kernelspec": {
   "display_name": "Python 3 (ipykernel)",
   "language": "python",
   "name": "python3"
  },
  "language_info": {
   "codemirror_mode": {
    "name": "ipython",
    "version": 3
   },
   "file_extension": ".py",
   "mimetype": "text/x-python",
   "name": "python",
   "nbconvert_exporter": "python",
   "pygments_lexer": "ipython3",
   "version": "3.8.12"
  }
 },
 "nbformat": 4,
 "nbformat_minor": 5
}
